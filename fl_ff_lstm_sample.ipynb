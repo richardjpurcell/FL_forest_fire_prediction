{
 "cells": [
  {
   "cell_type": "markdown",
   "id": "8b6a0b27",
   "metadata": {
    "id": "8b6a0b27"
   },
   "source": [
    "## A Simulated IOT Federated Learning Framework for Forest Fire Prediction"
   ]
  },
  {
   "cell_type": "markdown",
   "id": "707ffc16",
   "metadata": {
    "id": "707ffc16"
   },
   "source": [
    "Forest fire ignition prediction is essential to the safety of communities and the proper allocation of fire fighting resources. This notebook simulates a network of clients that collect local meteorological data. Each client participates in a federated learning system where a client trains a machine learning model to classify whether the area will have a forest fire ignition. The model weights of each client are shared with a central server that averages the weights and shares them back to the clients."
   ]
  },
  {
   "cell_type": "markdown",
   "id": "2cecf53e",
   "metadata": {
    "id": "2cecf53e"
   },
   "source": [
    "This notebook demonstrates the two machine learning types shown below.\n",
    "\n",
    "|<center>name|<center>server|<center>clients|<center>training|<center>training data|<center>evaluation type|<center>evaluation|<center>evaluation data|\n",
    "|---|---|---|---|---|---|---|---|\n",
    "|<center>central server ML|<center>yes|<center>no|<center>on server|<center>on server|<center>centralized|<center>on server|<center>on server|\n",
    "|<center>federated ML (Federated Eval)|<center>yes|<center>yes|<center>on clients|<center>on clients|<center>federated|<center>on clients|<center>on clients|\n"
   ]
  },
  {
   "cell_type": "markdown",
   "id": "75855b0f",
   "metadata": {
    "id": "75855b0f"
   },
   "source": [
    "The data used is from the paper: *Framework for Creating Forest Fire Ignition Prediction Datasets.* Each row represents meteorological data at a geographical location at a specific time. TODO: Add table example."
   ]
  },
  {
   "cell_type": "markdown",
   "id": "BHrXNUBl2pAJ",
   "metadata": {
    "id": "BHrXNUBl2pAJ"
   },
   "source": [
    "Much of the code used in this notebook is based on the Flower code examples located [here](https://github.com/adap/flower/tree/main/examples) and the Keras timeseries tutorials located [here](https://keras.io/examples/timeseries/).\n",
    "The code below is very much a work in progress. "
   ]
  },
  {
   "cell_type": "code",
   "execution_count": 51,
   "id": "dRK69YrCpyOz",
   "metadata": {
    "executionInfo": {
     "elapsed": 380,
     "status": "ok",
     "timestamp": 1686333925002,
     "user": {
      "displayName": "Richard Purcell",
      "userId": "01205565732471442549"
     },
     "user_tz": 180
    },
    "id": "dRK69YrCpyOz"
   },
   "outputs": [],
   "source": [
    "#if this file is being used in colab set to 1 otherwise 0\n",
    "using_colab = 1"
   ]
  },
  {
   "cell_type": "code",
   "execution_count": 52,
   "id": "48aKzyReXGuh",
   "metadata": {
    "colab": {
     "base_uri": "https://localhost:8080/"
    },
    "executionInfo": {
     "elapsed": 936,
     "status": "ok",
     "timestamp": 1686333926132,
     "user": {
      "displayName": "Richard Purcell",
      "userId": "01205565732471442549"
     },
     "user_tz": 180
    },
    "id": "48aKzyReXGuh",
    "outputId": "72864326-70ce-4029-f443-71927e7b01d6"
   },
   "outputs": [
    {
     "name": "stdout",
     "output_type": "stream",
     "text": [
      "Drive already mounted at /content/drive; to attempt to forcibly remount, call drive.mount(\"/content/drive\", force_remount=True).\n"
     ]
    }
   ],
   "source": [
    "if (using_colab == 1):\n",
    "    from google.colab import drive\n",
    "    drive.mount('/content/drive')"
   ]
  },
  {
   "cell_type": "code",
   "execution_count": 53,
   "id": "V1G82GuO-tez",
   "metadata": {
    "colab": {
     "base_uri": "https://localhost:8080/"
    },
    "executionInfo": {
     "elapsed": 5,
     "status": "ok",
     "timestamp": 1686333926133,
     "user": {
      "displayName": "Richard Purcell",
      "userId": "01205565732471442549"
     },
     "user_tz": 180
    },
    "id": "V1G82GuO-tez",
    "outputId": "8f39bd32-91c8-4b65-83d3-adebfeacad43"
   },
   "outputs": [
    {
     "name": "stdout",
     "output_type": "stream",
     "text": [
      "Your runtime has 54.8 gigabytes of available RAM\n",
      "\n",
      "You are using a high-RAM runtime!\n"
     ]
    }
   ],
   "source": [
    "if (using_colab ==1):\n",
    "    from psutil import virtual_memory\n",
    "    ram_gb = virtual_memory().total / 1e9\n",
    "    print('Your runtime has {:.1f} gigabytes of available RAM\\n'.format(ram_gb))\n",
    "\n",
    "    if ram_gb < 20:\n",
    "        print('Not using a high-RAM runtime')\n",
    "    else:\n",
    "        print('You are using a high-RAM runtime!')"
   ]
  },
  {
   "cell_type": "code",
   "execution_count": 54,
   "id": "aa962694",
   "metadata": {
    "executionInfo": {
     "elapsed": 3,
     "status": "ok",
     "timestamp": 1686333926133,
     "user": {
      "displayName": "Richard Purcell",
      "userId": "01205565732471442549"
     },
     "user_tz": 180
    },
    "id": "aa962694"
   },
   "outputs": [],
   "source": [
    "#load libraries\n",
    "import math\n",
    "import os\n",
    "import glob\n",
    "import gc\n",
    "import datetime\n",
    "import typing\n",
    "from typing import List\n",
    "from typing import Tuple\n",
    "from typing import Dict\n",
    "from typing import Optional\n",
    "import random\n",
    "import tempfile\n",
    "from tables.file import File\n",
    "\n",
    "import pandas as pd\n",
    "import numpy as np\n",
    "\n",
    "import tensorflow as tf\n",
    "from tensorflow import keras\n",
    "from keras import layers\n",
    "from keras import Model"
   ]
  },
  {
   "cell_type": "code",
   "execution_count": 55,
   "id": "m3mRWULZXpHu",
   "metadata": {
    "executionInfo": {
     "elapsed": 5856,
     "status": "ok",
     "timestamp": 1686333931986,
     "user": {
      "displayName": "Richard Purcell",
      "userId": "01205565732471442549"
     },
     "user_tz": 180
    },
    "id": "m3mRWULZXpHu"
   },
   "outputs": [],
   "source": [
    "if (using_colab == 1):\n",
    "    !pip install -q flwr[simulation] pandas"
   ]
  },
  {
   "cell_type": "code",
   "execution_count": 56,
   "id": "4ifacLONamYD",
   "metadata": {
    "executionInfo": {
     "elapsed": 11,
     "status": "ok",
     "timestamp": 1686333931987,
     "user": {
      "displayName": "Richard Purcell",
      "userId": "01205565732471442549"
     },
     "user_tz": 180
    },
    "id": "4ifacLONamYD"
   },
   "outputs": [],
   "source": [
    "import flwr as fl\n",
    "from flwr.common import Metrics"
   ]
  },
  {
   "cell_type": "code",
   "execution_count": 57,
   "id": "a4f6f82c",
   "metadata": {
    "colab": {
     "base_uri": "https://localhost:8080/"
    },
    "executionInfo": {
     "elapsed": 10,
     "status": "ok",
     "timestamp": 1686333931987,
     "user": {
      "displayName": "Richard Purcell",
      "userId": "01205565732471442549"
     },
     "user_tz": 180
    },
    "id": "a4f6f82c",
    "outputId": "ff48e523-7e6b-431e-a6d2-63d1cbfad514"
   },
   "outputs": [
    {
     "name": "stdout",
     "output_type": "stream",
     "text": [
      "Training on CPU using TensorFlow 2.12.0 and Flower 1.4.0\n"
     ]
    }
   ],
   "source": [
    "#overall environment settings\n",
    "\n",
    "# Make TensorFlow logs less verbose\n",
    "os.environ[\"TF_CPP_MIN_LOG_LEVEL\"] = \"3\"\n",
    "\n",
    "# Training on GPU or CPU?\n",
    "#tf.config.set_visible_devices([], 'CPU')\n",
    "print(\n",
    "    f\"Training on {'GPU' if tf.config.get_visible_devices('GPU') else 'CPU'} using TensorFlow {tf.__version__} and Flower {fl.__version__}\"\n",
    ")"
   ]
  },
  {
   "cell_type": "code",
   "execution_count": 58,
   "id": "2ebbef88",
   "metadata": {
    "executionInfo": {
     "elapsed": 7,
     "status": "ok",
     "timestamp": 1686333931987,
     "user": {
      "displayName": "Richard Purcell",
      "userId": "01205565732471442549"
     },
     "user_tz": 180
    },
    "id": "2ebbef88"
   },
   "outputs": [],
   "source": [
    "#global variables\n",
    "\n",
    "ml_type = 0 # classic ML = 0, federated ML w/ centralized evaluation = 1, federated ML w/ federated eval = 2\n",
    "\n",
    "federated_path = \"<path to your client datasets>\" \n",
    "centralized_path = \"<path to your server dataset\"\n",
    "results_path = \"<path to where you want to store results>\"\n",
    "\n",
    "\n",
    "cid = str(0) # preliminary client id\n",
    "log_dir = \"<path to where you want to store Tensorflow logs>\" + cid + \"_\" + datetime.datetime.now().strftime(\"%Y%m%d-%H%M%S\") \n",
    "\n",
    "downsample_test_set = 0 # 0 if test set not downsampled, 1 otherwise\n",
    "\n",
    "# TODO: Add the below to a client config file\n",
    "NUM_CLIENTS = 24\n",
    "num_rounds = 3\n",
    "epochs = 10 # the number of epochs classic machine learning will use\n",
    "fl_epochs = 3\n",
    "\n",
    "sequence_len = 120 # 5 days * 24 hours\n",
    "past_len = sequence_len\n",
    "future_len = 24 # 1*24 hours\n",
    "sampling_rate = 1 # in time series conversion use every row (hour) in loaded datasets\n",
    "sequence_stride = 1 # in time series conversion each series is this far apart\n",
    "\n",
    "#fraction_fit=0.75,  # Sample 10% of available clients for training\n",
    "#fraction_evaluate=0.25,  # Sample 5% of available clients for evaluation\n",
    "#min_fit_clients=12,  # Never sample less than 10 clients for training\n",
    "#min_evaluate_clients=6,  # Never sample less than 5 clients for evaluation\n",
    "#min_available_clients=12,  # Wait until at least 75 clients are available\n",
    "\n",
    "#create an array for results\n",
    "np.set_printoptions(suppress=True)\n",
    "results = np.empty([13,2])"
   ]
  },
  {
   "cell_type": "markdown",
   "id": "2951ebb8",
   "metadata": {
    "id": "2951ebb8"
   },
   "source": [
    "## Data loading functions"
   ]
  },
  {
   "cell_type": "code",
   "execution_count": 59,
   "id": "900620b0",
   "metadata": {
    "executionInfo": {
     "elapsed": 6,
     "status": "ok",
     "timestamp": 1686333931987,
     "user": {
      "displayName": "Richard Purcell",
      "userId": "01205565732471442549"
     },
     "user_tz": 180
    },
    "id": "900620b0"
   },
   "outputs": [],
   "source": [
    "def normalize_data(x):\n",
    "    \"\"\"Normalizes the data of an array by column. \n",
    "    Shifts and scales inputs into a distribution centered around 0 \n",
    "    with standard deviation 1.\n",
    "\n",
    "    Parameters\n",
    "    ----------\n",
    "    x: NDarray \n",
    "        An array of feature values.\n",
    "        \n",
    "    Returns\n",
    "    -------\n",
    "    features_normalized : NDarray\n",
    "        The original array, but normalized.\n",
    "    \"\"\"\n",
    "    data = x\n",
    "    layer = layers.Normalization()\n",
    "    layer.adapt(data)\n",
    "    features_normalized = layer(data)\n",
    "    return features_normalized"
   ]
  },
  {
   "cell_type": "code",
   "execution_count": 60,
   "id": "c91e58dc",
   "metadata": {
    "executionInfo": {
     "elapsed": 6,
     "status": "ok",
     "timestamp": 1686333931987,
     "user": {
      "displayName": "Richard Purcell",
      "userId": "01205565732471442549"
     },
     "user_tz": 180
    },
    "id": "c91e58dc"
   },
   "outputs": [],
   "source": [
    "def mask_create(x):\n",
    "    \"\"\"Finds the class count of the input array and creates a mask that can be used\n",
    "    to randomly downsample an array of labels so that the number of \n",
    "    negative labels = the number of positive labels. \n",
    "\n",
    "    Parameters\n",
    "    ----------\n",
    "    x: NDarray \n",
    "        An array of feature values.\n",
    "        \n",
    "    Returns\n",
    "    -------\n",
    "    features_normalized : NDarray\n",
    "        A masked version of the input array.\n",
    "    \"\"\"\n",
    "    mask_length = x.shape[0]\n",
    "    mask = tf.reshape(x, [mask_length])\n",
    "    y, idx, class_count = tf.unique_with_counts(mask)\n",
    "    ignition_count = tf.get_static_value(class_count[1])\n",
    "    mask = mask.numpy()\n",
    "    count = 0 \n",
    "    while count < ignition_count:\n",
    "        #rand_num = random.randint(0,mask_length)\n",
    "        rand_num = random.randint(1, mask_length-1)\n",
    "        if (mask[rand_num] == 0):\n",
    "            mask[rand_num] = 1\n",
    "            count += 1\n",
    "    return mask"
   ]
  },
  {
   "cell_type": "code",
   "execution_count": 61,
   "id": "84c16d68",
   "metadata": {
    "executionInfo": {
     "elapsed": 6,
     "status": "ok",
     "timestamp": 1686333931987,
     "user": {
      "displayName": "Richard Purcell",
      "userId": "01205565732471442549"
     },
     "user_tz": 180
    },
    "id": "84c16d68"
   },
   "outputs": [],
   "source": [
    "def load_datasets(path: str):\n",
    "    \"\"\"Loads all the csv datasets in a folder.\n",
    "    The loaded data is divided into train, validation, and test sets.\n",
    "    The data is turned into time series data\n",
    "    All the data is normalized.\n",
    "    Train and validation datasets are downsampled.\n",
    "    TODO: divide this function into smaller functions\n",
    "\n",
    "    Parameters\n",
    "    ----------\n",
    "    path: string \n",
    "        The path to the dataset folder.\n",
    "        \n",
    "    Returns\n",
    "    -------\n",
    "    train_x, train_y, val_x, val_y, test_x, test_y : NDarrays\n",
    "        A masked version of the input array.\n",
    "    \"\"\"\n",
    "\n",
    "    train_x = []\n",
    "    train_y = []\n",
    "    val_x = []\n",
    "    val_y = []\n",
    "    test_x = []\n",
    "    test_y = []\n",
    "\n",
    "    #load data\n",
    "    for filename in glob.glob(os.path.join(path, '*.csv')):\n",
    "        print(\"\\nnow reading \" + filename + \"\\n\")\n",
    "        #read file\n",
    "        df = pd.read_csv(filename, index_col=[0])\n",
    "        \n",
    "        df_train = df[(df['year'] < 2001)]\n",
    "        df_val = df[(df['year'] > 2001) & (df['year'] < 2012)]\n",
    "        df_test = df[(df['year'] >= 2012)]\n",
    "        \n",
    "        features = ['stl2', 't2m', 'stl1', 'stl3', 'skt', 'swvl1', 'd2m', 'swvl2']\n",
    "        train_features = df_train[features]\n",
    "        train_labels = df_train[[\"ignition\"]]\n",
    "        val_features = df_val[features]\n",
    "        val_labels = df_val[[\"ignition\"]]\n",
    "        test_features = df_test[features]\n",
    "        test_labels = df_test[[\"ignition\"]]\n",
    "        #convert to numpy\n",
    "        train_features = train_features.values\n",
    "        val_features = val_features.values\n",
    "        test_features = test_features.values\n",
    "\n",
    "        #normalize\n",
    "        train_features_normalize = normalize_data(train_features)\n",
    "        val_features_normalize = normalize_data(val_features)\n",
    "        test_features_normalize = normalize_data(test_features)\n",
    "        \n",
    "        #we want to predict at a future point\n",
    "        #so we clip the length of the features plus the hours till the future point\n",
    "        start = past_len + future_len\n",
    "        train_labels = train_labels.iloc[start:].values\n",
    "        val_labels = val_labels.iloc[start:].values\n",
    "        test_labels = test_labels.iloc[start:].values\n",
    "        \n",
    "        batch_size = 107856 #factor of 5136 (321 * 16)\n",
    "        #convert to time series data\n",
    "        train_dataset = keras.utils.timeseries_dataset_from_array(\n",
    "            train_features_normalize,\n",
    "            train_labels,\n",
    "            sampling_rate=sampling_rate,\n",
    "            sequence_length=sequence_len,\n",
    "            sequence_stride = sequence_stride,\n",
    "            shuffle=False,\n",
    "            batch_size=batch_size)\n",
    "\n",
    "        val_dataset = keras.utils.timeseries_dataset_from_array(\n",
    "            val_features_normalize,\n",
    "            val_labels,\n",
    "            sampling_rate=sampling_rate,\n",
    "            sequence_length=sequence_len,\n",
    "            sequence_stride = sequence_stride,\n",
    "            shuffle=False,\n",
    "            batch_size=batch_size)\n",
    "\n",
    "        test_dataset = keras.utils.timeseries_dataset_from_array(\n",
    "            test_features_normalize,\n",
    "            test_labels,\n",
    "            sampling_rate=sampling_rate,\n",
    "            sequence_length=sequence_len,\n",
    "            sequence_stride = sequence_stride,\n",
    "            shuffle=False,\n",
    "            batch_size=batch_size)\n",
    "        \n",
    "        #for bookkeeping print out the shapes of the datasets\n",
    "        for train_features, train_labels in train_dataset:\n",
    "            print(\"train_dataset features shape:\", train_features.shape)\n",
    "            print(\"targets_dataset labels shape:\", train_labels.shape)\n",
    "            break\n",
    "\n",
    "        for val_features, val_labels in val_dataset:\n",
    "            print(\"\\nval_dataset features shape:\", val_features.shape)\n",
    "            print(\"val_dataset labels shape:\", val_labels.shape)\n",
    "            break\n",
    "\n",
    "        for test_features, test_labels in test_dataset:\n",
    "            print(\"\\ntest_dataset features shape:\", test_features.shape)\n",
    "            print(\"test_dataset labels shape:\", test_labels.shape)\n",
    "            break\n",
    "       \n",
    "        # randomly downsample the data using masks\n",
    "        train_mask = mask_create(train_labels)\n",
    "        train_features_masked = tf.boolean_mask(train_features, train_mask)\n",
    "        train_labels_masked = tf.boolean_mask(train_labels, train_mask)\n",
    "        \n",
    "        val_mask = mask_create(val_labels)\n",
    "        val_features_masked = tf.boolean_mask(val_features, val_mask)\n",
    "        val_labels_masked = tf.boolean_mask(val_labels, val_mask)\n",
    "        \n",
    "        test_mask = mask_create(test_labels)\n",
    "        test_features_masked = tf.boolean_mask(test_features, test_mask)\n",
    "        test_labels_masked = tf.boolean_mask(test_labels, test_mask)\n",
    "        \n",
    "        train_x.append(train_features_masked)\n",
    "        train_y.append(train_labels_masked)\n",
    "        val_x.append(val_features_masked)\n",
    "        val_y.append(val_labels_masked)\n",
    "        if (downsample_test_set == 1):\n",
    "            test_x.append(test_features_masked)\n",
    "            test_y.append(test_labels_masked)\n",
    "        else:\n",
    "            test_x.append(test_features)\n",
    "            test_y.append(test_labels)\n",
    "        \n",
    "    print(\"\\nDone loading data.\\n\")\n",
    "    return train_x, train_y, val_x, val_y, test_x, test_y \n",
    "\n"
   ]
  },
  {
   "cell_type": "code",
   "execution_count": 62,
   "id": "54a0a5d0",
   "metadata": {
    "executionInfo": {
     "elapsed": 173,
     "status": "ok",
     "timestamp": 1686333932154,
     "user": {
      "displayName": "Richard Purcell",
      "userId": "01205565732471442549"
     },
     "user_tz": 180
    },
    "id": "54a0a5d0"
   },
   "outputs": [],
   "source": [
    "def get_value_count(x):\n",
    "    \"\"\"A helper function that returns the count of class labels.\n",
    "\n",
    "    Parameters\n",
    "    ----------\n",
    "    x: NDArray \n",
    "        An array with class labels.\n",
    "        \n",
    "    Returns\n",
    "    -------\n",
    "    non_ignition_count, ignition_count : int\n",
    "        The counts of the ignition class.\n",
    "    \"\"\"\n",
    "    length = x[0].shape[0]\n",
    "    x = tf.reshape(x, [length])\n",
    "    y, idx, class_count = tf.unique_with_counts(x)\n",
    "    non_ignition_count = tf.get_static_value(class_count[0])\n",
    "    ignition_count = tf.get_static_value(class_count[1])\n",
    "    return non_ignition_count, ignition_count\n",
    "    "
   ]
  },
  {
   "cell_type": "markdown",
   "id": "53ebf755",
   "metadata": {
    "id": "53ebf755"
   },
   "source": [
    "## Model and Metrics"
   ]
  },
  {
   "cell_type": "code",
   "execution_count": 63,
   "id": "4eadefbb",
   "metadata": {
    "executionInfo": {
     "elapsed": 5,
     "status": "ok",
     "timestamp": 1686333932154,
     "user": {
      "displayName": "Richard Purcell",
      "userId": "01205565732471442549"
     },
     "user_tz": 180
    },
    "id": "4eadefbb"
   },
   "outputs": [],
   "source": [
    "METRICS = [\n",
    "    keras.metrics.TruePositives(name='tp'),\n",
    "    keras.metrics.FalsePositives(name='fp'),\n",
    "    keras.metrics.TrueNegatives(name='tn'),\n",
    "    keras.metrics.FalseNegatives(name='fn'), \n",
    "    keras.metrics.BinaryAccuracy(name='accuracy'),\n",
    "    keras.metrics.Precision(name='precision'),\n",
    "    keras.metrics.Recall(name='recall'),\n",
    "    keras.metrics.AUC(name='auc'),\n",
    "    keras.metrics.AUC(name='prc', curve='PR'), # precision-recall curve\n",
    "    #keras.metrics.F1Score(name='f1_score'),#only available with nightly build\n",
    "]\n",
    "\n",
    "def make_model(metrics=METRICS):\n",
    "    inputs = keras.Input(shape=(sequence_len, trainloaders_x[0].shape[2]))\n",
    "    x = layers.LSTM(8, activation='sigmoid')(inputs)\n",
    "    x = layers.Flatten()(x)\n",
    "    outputs = layers.Dense(1, activation=\"sigmoid\")(x)\n",
    "    model = keras.Model(inputs, outputs)\n",
    "\n",
    "    model.compile(\n",
    "        optimizer=keras.optimizers.legacy.Adam(learning_rate=1e-3),\n",
    "        loss=keras.losses.BinaryCrossentropy(),\n",
    "        metrics=metrics)\n",
    "        \n",
    "    return model\n"
   ]
  },
  {
   "cell_type": "markdown",
   "id": "7c23cfe0",
   "metadata": {
    "id": "7c23cfe0"
   },
   "source": [
    "## Federated Learning Functions"
   ]
  },
  {
   "cell_type": "code",
   "execution_count": 64,
   "id": "a7420b5a",
   "metadata": {
    "executionInfo": {
     "elapsed": 5,
     "status": "ok",
     "timestamp": 1686333932154,
     "user": {
      "displayName": "Richard Purcell",
      "userId": "01205565732471442549"
     },
     "user_tz": 180
    },
    "id": "a7420b5a"
   },
   "outputs": [],
   "source": [
    "class FlowerClient(fl.client.NumPyClient):\n",
    "    \"\"\"Instantiates a FlowerClient object\n",
    "\n",
    "    Parameters\n",
    "    ----------\n",
    "    fl.client: NumPyClient\n",
    "        A premade helper client.\n",
    "    \"\"\"\n",
    "    def __init__(self, cid, model, x_train, y_train, x_val, y_val, x_test, y_test, tb_callback) -> None:\n",
    "        self.cid = cid\n",
    "        self.model = model\n",
    "        self.x_train, self.y_train = x_train, y_train\n",
    "        self.x_val, self.y_val = x_val, y_val\n",
    "        self.x_test, self.y_test = x_test, y_test\n",
    "        self.tb_callback = tb_callback\n",
    "\n",
    "    def get_parameters(self, config):\n",
    "        return self.model.get_weights()\n",
    "\n",
    "    # presetting config allows us to use FlowerClient with classic ml.\n",
    "    def fit(self, parameters, config = \"ServerConfig(num_rounds=5, round_timeout=None)\"):\n",
    "        print(\"in fit\")\n",
    "        server_round = config[\"server_round\"]\n",
    "        print(\"in server round: \", server_round)\n",
    "        self.model.set_weights(parameters)\n",
    "        self.model.fit(self.x_train, self.y_train, epochs=epochs, verbose=2, callbacks=self.tb_callback, validation_data=(self.x_val, self.y_val),)\n",
    "        return self.model.get_weights(), len(self.x_train), {}\n",
    "\n",
    "    def evaluate(self, parameters, config = \"ServerConfig(num_rounds=5, round_timeout=None)\"):\n",
    "        self.model.set_weights(parameters)\n",
    "        loss, tp, fp, tn, fn, accuracy, precision, recall, auc, prc  = self.model.evaluate(self.x_test, self.y_test, verbose=2)\n",
    "        print(\"Hi, the loss is \", loss)\n",
    "        return loss, len(self.x_val), {\"tp\": tp,\n",
    "                                       \"fp\": fp,\n",
    "                                       \"tn\": tn,\n",
    "                                       \"fn\": fn,\n",
    "                                       \"accuracy\": accuracy,\n",
    "                                       \"precision\": precision,\n",
    "                                       \"recall\": recall,\n",
    "                                       \"auc\": auc,\n",
    "                                       \"prc\": prc\n",
    "                                      }\n",
    "\n",
    "    # this method allows metrics to be passed when using a single server with no clients\n",
    "    def evaluate_single(self, x_test, y_test):\n",
    "        loss, tp, fp, tn, fn, accuracy, precision, recall, auc, prc = self.model.evaluate(x_test, y_test, verbose=2)\n",
    "        return loss, tp, fp, tn, fn, accuracy, precision, recall, auc, prc"
   ]
  },
  {
   "cell_type": "code",
   "execution_count": 65,
   "id": "f7a13013",
   "metadata": {
    "executionInfo": {
     "elapsed": 5,
     "status": "ok",
     "timestamp": 1686333932154,
     "user": {
      "displayName": "Richard Purcell",
      "userId": "01205565732471442549"
     },
     "user_tz": 180
    },
    "id": "f7a13013"
   },
   "outputs": [],
   "source": [
    "def client_fn(cid: str) -> fl.client.Client:\n",
    "    \"\"\"Instantiates the client object. \n",
    "\n",
    "    Parameters\n",
    "    ----------\n",
    "    cid: str \n",
    "        The client id.\n",
    "        \n",
    "    Returns\n",
    "    -------\n",
    "    cid : NDarray\n",
    "    model: model\n",
    "    test/val/test datasets: NDarray\n",
    "    tensorboard: tensorflow callbacks\n",
    "        Everything a client needs to create a ML model\n",
    "    \"\"\"\n",
    "\n",
    "    print(\"\\nThis is client: \", cid)\n",
    "\n",
    "    x_train_cid = trainloaders_x[int(cid)]\n",
    "    y_train_cid = trainloaders_y[int(cid)]\n",
    "    x_val_cid = valloaders_x[int(cid)]\n",
    "    y_val_cid = valloaders_y[int(cid)]\n",
    "    x_test_cid = testloaders_x[int(cid)]\n",
    "    y_test_cid = testloaders_y[int(cid)]\n",
    "\n",
    "    print(\"Loaded data for client: \", cid, \"\\n\")\n",
    "\n",
    "    METRICS = [\n",
    "        keras.metrics.TruePositives(name='tp'),\n",
    "        keras.metrics.FalsePositives(name='fp'),\n",
    "        keras.metrics.TrueNegatives(name='tn'),\n",
    "        keras.metrics.FalseNegatives(name='fn'), \n",
    "        keras.metrics.BinaryAccuracy(name='accuracy'),\n",
    "        keras.metrics.Precision(name='precision'),\n",
    "        keras.metrics.Recall(name='recall'),\n",
    "        keras.metrics.AUC(name='auc'),\n",
    "        keras.metrics.AUC(name='prc', curve='PR'), # precision-recall curve\n",
    "        #keras.metrics.F1Score(name='f1_score'),#only available with nightly build\n",
    "    ]\n",
    "\n",
    "    def make_model(metrics=METRICS):\n",
    "        inputs = keras.Input(shape=(sequence_len, x_train_cid.shape[2]))\n",
    "        x = layers.LSTM(8, activation='sigmoid')(inputs)\n",
    "        x = layers.Flatten()(x)\n",
    "        outputs = layers.Dense(1, activation=\"sigmoid\")(x)\n",
    "        model = keras.Model(inputs, outputs)\n",
    "\n",
    "        model.compile(\n",
    "            optimizer=keras.optimizers.legacy.Adam(learning_rate=1e-3),\n",
    "            loss=keras.losses.BinaryCrossentropy(),\n",
    "            metrics=metrics)\n",
    "        \n",
    "        return model\n",
    "    \n",
    "    print(\"Making model: \", cid)\n",
    "    model = make_model()\n",
    "    \n",
    "    tensorboard = tf.keras.callbacks.TensorBoard(log_dir=log_dir, histogram_freq=1)\n",
    "\n",
    "    tb_callback = keras.callbacks.TensorBoard(log_dir=\"logs/\", histogram_freq=1)\n",
    "\n",
    "    # Create and return client\n",
    "    print(\"\\nClient CID: \" + str(cid) + \" is done.\\n\")\n",
    "    return FlowerClient(cid, model, x_train_cid, y_train_cid, x_val_cid, y_val_cid, x_test_cid, y_test_cid, tensorboard)"
   ]
  },
  {
   "cell_type": "code",
   "execution_count": 68,
   "id": "a87fa766",
   "metadata": {
    "executionInfo": {
     "elapsed": 142,
     "status": "ok",
     "timestamp": 1686333958159,
     "user": {
      "displayName": "Richard Purcell",
      "userId": "01205565732471442549"
     },
     "user_tz": 180
    },
    "id": "a87fa766"
   },
   "outputs": [],
   "source": [
    "# TODO: this function isn't working correctly, have a look at it\n",
    "def weighted_average(metrics: List[Tuple[int, Metrics]]) -> Metrics:\n",
    "    \"\"\"A function for the final evaluation of the simulation. \n",
    "    All metrics are averaged and output.\n",
    "\n",
    "    Parameters\n",
    "    ----------\n",
    "    metrics: List \n",
    "        A list of the metrics being used\n",
    "        \n",
    "    Returns\n",
    "    -------\n",
    "     : Dict\n",
    "        A dictionary of the averaged results from each round.\n",
    "    \"\"\"\n",
    "    # Multiply each metric of each client by number of examples used\n",
    "    tps = [num_examples * m[\"tp\"] for num_examples, m in metrics]\n",
    "    fps = [num_examples * m[\"fp\"] for num_examples, m in metrics]\n",
    "    tns = [num_examples * m[\"tn\"] for num_examples, m in metrics]\n",
    "    fns = [num_examples * m[\"fn\"] for num_examples, m in metrics]\n",
    "    accuracies = [num_examples * m[\"accuracy\"] for num_examples, m in metrics]\n",
    "    precisions = [num_examples * m[\"precision\"] for num_examples, m in metrics]\n",
    "    recalls = [num_examples * m[\"recall\"] for num_examples, m in metrics]\n",
    "    aucs = [num_examples * m[\"auc\"] for num_examples, m in metrics]\n",
    "    prcs = [num_examples * m[\"prc\"] for num_examples, m in metrics]\n",
    "    examples = [num_examples for num_examples, _ in metrics]\n",
    "\n",
    "    # Aggregate and return custom metric (weighted average)\n",
    "    return {\"tp\": sum(tps) / sum(examples),\n",
    "            \"fp\": sum(fps) / sum(examples),\n",
    "            \"tn\": sum(tns) / sum(examples),\n",
    "            \"fn\": sum(fns) / sum(examples),\n",
    "            \"accuracy\": sum(accuracies) / sum(examples),\n",
    "            \"precision\": sum(precisions) / sum(examples),\n",
    "            \"recall\": sum(recalls) / sum(examples),\n",
    "            \"auc\": sum(aucs) / sum(examples),\n",
    "            \"prc\": sum(prcs) / sum(examples)\n",
    "           }"
   ]
  },
  {
   "cell_type": "code",
   "execution_count": 69,
   "id": "fjDd_kqOB5eu",
   "metadata": {
    "executionInfo": {
     "elapsed": 1,
     "status": "ok",
     "timestamp": 1686333961288,
     "user": {
      "displayName": "Richard Purcell",
      "userId": "01205565732471442549"
     },
     "user_tz": 180
    },
    "id": "fjDd_kqOB5eu"
   },
   "outputs": [],
   "source": [
    "def fit_config(server_round: int):\n",
    "    \"\"\"Passes information from the server to client.\n",
    "\n",
    "    Parameters\n",
    "    ----------\n",
    "    server_round: int\n",
    "        What server round simulation is in.\n",
    "        \n",
    "    Returns\n",
    "    -------\n",
    "    config : Dict\n",
    "        A dictionary of values.\n",
    "    \"\"\"\n",
    "    config = {\n",
    "        \"server_round\": server_round,  # The current round of federated learning\n",
    "        #\"local_epochs\": 1 if server_round < 2 else 2,  #\n",
    "    }\n",
    "    return config"
   ]
  },
  {
   "cell_type": "markdown",
   "id": "bae1c140",
   "metadata": {
    "id": "bae1c140"
   },
   "source": [
    "## Launch classic machine learning"
   ]
  },
  {
   "cell_type": "code",
   "execution_count": 70,
   "id": "b71106bc",
   "metadata": {
    "colab": {
     "base_uri": "https://localhost:8080/"
    },
    "executionInfo": {
     "elapsed": 18943,
     "status": "ok",
     "timestamp": 1686333982808,
     "user": {
      "displayName": "Richard Purcell",
      "userId": "01205565732471442549"
     },
     "user_tz": 180
    },
    "id": "b71106bc",
    "outputId": "d3e29aa2-3a5c-444b-a9b4-b28de75e34cf"
   },
   "outputs": [
    {
     "name": "stdout",
     "output_type": "stream",
     "text": [
      "\n",
      "now reading /content/drive/MyDrive/Colab Notebooks/FF/data/01_clients/dly_avg_1of1_50.csv\n",
      "\n",
      "train_dataset features shape: (107712, 120, 8)\n",
      "targets_dataset labels shape: (107712, 1)\n",
      "\n",
      "val_dataset features shape: (51216, 120, 8)\n",
      "val_dataset labels shape: (51216, 1)\n",
      "\n",
      "test_dataset features shape: (46080, 120, 8)\n",
      "test_dataset labels shape: (46080, 1)\n",
      "\n",
      "Done loading data.\n",
      "\n"
     ]
    }
   ],
   "source": [
    "# load the dataset for centralized evaluation (for classic ml training and testing) \n",
    "trainloaders_x, trainloaders_y, valloaders_x, valloaders_y, testloaders_x, testloaders_y = load_datasets(centralized_path)"
   ]
  },
  {
   "cell_type": "code",
   "execution_count": 71,
   "id": "5917c384",
   "metadata": {
    "colab": {
     "base_uri": "https://localhost:8080/"
    },
    "executionInfo": {
     "elapsed": 134,
     "status": "ok",
     "timestamp": 1686333984779,
     "user": {
      "displayName": "Richard Purcell",
      "userId": "01205565732471442549"
     },
     "user_tz": 180
    },
    "id": "5917c384",
    "outputId": "01be8dfa-d5ab-4f9f-a045-b72e51d7c977"
   },
   "outputs": [
    {
     "name": "stdout",
     "output_type": "stream",
     "text": [
      "Train set nonignitions and ignitions are: (2811, 2811)\n",
      "Validation set nonignitions and ignitions are: (2534, 2534)\n",
      "Test set nonignitions and ignitions are: (44719, 1361)\n"
     ]
    }
   ],
   "source": [
    "count = get_value_count(trainloaders_y)\n",
    "print(\"Train set nonignitions and ignitions are:\", count)\n",
    "count = get_value_count(valloaders_y)\n",
    "print(\"Validation set nonignitions and ignitions are:\", count)\n",
    "count = get_value_count(testloaders_y)\n",
    "print(\"Test set nonignitions and ignitions are:\", count)"
   ]
  },
  {
   "cell_type": "code",
   "execution_count": 72,
   "id": "bc87f2af",
   "metadata": {
    "executionInfo": {
     "elapsed": 140,
     "status": "ok",
     "timestamp": 1686333987785,
     "user": {
      "displayName": "Richard Purcell",
      "userId": "01205565732471442549"
     },
     "user_tz": 180
    },
    "id": "bc87f2af"
   },
   "outputs": [],
   "source": [
    "# create an initial model to prime flower client\n",
    "model = make_model()"
   ]
  },
  {
   "cell_type": "code",
   "execution_count": 73,
   "id": "644e8292",
   "metadata": {
    "colab": {
     "base_uri": "https://localhost:8080/"
    },
    "executionInfo": {
     "elapsed": 75647,
     "status": "ok",
     "timestamp": 1686334064559,
     "user": {
      "displayName": "Richard Purcell",
      "userId": "01205565732471442549"
     },
     "user_tz": 180
    },
    "id": "644e8292",
    "outputId": "43145fad-91f8-40e3-d8b5-ad05b77f57a6"
   },
   "outputs": [
    {
     "name": "stdout",
     "output_type": "stream",
     "text": [
      "\n",
      "This is client:  0\n",
      "Loaded data for client:  0 \n",
      "\n",
      "Making model:  0\n",
      "\n",
      "Client CID: 0 is done.\n",
      "\n",
      "in fit\n",
      "in server round:  0\n",
      "Epoch 1/10\n",
      "176/176 - 10s - loss: 0.6397 - tp: 1989.0000 - fp: 1135.0000 - tn: 1676.0000 - fn: 822.0000 - accuracy: 0.6519 - precision: 0.6367 - recall: 0.7076 - auc: 0.7053 - prc: 0.6994 - val_loss: 0.6202 - val_tp: 1838.0000 - val_fp: 931.0000 - val_tn: 1603.0000 - val_fn: 696.0000 - val_accuracy: 0.6790 - val_precision: 0.6638 - val_recall: 0.7253 - val_auc: 0.7163 - val_prc: 0.6838 - 10s/epoch - 60ms/step\n",
      "Epoch 2/10\n",
      "176/176 - 7s - loss: 0.6210 - tp: 1895.0000 - fp: 968.0000 - tn: 1843.0000 - fn: 916.0000 - accuracy: 0.6649 - precision: 0.6619 - recall: 0.6741 - auc: 0.7147 - prc: 0.7116 - val_loss: 0.6138 - val_tp: 1773.0000 - val_fp: 850.0000 - val_tn: 1684.0000 - val_fn: 761.0000 - val_accuracy: 0.6821 - val_precision: 0.6759 - val_recall: 0.6997 - val_auc: 0.7232 - val_prc: 0.6936 - 7s/epoch - 38ms/step\n",
      "Epoch 3/10\n",
      "176/176 - 7s - loss: 0.6167 - tp: 1870.0000 - fp: 911.0000 - tn: 1900.0000 - fn: 941.0000 - accuracy: 0.6706 - precision: 0.6724 - recall: 0.6652 - auc: 0.7193 - prc: 0.7200 - val_loss: 0.6104 - val_tp: 1699.0000 - val_fp: 753.0000 - val_tn: 1781.0000 - val_fn: 835.0000 - val_accuracy: 0.6867 - val_precision: 0.6929 - val_recall: 0.6705 - val_auc: 0.7299 - val_prc: 0.7047 - 7s/epoch - 40ms/step\n",
      "Epoch 4/10\n",
      "176/176 - 7s - loss: 0.6133 - tp: 1819.0000 - fp: 825.0000 - tn: 1986.0000 - fn: 992.0000 - accuracy: 0.6768 - precision: 0.6880 - recall: 0.6471 - auc: 0.7225 - prc: 0.7246 - val_loss: 0.6062 - val_tp: 1745.0000 - val_fp: 791.0000 - val_tn: 1743.0000 - val_fn: 789.0000 - val_accuracy: 0.6882 - val_precision: 0.6881 - val_recall: 0.6886 - val_auc: 0.7331 - val_prc: 0.7097 - 7s/epoch - 39ms/step\n",
      "Epoch 5/10\n",
      "176/176 - 7s - loss: 0.6100 - tp: 1813.0000 - fp: 805.0000 - tn: 2006.0000 - fn: 998.0000 - accuracy: 0.6793 - precision: 0.6925 - recall: 0.6450 - auc: 0.7256 - prc: 0.7304 - val_loss: 0.6028 - val_tp: 1722.0000 - val_fp: 757.0000 - val_tn: 1777.0000 - val_fn: 812.0000 - val_accuracy: 0.6904 - val_precision: 0.6946 - val_recall: 0.6796 - val_auc: 0.7380 - val_prc: 0.7193 - 7s/epoch - 38ms/step\n",
      "Epoch 6/10\n",
      "176/176 - 7s - loss: 0.6071 - tp: 1814.0000 - fp: 795.0000 - tn: 2016.0000 - fn: 997.0000 - accuracy: 0.6813 - precision: 0.6953 - recall: 0.6453 - auc: 0.7292 - prc: 0.7340 - val_loss: 0.5990 - val_tp: 1724.0000 - val_fp: 743.0000 - val_tn: 1791.0000 - val_fn: 810.0000 - val_accuracy: 0.6936 - val_precision: 0.6988 - val_recall: 0.6803 - val_auc: 0.7440 - val_prc: 0.7294 - 7s/epoch - 40ms/step\n",
      "Epoch 7/10\n",
      "176/176 - 7s - loss: 0.6041 - tp: 1826.0000 - fp: 796.0000 - tn: 2015.0000 - fn: 985.0000 - accuracy: 0.6832 - precision: 0.6964 - recall: 0.6496 - auc: 0.7328 - prc: 0.7388 - val_loss: 0.5956 - val_tp: 1713.0000 - val_fp: 719.0000 - val_tn: 1815.0000 - val_fn: 821.0000 - val_accuracy: 0.6961 - val_precision: 0.7044 - val_recall: 0.6760 - val_auc: 0.7476 - val_prc: 0.7339 - 7s/epoch - 38ms/step\n",
      "Epoch 8/10\n",
      "176/176 - 8s - loss: 0.6012 - tp: 1804.0000 - fp: 764.0000 - tn: 2047.0000 - fn: 1007.0000 - accuracy: 0.6850 - precision: 0.7025 - recall: 0.6418 - auc: 0.7355 - prc: 0.7445 - val_loss: 0.5920 - val_tp: 1726.0000 - val_fp: 717.0000 - val_tn: 1817.0000 - val_fn: 808.0000 - val_accuracy: 0.6991 - val_precision: 0.7065 - val_recall: 0.6811 - val_auc: 0.7510 - val_prc: 0.7382 - 8s/epoch - 43ms/step\n",
      "Epoch 9/10\n",
      "176/176 - 7s - loss: 0.5982 - tp: 1813.0000 - fp: 739.0000 - tn: 2072.0000 - fn: 998.0000 - accuracy: 0.6910 - precision: 0.7104 - recall: 0.6450 - auc: 0.7389 - prc: 0.7481 - val_loss: 0.5888 - val_tp: 1673.0000 - val_fp: 635.0000 - val_tn: 1899.0000 - val_fn: 861.0000 - val_accuracy: 0.7048 - val_precision: 0.7249 - val_recall: 0.6602 - val_auc: 0.7572 - val_prc: 0.7464 - 7s/epoch - 39ms/step\n",
      "Epoch 10/10\n",
      "176/176 - 9s - loss: 0.5955 - tp: 1813.0000 - fp: 729.0000 - tn: 2082.0000 - fn: 998.0000 - accuracy: 0.6928 - precision: 0.7132 - recall: 0.6450 - auc: 0.7424 - prc: 0.7500 - val_loss: 0.5851 - val_tp: 1692.0000 - val_fp: 652.0000 - val_tn: 1882.0000 - val_fn: 842.0000 - val_accuracy: 0.7052 - val_precision: 0.7218 - val_recall: 0.6677 - val_auc: 0.7605 - val_prc: 0.7481 - 9s/epoch - 49ms/step\n"
     ]
    }
   ],
   "source": [
    "# train single server classic ml\n",
    "# create a flower client that represents a classic ml single server\n",
    "central_server_model = client_fn(str(0))\n",
    "# set parameters for classic_ml so it can use single flower client function\n",
    "parameters = model.get_weights()\n",
    "# run fit\n",
    "config = fit_config(0)\n",
    "history = central_server_model.fit(parameters, config)"
   ]
  },
  {
   "cell_type": "code",
   "execution_count": 74,
   "id": "f25feff6",
   "metadata": {
    "colab": {
     "base_uri": "https://localhost:8080/"
    },
    "executionInfo": {
     "elapsed": 13983,
     "status": "ok",
     "timestamp": 1686334094534,
     "user": {
      "displayName": "Richard Purcell",
      "userId": "01205565732471442549"
     },
     "user_tz": 180
    },
    "id": "f25feff6",
    "outputId": "a91c743e-db58-402c-f2e8-0fa7edf0c825"
   },
   "outputs": [
    {
     "name": "stdout",
     "output_type": "stream",
     "text": [
      "1440/1440 - 14s - loss: 0.5937 - tp: 930.0000 - fp: 12505.0000 - tn: 32214.0000 - fn: 431.0000 - accuracy: 0.7193 - precision: 0.0692 - recall: 0.6833 - auc: 0.7574 - prc: 0.0844 - 14s/epoch - 10ms/step\n"
     ]
    }
   ],
   "source": [
    "#evaluate single server classic ml\n",
    "loss, tp, fp, tn, fn, accuracy, precision, recall, auc, prc = central_server_model.evaluate_single(testloaders_x[0], testloaders_y[0])"
   ]
  },
  {
   "cell_type": "code",
   "execution_count": 75,
   "id": "c8d17570",
   "metadata": {
    "colab": {
     "base_uri": "https://localhost:8080/"
    },
    "executionInfo": {
     "elapsed": 137,
     "status": "ok",
     "timestamp": 1686334096117,
     "user": {
      "displayName": "Richard Purcell",
      "userId": "01205565732471442549"
     },
     "user_tz": 180
    },
    "id": "c8d17570",
    "outputId": "92c2c686-8575-4a5a-afc5-f180e68657cb",
    "scrolled": true
   },
   "outputs": [
    {
     "name": "stdout",
     "output_type": "stream",
     "text": [
      "Single server classic ml evaluation\n",
      "\ttp:\t930\n",
      "\tfp:\t12505\n",
      "\ttn:\t32214\n",
      "\tfn:\t431\n",
      "\n",
      "\tloss:\t0.593685\n",
      "\tacc:\t0.719271\n",
      "\tprec:\t0.069222\n",
      "\trec:\t0.683321\n",
      "\tauc:\t0.757354\n",
      "\tprc:\t0.084407\n"
     ]
    }
   ],
   "source": [
    "print(\"Single server classic ml evaluation\\n\\\n",
    "\\ttp:\\t%d\\n\\\n",
    "\\tfp:\\t%d\\n\\\n",
    "\\ttn:\\t%d\\n\\\n",
    "\\tfn:\\t%d\\n\\n\\\n",
    "\\tloss:\\t%f\\n\\\n",
    "\\tacc:\\t%f\\n\\\n",
    "\\tprec:\\t%f\\n\\\n",
    "\\trec:\\t%f\\n\\\n",
    "\\tauc:\\t%f\\n\\\n",
    "\\tprc:\\t%f\\\n",
    "\" % (tp,fp,tn,fn,loss,accuracy,precision,recall,auc,prc))"
   ]
  },
  {
   "cell_type": "code",
   "execution_count": 76,
   "id": "n48rEmnnsToL",
   "metadata": {
    "executionInfo": {
     "elapsed": 147,
     "status": "ok",
     "timestamp": 1686334100252,
     "user": {
      "displayName": "Richard Purcell",
      "userId": "01205565732471442549"
     },
     "user_tz": 180
    },
    "id": "n48rEmnnsToL"
   },
   "outputs": [],
   "source": [
    "#write to results array\n",
    "results[0] = tp\n",
    "results[1][0] = fp\n",
    "results[2][0] = tn\n",
    "results[3][0] = fn\n",
    "results[4][0] = accuracy\n",
    "results[5][0] = precision\n",
    "results[6][0] = recall\n",
    "results[7][0] = auc\n",
    "results[8][0] = prc\n",
    "results[9][0] = epochs\n",
    "results[10][0] = 1\n",
    "results[11][0] = 1\n",
    "results[12][0] = 1"
   ]
  },
  {
   "cell_type": "code",
   "execution_count": 30,
   "id": "9ihY70THJZW_",
   "metadata": {
    "colab": {
     "base_uri": "https://localhost:8080/"
    },
    "executionInfo": {
     "elapsed": 141,
     "status": "ok",
     "timestamp": 1686331213732,
     "user": {
      "displayName": "Richard Purcell",
      "userId": "01205565732471442549"
     },
     "user_tz": 180
    },
    "id": "9ihY70THJZW_",
    "outputId": "839b01eb-8502-49fe-f477-af6c9f4239f8"
   },
   "outputs": [
    {
     "data": {
      "text/plain": [
       "2260"
      ]
     },
     "execution_count": 30,
     "metadata": {},
     "output_type": "execute_result"
    }
   ],
   "source": [
    "#remove data from memory that isn't needed\n",
    "for_removal = [trainloaders_x, trainloaders_y, valloaders_x, valloaders_y, testloaders_x, testloaders_y]\n",
    "del(for_removal)\n",
    "del(model)\n",
    "del(central_server_model)\n",
    "gc.collect()\n",
    "print('Central server data removed.')"
   ]
  },
  {
   "cell_type": "markdown",
   "id": "9634572a",
   "metadata": {
    "id": "9634572a"
   },
   "source": [
    "## Federated machine learning"
   ]
  },
  {
   "cell_type": "markdown",
   "id": "8a009773",
   "metadata": {
    "id": "8a009773"
   },
   "source": [
    "The Flower federated learning framework is used from here down. More info can be found at https://flower.dev"
   ]
  },
  {
   "cell_type": "code",
   "execution_count": 31,
   "id": "d92ae95a",
   "metadata": {
    "colab": {
     "base_uri": "https://localhost:8080/"
    },
    "executionInfo": {
     "elapsed": 371778,
     "status": "ok",
     "timestamp": 1686331618664,
     "user": {
      "displayName": "Richard Purcell",
      "userId": "01205565732471442549"
     },
     "user_tz": 180
    },
    "id": "d92ae95a",
    "outputId": "86dfeac8-be02-4441-db74-c32a698d7bda"
   },
   "outputs": [
    {
     "name": "stdout",
     "output_type": "stream",
     "text": [
      "\n",
      "now reading /content/drive/MyDrive/Colab Notebooks/FF/data/24_clients/121.625_51.75_cell.csv\n",
      "\n",
      "train_dataset features shape: (107712, 120, 8)\n",
      "targets_dataset labels shape: (107712, 1)\n",
      "\n",
      "val_dataset features shape: (51216, 120, 8)\n",
      "val_dataset labels shape: (51216, 1)\n",
      "\n",
      "test_dataset features shape: (46080, 120, 8)\n",
      "test_dataset labels shape: (46080, 1)\n",
      "\n",
      "now reading /content/drive/MyDrive/Colab Notebooks/FF/data/24_clients/120.625_51.75_cell.csv\n",
      "\n",
      "train_dataset features shape: (107712, 120, 8)\n",
      "targets_dataset labels shape: (107712, 1)\n",
      "\n",
      "val_dataset features shape: (51216, 120, 8)\n",
      "val_dataset labels shape: (51216, 1)\n",
      "\n",
      "test_dataset features shape: (46080, 120, 8)\n",
      "test_dataset labels shape: (46080, 1)\n",
      "\n",
      "now reading /content/drive/MyDrive/Colab Notebooks/FF/data/24_clients/119.625_51.75_cell.csv\n",
      "\n",
      "train_dataset features shape: (107712, 120, 8)\n",
      "targets_dataset labels shape: (107712, 1)\n",
      "\n",
      "val_dataset features shape: (51216, 120, 8)\n",
      "val_dataset labels shape: (51216, 1)\n",
      "\n",
      "test_dataset features shape: (46080, 120, 8)\n",
      "test_dataset labels shape: (46080, 1)\n",
      "\n",
      "now reading /content/drive/MyDrive/Colab Notebooks/FF/data/24_clients/118.625_51.75_cell.csv\n",
      "\n",
      "train_dataset features shape: (107712, 120, 8)\n",
      "targets_dataset labels shape: (107712, 1)\n",
      "\n",
      "val_dataset features shape: (51216, 120, 8)\n",
      "val_dataset labels shape: (51216, 1)\n",
      "\n",
      "test_dataset features shape: (46080, 120, 8)\n",
      "test_dataset labels shape: (46080, 1)\n",
      "\n",
      "now reading /content/drive/MyDrive/Colab Notebooks/FF/data/24_clients/117.625_51.75_cell.csv\n",
      "\n",
      "train_dataset features shape: (107712, 120, 8)\n",
      "targets_dataset labels shape: (107712, 1)\n",
      "\n",
      "val_dataset features shape: (51216, 120, 8)\n",
      "val_dataset labels shape: (51216, 1)\n",
      "\n",
      "test_dataset features shape: (46080, 120, 8)\n",
      "test_dataset labels shape: (46080, 1)\n",
      "\n",
      "now reading /content/drive/MyDrive/Colab Notebooks/FF/data/24_clients/116.625_51.75_cell.csv\n",
      "\n",
      "train_dataset features shape: (107712, 120, 8)\n",
      "targets_dataset labels shape: (107712, 1)\n",
      "\n",
      "val_dataset features shape: (51216, 120, 8)\n",
      "val_dataset labels shape: (51216, 1)\n",
      "\n",
      "test_dataset features shape: (46080, 120, 8)\n",
      "test_dataset labels shape: (46080, 1)\n",
      "\n",
      "now reading /content/drive/MyDrive/Colab Notebooks/FF/data/24_clients/121.625_51_cell.csv\n",
      "\n",
      "train_dataset features shape: (107712, 120, 8)\n",
      "targets_dataset labels shape: (107712, 1)\n",
      "\n",
      "val_dataset features shape: (51216, 120, 8)\n",
      "val_dataset labels shape: (51216, 1)\n",
      "\n",
      "test_dataset features shape: (46080, 120, 8)\n",
      "test_dataset labels shape: (46080, 1)\n",
      "\n",
      "now reading /content/drive/MyDrive/Colab Notebooks/FF/data/24_clients/120.625_51_cell.csv\n",
      "\n",
      "train_dataset features shape: (107712, 120, 8)\n",
      "targets_dataset labels shape: (107712, 1)\n",
      "\n",
      "val_dataset features shape: (51216, 120, 8)\n",
      "val_dataset labels shape: (51216, 1)\n",
      "\n",
      "test_dataset features shape: (46080, 120, 8)\n",
      "test_dataset labels shape: (46080, 1)\n",
      "\n",
      "now reading /content/drive/MyDrive/Colab Notebooks/FF/data/24_clients/119.625_51_cell.csv\n",
      "\n",
      "train_dataset features shape: (107712, 120, 8)\n",
      "targets_dataset labels shape: (107712, 1)\n",
      "\n",
      "val_dataset features shape: (51216, 120, 8)\n",
      "val_dataset labels shape: (51216, 1)\n",
      "\n",
      "test_dataset features shape: (46080, 120, 8)\n",
      "test_dataset labels shape: (46080, 1)\n",
      "\n",
      "now reading /content/drive/MyDrive/Colab Notebooks/FF/data/24_clients/118.625_51_cell.csv\n",
      "\n",
      "train_dataset features shape: (107712, 120, 8)\n",
      "targets_dataset labels shape: (107712, 1)\n",
      "\n",
      "val_dataset features shape: (51216, 120, 8)\n",
      "val_dataset labels shape: (51216, 1)\n",
      "\n",
      "test_dataset features shape: (46080, 120, 8)\n",
      "test_dataset labels shape: (46080, 1)\n",
      "\n",
      "now reading /content/drive/MyDrive/Colab Notebooks/FF/data/24_clients/117.625_51_cell.csv\n",
      "\n",
      "train_dataset features shape: (107712, 120, 8)\n",
      "targets_dataset labels shape: (107712, 1)\n",
      "\n",
      "val_dataset features shape: (51216, 120, 8)\n",
      "val_dataset labels shape: (51216, 1)\n",
      "\n",
      "test_dataset features shape: (46080, 120, 8)\n",
      "test_dataset labels shape: (46080, 1)\n",
      "\n",
      "now reading /content/drive/MyDrive/Colab Notebooks/FF/data/24_clients/116.625_51_cell.csv\n",
      "\n",
      "train_dataset features shape: (107712, 120, 8)\n",
      "targets_dataset labels shape: (107712, 1)\n",
      "\n",
      "val_dataset features shape: (51216, 120, 8)\n",
      "val_dataset labels shape: (51216, 1)\n",
      "\n",
      "test_dataset features shape: (46080, 120, 8)\n",
      "test_dataset labels shape: (46080, 1)\n",
      "\n",
      "now reading /content/drive/MyDrive/Colab Notebooks/FF/data/24_clients/121.625_50.25_cell.csv\n",
      "\n",
      "train_dataset features shape: (107712, 120, 8)\n",
      "targets_dataset labels shape: (107712, 1)\n",
      "\n",
      "val_dataset features shape: (51216, 120, 8)\n",
      "val_dataset labels shape: (51216, 1)\n",
      "\n",
      "test_dataset features shape: (46080, 120, 8)\n",
      "test_dataset labels shape: (46080, 1)\n",
      "\n",
      "now reading /content/drive/MyDrive/Colab Notebooks/FF/data/24_clients/120.625_50.25_cell.csv\n",
      "\n",
      "train_dataset features shape: (107712, 120, 8)\n",
      "targets_dataset labels shape: (107712, 1)\n",
      "\n",
      "val_dataset features shape: (51216, 120, 8)\n",
      "val_dataset labels shape: (51216, 1)\n",
      "\n",
      "test_dataset features shape: (46080, 120, 8)\n",
      "test_dataset labels shape: (46080, 1)\n",
      "\n",
      "now reading /content/drive/MyDrive/Colab Notebooks/FF/data/24_clients/119.625_50.25_cell.csv\n",
      "\n",
      "train_dataset features shape: (107712, 120, 8)\n",
      "targets_dataset labels shape: (107712, 1)\n",
      "\n",
      "val_dataset features shape: (51216, 120, 8)\n",
      "val_dataset labels shape: (51216, 1)\n",
      "\n",
      "test_dataset features shape: (46080, 120, 8)\n",
      "test_dataset labels shape: (46080, 1)\n",
      "\n",
      "now reading /content/drive/MyDrive/Colab Notebooks/FF/data/24_clients/118.625_50.25_cell.csv\n",
      "\n",
      "train_dataset features shape: (107712, 120, 8)\n",
      "targets_dataset labels shape: (107712, 1)\n",
      "\n",
      "val_dataset features shape: (51216, 120, 8)\n",
      "val_dataset labels shape: (51216, 1)\n",
      "\n",
      "test_dataset features shape: (46080, 120, 8)\n",
      "test_dataset labels shape: (46080, 1)\n",
      "\n",
      "now reading /content/drive/MyDrive/Colab Notebooks/FF/data/24_clients/117.625_50.25_cell.csv\n",
      "\n",
      "train_dataset features shape: (107712, 120, 8)\n",
      "targets_dataset labels shape: (107712, 1)\n",
      "\n",
      "val_dataset features shape: (51216, 120, 8)\n",
      "val_dataset labels shape: (51216, 1)\n",
      "\n",
      "test_dataset features shape: (46080, 120, 8)\n",
      "test_dataset labels shape: (46080, 1)\n",
      "\n",
      "now reading /content/drive/MyDrive/Colab Notebooks/FF/data/24_clients/116.625_50.25_cell.csv\n",
      "\n",
      "train_dataset features shape: (107712, 120, 8)\n",
      "targets_dataset labels shape: (107712, 1)\n",
      "\n",
      "val_dataset features shape: (51216, 120, 8)\n",
      "val_dataset labels shape: (51216, 1)\n",
      "\n",
      "test_dataset features shape: (46080, 120, 8)\n",
      "test_dataset labels shape: (46080, 1)\n",
      "\n",
      "now reading /content/drive/MyDrive/Colab Notebooks/FF/data/24_clients/121.625_49.5_cell.csv\n",
      "\n",
      "train_dataset features shape: (107712, 120, 8)\n",
      "targets_dataset labels shape: (107712, 1)\n",
      "\n",
      "val_dataset features shape: (51216, 120, 8)\n",
      "val_dataset labels shape: (51216, 1)\n",
      "\n",
      "test_dataset features shape: (46080, 120, 8)\n",
      "test_dataset labels shape: (46080, 1)\n",
      "\n",
      "now reading /content/drive/MyDrive/Colab Notebooks/FF/data/24_clients/120.625_49.5_cell.csv\n",
      "\n",
      "train_dataset features shape: (107712, 120, 8)\n",
      "targets_dataset labels shape: (107712, 1)\n",
      "\n",
      "val_dataset features shape: (51216, 120, 8)\n",
      "val_dataset labels shape: (51216, 1)\n",
      "\n",
      "test_dataset features shape: (46080, 120, 8)\n",
      "test_dataset labels shape: (46080, 1)\n",
      "\n",
      "now reading /content/drive/MyDrive/Colab Notebooks/FF/data/24_clients/119.625_49.5_cell.csv\n",
      "\n",
      "train_dataset features shape: (107712, 120, 8)\n",
      "targets_dataset labels shape: (107712, 1)\n",
      "\n",
      "val_dataset features shape: (51216, 120, 8)\n",
      "val_dataset labels shape: (51216, 1)\n",
      "\n",
      "test_dataset features shape: (46080, 120, 8)\n",
      "test_dataset labels shape: (46080, 1)\n",
      "\n",
      "now reading /content/drive/MyDrive/Colab Notebooks/FF/data/24_clients/118.625_49.5_cell.csv\n",
      "\n",
      "train_dataset features shape: (107712, 120, 8)\n",
      "targets_dataset labels shape: (107712, 1)\n",
      "\n",
      "val_dataset features shape: (51216, 120, 8)\n",
      "val_dataset labels shape: (51216, 1)\n",
      "\n",
      "test_dataset features shape: (46080, 120, 8)\n",
      "test_dataset labels shape: (46080, 1)\n",
      "\n",
      "now reading /content/drive/MyDrive/Colab Notebooks/FF/data/24_clients/117.625_49.5_cell.csv\n",
      "\n",
      "train_dataset features shape: (107712, 120, 8)\n",
      "targets_dataset labels shape: (107712, 1)\n",
      "\n",
      "val_dataset features shape: (51216, 120, 8)\n",
      "val_dataset labels shape: (51216, 1)\n",
      "\n",
      "test_dataset features shape: (46080, 120, 8)\n",
      "test_dataset labels shape: (46080, 1)\n",
      "\n",
      "now reading /content/drive/MyDrive/Colab Notebooks/FF/data/24_clients/116.625_49.5_cell.csv\n",
      "\n",
      "train_dataset features shape: (107712, 120, 8)\n",
      "targets_dataset labels shape: (107712, 1)\n",
      "\n",
      "val_dataset features shape: (51216, 120, 8)\n",
      "val_dataset labels shape: (51216, 1)\n",
      "\n",
      "test_dataset features shape: (46080, 120, 8)\n",
      "test_dataset labels shape: (46080, 1)\n",
      "\n",
      "Done loading data.\n",
      "\n"
     ]
    }
   ],
   "source": [
    "#TODO: there is a random out-of-bounds error with masking, for now if it occurs run this cell again\n",
    "#load the dataset for federated learning\n",
    "trainloaders_x, trainloaders_y, valloaders_x, valloaders_y, testloaders_x, testloaders_y = load_datasets(federated_path)"
   ]
  },
  {
   "cell_type": "code",
   "execution_count": 38,
   "id": "0b3a97b0",
   "metadata": {
    "colab": {
     "base_uri": "https://localhost:8080/"
    },
    "executionInfo": {
     "elapsed": 1360032,
     "status": "ok",
     "timestamp": 1686333464900,
     "user": {
      "displayName": "Richard Purcell",
      "userId": "01205565732471442549"
     },
     "user_tz": 180
    },
    "id": "0b3a97b0",
    "outputId": "241d6abc-f6ab-4347-e4de-5a5dad036cdf"
   },
   "outputs": [
    {
     "name": "stderr",
     "output_type": "stream",
     "text": [
      "INFO flwr 2023-06-09 17:35:04,838 | app.py:146 | Starting Flower simulation, config: ServerConfig(num_rounds=3, round_timeout=None)\n",
      "INFO:flwr:Starting Flower simulation, config: ServerConfig(num_rounds=3, round_timeout=None)\n",
      "2023-06-09 17:35:11,186\tINFO worker.py:1636 -- Started a local Ray instance.\n",
      "INFO flwr 2023-06-09 17:35:12,337 | app.py:180 | Flower VCE: Ray initialized with resources: {'object_store_memory': 16267962777.0, 'memory': 32535925556.0, 'node:172.28.0.12': 1.0, 'CPU': 8.0}\n",
      "INFO:flwr:Flower VCE: Ray initialized with resources: {'object_store_memory': 16267962777.0, 'memory': 32535925556.0, 'node:172.28.0.12': 1.0, 'CPU': 8.0}\n",
      "INFO flwr 2023-06-09 17:35:12,341 | server.py:86 | Initializing global parameters\n",
      "INFO:flwr:Initializing global parameters\n",
      "INFO flwr 2023-06-09 17:35:12,343 | server.py:273 | Requesting initial parameters from one random client\n",
      "INFO:flwr:Requesting initial parameters from one random client\n",
      "INFO flwr 2023-06-09 17:35:16,809 | server.py:277 | Received initial parameters from one random client\n",
      "INFO:flwr:Received initial parameters from one random client\n",
      "INFO flwr 2023-06-09 17:35:16,812 | server.py:88 | Evaluating initial parameters\n",
      "INFO:flwr:Evaluating initial parameters\n",
      "INFO flwr 2023-06-09 17:35:16,815 | server.py:101 | FL starting\n",
      "INFO:flwr:FL starting\n",
      "DEBUG flwr 2023-06-09 17:35:16,818 | server.py:218 | fit_round 1: strategy sampled 18 clients (out of 24)\n",
      "DEBUG:flwr:fit_round 1: strategy sampled 18 clients (out of 24)\n"
     ]
    },
    {
     "name": "stdout",
     "output_type": "stream",
     "text": [
      "\u001b[2m\u001b[36m(launch_and_get_parameters pid=42754)\u001b[0m \n",
      "\u001b[2m\u001b[36m(launch_and_get_parameters pid=42754)\u001b[0m This is client:  19\n",
      "\u001b[2m\u001b[36m(launch_and_get_parameters pid=42754)\u001b[0m Loaded data for client:  19 \n",
      "\u001b[2m\u001b[36m(launch_and_get_parameters pid=42754)\u001b[0m \n",
      "\u001b[2m\u001b[36m(launch_and_get_parameters pid=42754)\u001b[0m Making model:  19\n",
      "\u001b[2m\u001b[36m(launch_and_get_parameters pid=42754)\u001b[0m \n",
      "\u001b[2m\u001b[36m(launch_and_get_parameters pid=42754)\u001b[0m Client CID: 19 is done.\n",
      "\u001b[2m\u001b[36m(launch_and_get_parameters pid=42754)\u001b[0m \n",
      "\u001b[2m\u001b[36m(launch_and_fit pid=42754)\u001b[0m \n",
      "\u001b[2m\u001b[36m(launch_and_fit pid=42754)\u001b[0m This is client:  23\n",
      "\u001b[2m\u001b[36m(launch_and_fit pid=42754)\u001b[0m Loaded data for client:  23 \n",
      "\u001b[2m\u001b[36m(launch_and_fit pid=42754)\u001b[0m \n",
      "\u001b[2m\u001b[36m(launch_and_fit pid=42754)\u001b[0m Making model:  23\n",
      "\u001b[2m\u001b[36m(launch_and_fit pid=42754)\u001b[0m \n",
      "\u001b[2m\u001b[36m(launch_and_fit pid=42754)\u001b[0m Client CID: 23 is done.\n",
      "\u001b[2m\u001b[36m(launch_and_fit pid=42754)\u001b[0m \n",
      "\u001b[2m\u001b[36m(launch_and_fit pid=42754)\u001b[0m in fit\n",
      "\u001b[2m\u001b[36m(launch_and_fit pid=42754)\u001b[0m in server round:  1\n",
      "\u001b[2m\u001b[36m(launch_and_fit pid=42754)\u001b[0m Epoch 1/3\n",
      "\u001b[2m\u001b[36m(launch_and_fit pid=42751)\u001b[0m \u001b[32m [repeated 2x across cluster]\u001b[0m\n",
      "\u001b[2m\u001b[36m(launch_and_fit pid=42751)\u001b[0m Making model:  15\n",
      "\u001b[2m\u001b[36m(launch_and_fit pid=42751)\u001b[0m Making model:  15\n",
      "\u001b[2m\u001b[36m(launch_and_fit pid=42751)\u001b[0m Making model:  15\n",
      "\u001b[2m\u001b[36m(launch_and_fit pid=42751)\u001b[0m Client CID: 15 is done.\n",
      "\u001b[2m\u001b[36m(launch_and_fit pid=42751)\u001b[0m in fit\n",
      "\u001b[2m\u001b[36m(launch_and_fit pid=42751)\u001b[0m in server round:  1\n",
      "\u001b[2m\u001b[36m(launch_and_fit pid=42751)\u001b[0m Epoch 1/3\n",
      "\u001b[2m\u001b[36m(launch_and_fit pid=42754)\u001b[0m 40/40 - 7s - loss: 0.6568 - tp: 559.0000 - fp: 429.0000 - tn: 204.0000 - fn: 74.0000 - accuracy: 0.6027 - precision: 0.5658 - recall: 0.8831 - auc: 0.7165 - prc: 0.6906 - val_loss: 0.6248 - val_tp: 454.0000 - val_fp: 225.0000 - val_tn: 284.0000 - val_fn: 55.0000 - val_accuracy: 0.7250 - val_precision: 0.6686 - val_recall: 0.8919 - val_auc: 0.7799 - val_prc: 0.7214 - 7s/epoch - 182ms/step\n",
      "\u001b[2m\u001b[36m(launch_and_fit pid=42754)\u001b[0m 40/40 - 2s - loss: 0.6346 - tp: 496.0000 - fp: 296.0000 - tn: 337.0000 - fn: 137.0000 - accuracy: 0.6580 - precision: 0.6263 - recall: 0.7836 - auc: 0.7260 - prc: 0.7040 - val_loss: 0.6001 - val_tp: 430.0000 - val_fp: 179.0000 - val_tn: 330.0000 - val_fn: 79.0000 - val_accuracy: 0.7466 - val_precision: 0.7061 - val_recall: 0.8448 - val_auc: 0.7838 - val_prc: 0.7199 - 2s/epoch - 51ms/step\n",
      "\u001b[2m\u001b[36m(launch_and_fit pid=42754)\u001b[0m 40/40 - 3s - loss: 0.6221 - tp: 478.0000 - fp: 259.0000 - tn: 374.0000 - fn: 155.0000 - accuracy: 0.6730 - precision: 0.6486 - recall: 0.7551 - auc: 0.7316 - prc: 0.7160 - val_loss: 0.5849 - val_tp: 425.0000 - val_fp: 172.0000 - val_tn: 337.0000 - val_fn: 84.0000 - val_accuracy: 0.7485 - val_precision: 0.7119 - val_recall: 0.8350 - val_auc: 0.7853 - val_prc: 0.7237 - 3s/epoch - 72ms/step\n",
      "\u001b[2m\u001b[36m(launch_and_fit pid=42751)\u001b[0m \u001b[32m [repeated 2x across cluster]\u001b[0m\n",
      "\u001b[2m\u001b[36m(launch_and_fit pid=42754)\u001b[0m Epoch 3/3\u001b[32m [repeated 2x across cluster]\u001b[0m\n",
      "\u001b[2m\u001b[36m(launch_and_fit pid=42754)\u001b[0m This is client:  8\n",
      "\u001b[2m\u001b[36m(launch_and_fit pid=42754)\u001b[0m Loaded data for client:  8 \n",
      "\u001b[2m\u001b[36m(launch_and_fit pid=42754)\u001b[0m Making model:  8\n",
      "\u001b[2m\u001b[36m(launch_and_fit pid=42754)\u001b[0m Client CID: 8 is done.\n",
      "\u001b[2m\u001b[36m(launch_and_fit pid=42754)\u001b[0m in fit\n",
      "\u001b[2m\u001b[36m(launch_and_fit pid=42754)\u001b[0m in server round:  1\n",
      "\u001b[2m\u001b[36m(launch_and_fit pid=42751)\u001b[0m 44/44 - 7s - loss: 0.6333 - tp: 659.0000 - fp: 465.0000 - tn: 238.0000 - fn: 44.0000 - accuracy: 0.6380 - precision: 0.5863 - recall: 0.9374 - auc: 0.8028 - prc: 0.7849 - val_loss: 0.6178 - val_tp: 476.0000 - val_fp: 247.0000 - val_tn: 283.0000 - val_fn: 54.0000 - val_accuracy: 0.7160 - val_precision: 0.6584 - val_recall: 0.8981 - val_auc: 0.7843 - val_prc: 0.7357 - 7s/epoch - 161ms/step\n",
      "\u001b[2m\u001b[36m(launch_and_fit pid=42751)\u001b[0m 44/44 - 3s - loss: 0.5874 - tp: 615.0000 - fp: 299.0000 - tn: 404.0000 - fn: 88.0000 - accuracy: 0.7248 - precision: 0.6729 - recall: 0.8748 - auc: 0.8204 - prc: 0.8067 - val_loss: 0.5877 - val_tp: 451.0000 - val_fp: 210.0000 - val_tn: 320.0000 - val_fn: 79.0000 - val_accuracy: 0.7274 - val_precision: 0.6823 - val_recall: 0.8509 - val_auc: 0.7864 - val_prc: 0.7403 - 3s/epoch - 70ms/step\n",
      "\u001b[2m\u001b[36m(launch_and_fit pid=42751)\u001b[0m 44/44 - 3s - loss: 0.5583 - tp: 589.0000 - fp: 250.0000 - tn: 453.0000 - fn: 114.0000 - accuracy: 0.7411 - precision: 0.7020 - recall: 0.8378 - auc: 0.8242 - prc: 0.8128 - val_loss: 0.5694 - val_tp: 442.0000 - val_fp: 189.0000 - val_tn: 341.0000 - val_fn: 88.0000 - val_accuracy: 0.7387 - val_precision: 0.7005 - val_recall: 0.8340 - val_auc: 0.7882 - val_prc: 0.7418 - 3s/epoch - 70ms/step\n",
      "\u001b[2m\u001b[36m(launch_and_fit pid=42754)\u001b[0m \u001b[32m [repeated 4x across cluster]\u001b[0m\n",
      "\u001b[2m\u001b[36m(launch_and_fit pid=42751)\u001b[0m Epoch 3/3\u001b[32m [repeated 3x across cluster]\u001b[0m\n",
      "\u001b[2m\u001b[36m(launch_and_fit pid=42754)\u001b[0m 66/66 - 24s - loss: 0.6546 - tp: 869.0000 - fp: 623.0000 - tn: 430.0000 - fn: 184.0000 - accuracy: 0.6168 - precision: 0.5824 - recall: 0.8253 - auc: 0.7025 - prc: 0.6962 - val_loss: 0.6356 - val_tp: 1062.0000 - val_fp: 552.0000 - val_tn: 826.0000 - val_fn: 316.0000 - val_accuracy: 0.6851 - val_precision: 0.6580 - val_recall: 0.7707 - val_auc: 0.7252 - val_prc: 0.6770 - 24s/epoch - 367ms/step\n",
      "\u001b[2m\u001b[36m(launch_and_fit pid=42754)\u001b[0m Epoch 2/3\n",
      "\u001b[2m\u001b[36m(launch_and_fit pid=42754)\u001b[0m 66/66 - 6s - loss: 0.6343 - tp: 751.0000 - fp: 422.0000 - tn: 631.0000 - fn: 302.0000 - accuracy: 0.6562 - precision: 0.6402 - recall: 0.7132 - auc: 0.7080 - prc: 0.7069 - val_loss: 0.6209 - val_tp: 1017.0000 - val_fp: 490.0000 - val_tn: 888.0000 - val_fn: 361.0000 - val_accuracy: 0.6912 - val_precision: 0.6749 - val_recall: 0.7380 - val_auc: 0.7263 - val_prc: 0.6793 - 6s/epoch - 96ms/step\n",
      "\u001b[2m\u001b[36m(launch_and_fit pid=42754)\u001b[0m Epoch 3/3\n",
      "\u001b[2m\u001b[36m(launch_and_fit pid=42754)\u001b[0m 66/66 - 5s - loss: 0.6270 - tp: 718.0000 - fp: 384.0000 - tn: 669.0000 - fn: 335.0000 - accuracy: 0.6586 - precision: 0.6515 - recall: 0.6819 - auc: 0.7086 - prc: 0.7108 - val_loss: 0.6142 - val_tp: 1001.0000 - val_fp: 466.0000 - val_tn: 912.0000 - val_fn: 377.0000 - val_accuracy: 0.6941 - val_precision: 0.6823 - val_recall: 0.7264 - val_auc: 0.7294 - val_prc: 0.6845 - 5s/epoch - 70ms/step\n"
     ]
    },
    {
     "name": "stderr",
     "output_type": "stream",
     "text": [
      "\u001b[2m\u001b[36m(raylet)\u001b[0m Spilled 4322 MiB, 1 objects, write throughput 62 MiB/s. Set RAY_verbose_spill_logs=0 to disable this message.\n"
     ]
    },
    {
     "name": "stdout",
     "output_type": "stream",
     "text": [
      "\u001b[2m\u001b[36m(launch_and_fit pid=42754)\u001b[0m \n",
      "\u001b[2m\u001b[36m(launch_and_fit pid=42754)\u001b[0m This is client:  20\n",
      "\u001b[2m\u001b[36m(launch_and_fit pid=42754)\u001b[0m Loaded data for client:  20 \n",
      "\u001b[2m\u001b[36m(launch_and_fit pid=42754)\u001b[0m \n",
      "\u001b[2m\u001b[36m(launch_and_fit pid=42754)\u001b[0m Making model:  20\n",
      "\u001b[2m\u001b[36m(launch_and_fit pid=42754)\u001b[0m \n",
      "\u001b[2m\u001b[36m(launch_and_fit pid=42754)\u001b[0m Client CID: 20 is done.\n",
      "\u001b[2m\u001b[36m(launch_and_fit pid=42754)\u001b[0m \n",
      "\u001b[2m\u001b[36m(launch_and_fit pid=42754)\u001b[0m in fit\n",
      "\u001b[2m\u001b[36m(launch_and_fit pid=42754)\u001b[0m in server round:  1\n",
      "\u001b[2m\u001b[36m(launch_and_fit pid=42754)\u001b[0m Epoch 1/3\n"
     ]
    },
    {
     "name": "stderr",
     "output_type": "stream",
     "text": [
      "\u001b[2m\u001b[36m(raylet)\u001b[0m Spilled 8644 MiB, 2 objects, write throughput 119 MiB/s.\n"
     ]
    },
    {
     "name": "stdout",
     "output_type": "stream",
     "text": [
      "\u001b[2m\u001b[36m(launch_and_fit pid=42754)\u001b[0m 103/103 - 9s - loss: 0.6705 - tp: 1248.0000 - fp: 959.0000 - tn: 680.0000 - fn: 391.0000 - accuracy: 0.5882 - precision: 0.5655 - recall: 0.7614 - auc: 0.6402 - prc: 0.6120 - val_loss: 0.6490 - val_tp: 1005.0000 - val_fp: 591.0000 - val_tn: 737.0000 - val_fn: 323.0000 - val_accuracy: 0.6559 - val_precision: 0.6297 - val_recall: 0.7568 - val_auc: 0.6822 - val_prc: 0.6265 - 9s/epoch - 91ms/step\n",
      "\u001b[2m\u001b[36m(launch_and_fit pid=42751)\u001b[0m \u001b[32m [repeated 4x across cluster]\u001b[0m\n",
      "\u001b[2m\u001b[36m(launch_and_fit pid=42751)\u001b[0m Epoch 2/3\n",
      "\u001b[2m\u001b[36m(launch_and_fit pid=42751)\u001b[0m Epoch 2/3\n",
      "\u001b[2m\u001b[36m(launch_and_fit pid=42751)\u001b[0m Epoch 2/3\n",
      "\u001b[2m\u001b[36m(launch_and_fit pid=42751)\u001b[0m Epoch 2/3\n",
      "\u001b[2m\u001b[36m(launch_and_fit pid=42751)\u001b[0m Epoch 2/3\n",
      "\u001b[2m\u001b[36m(launch_and_fit pid=42751)\u001b[0m Epoch 2/3\n",
      "\u001b[2m\u001b[36m(launch_and_fit pid=42754)\u001b[0m Epoch 2/3\u001b[32m [repeated 2x across cluster]\u001b[0m\n",
      "\u001b[2m\u001b[36m(launch_and_fit pid=42754)\u001b[0m 103/103 - 5s - loss: 0.6579 - tp: 1094.0000 - fp: 712.0000 - tn: 927.0000 - fn: 545.0000 - accuracy: 0.6165 - precision: 0.6058 - recall: 0.6675 - auc: 0.6560 - prc: 0.6278 - val_loss: 0.6411 - val_tp: 979.0000 - val_fp: 550.0000 - val_tn: 778.0000 - val_fn: 349.0000 - val_accuracy: 0.6615 - val_precision: 0.6403 - val_recall: 0.7372 - val_auc: 0.6869 - val_prc: 0.6350 - 5s/epoch - 52ms/step\u001b[32m [repeated 3x across cluster]\u001b[0m\n",
      "\u001b[2m\u001b[36m(launch_and_fit pid=42754)\u001b[0m Epoch 3/3\u001b[32m [repeated 3x across cluster]\u001b[0m\n",
      "\u001b[2m\u001b[36m(launch_and_fit pid=42751)\u001b[0m \n",
      "\u001b[2m\u001b[36m(launch_and_fit pid=42751)\u001b[0m This is client:  16\n",
      "\u001b[2m\u001b[36m(launch_and_fit pid=42751)\u001b[0m Loaded data for client:  16 \n",
      "\u001b[2m\u001b[36m(launch_and_fit pid=42751)\u001b[0m \n",
      "\u001b[2m\u001b[36m(launch_and_fit pid=42751)\u001b[0m Making model:  16\n",
      "\u001b[2m\u001b[36m(launch_and_fit pid=42751)\u001b[0m \n",
      "\u001b[2m\u001b[36m(launch_and_fit pid=42751)\u001b[0m Client CID: 16 is done.\n",
      "\u001b[2m\u001b[36m(launch_and_fit pid=42751)\u001b[0m \n",
      "\u001b[2m\u001b[36m(launch_and_fit pid=42751)\u001b[0m in fit\n",
      "\u001b[2m\u001b[36m(launch_and_fit pid=42751)\u001b[0m in server round:  1\n",
      "\u001b[2m\u001b[36m(launch_and_fit pid=42754)\u001b[0m 103/103 - 6s - loss: 0.6537 - tp: 1079.0000 - fp: 683.0000 - tn: 956.0000 - fn: 560.0000 - accuracy: 0.6208 - precision: 0.6124 - recall: 0.6583 - auc: 0.6618 - prc: 0.6360 - val_loss: 0.6369 - val_tp: 956.0000 - val_fp: 510.0000 - val_tn: 818.0000 - val_fn: 372.0000 - val_accuracy: 0.6679 - val_precision: 0.6521 - val_recall: 0.7199 - val_auc: 0.6943 - val_prc: 0.6507 - 6s/epoch - 54ms/step\u001b[32m [repeated 2x across cluster]\u001b[0m\n",
      "\u001b[2m\u001b[36m(launch_and_fit pid=42751)\u001b[0m 103/103 - 6s - loss: 0.6537 - tp: 1079.0000 - fp: 683.0000 - tn: 956.0000 - fn: 560.0000 - accuracy: 0.6208 - precision: 0.6124 - recall: 0.6583 - auc: 0.6618 - prc: 0.6360 - val_loss: 0.6369 - val_tp: 956.0000 - val_fp: 510.0000 - val_tn: 818.0000 - val_fn: 372.0000 - val_accuracy: 0.6679 - val_precision: 0.6521 - val_recall: 0.7199 - val_auc: 0.6943 - val_prc: 0.6507 - 6s/epoch - 54ms/step\n",
      "\u001b[2m\u001b[36m(launch_and_fit pid=42751)\u001b[0m Epoch 2/3\n"
     ]
    },
    {
     "name": "stderr",
     "output_type": "stream",
     "text": [
      "\u001b[2m\u001b[36m(raylet)\u001b[0m Spilled 17289 MiB, 4 objects, write throughput 184 MiB/s.\n"
     ]
    },
    {
     "name": "stdout",
     "output_type": "stream",
     "text": [
      "\u001b[2m\u001b[36m(launch_and_fit pid=42751)\u001b[0m Epoch 3/3\n",
      "\u001b[2m\u001b[36m(launch_and_fit pid=42751)\u001b[0m 46/46 - 2s - loss: 0.5696 - tp: 658.0000 - fp: 276.0000 - tn: 450.0000 - fn: 68.0000 - accuracy: 0.7631 - precision: 0.7045 - recall: 0.9063 - auc: 0.8421 - prc: 0.7988 - val_loss: 0.5619 - val_tp: 355.0000 - val_fp: 154.0000 - val_tn: 238.0000 - val_fn: 37.0000 - val_accuracy: 0.7564 - val_precision: 0.6974 - val_recall: 0.9056 - val_auc: 0.8229 - val_prc: 0.7703 - 2s/epoch - 38ms/step\u001b[32m [repeated 2x across cluster]\u001b[0m\n",
      "\u001b[2m\u001b[36m(launch_and_fit pid=42751)\u001b[0m \n",
      "\u001b[2m\u001b[36m(launch_and_fit pid=42751)\u001b[0m This is client:  14\n",
      "\u001b[2m\u001b[36m(launch_and_fit pid=42751)\u001b[0m Loaded data for client:  14 \n",
      "\u001b[2m\u001b[36m(launch_and_fit pid=42751)\u001b[0m \n",
      "\u001b[2m\u001b[36m(launch_and_fit pid=42751)\u001b[0m Making model:  14\n",
      "\u001b[2m\u001b[36m(launch_and_fit pid=42751)\u001b[0m \n",
      "\u001b[2m\u001b[36m(launch_and_fit pid=42751)\u001b[0m Client CID: 14 is done.\n",
      "\u001b[2m\u001b[36m(launch_and_fit pid=42751)\u001b[0m \n",
      "\u001b[2m\u001b[36m(launch_and_fit pid=42751)\u001b[0m in fit\n",
      "\u001b[2m\u001b[36m(launch_and_fit pid=42751)\u001b[0m in server round:  1\n",
      "\u001b[2m\u001b[36m(launch_and_fit pid=42751)\u001b[0m Epoch 1/3\n",
      "\u001b[2m\u001b[36m(launch_and_fit pid=42751)\u001b[0m Epoch 2/3\n",
      "\u001b[2m\u001b[36m(launch_and_fit pid=42751)\u001b[0m 83/83 - 11s - loss: 0.6647 - tp: 1046.0000 - fp: 775.0000 - tn: 549.0000 - fn: 278.0000 - accuracy: 0.6023 - precision: 0.5744 - recall: 0.7900 - auc: 0.6613 - prc: 0.6409 - val_loss: 0.6414 - val_tp: 1364.0000 - val_fp: 773.0000 - val_tn: 977.0000 - val_fn: 386.0000 - val_accuracy: 0.6689 - val_precision: 0.6383 - val_recall: 0.7794 - val_auc: 0.7155 - val_prc: 0.6622 - 11s/epoch - 135ms/step\u001b[32m [repeated 2x across cluster]\u001b[0m\n",
      "\u001b[2m\u001b[36m(launch_and_fit pid=42751)\u001b[0m Epoch 3/3\n",
      "\u001b[2m\u001b[36m(launch_and_fit pid=42751)\u001b[0m 83/83 - 5s - loss: 0.6463 - tp: 886.0000 - fp: 526.0000 - tn: 798.0000 - fn: 438.0000 - accuracy: 0.6360 - precision: 0.6275 - recall: 0.6692 - auc: 0.6774 - prc: 0.6654 - val_loss: 0.6228 - val_tp: 1310.0000 - val_fp: 696.0000 - val_tn: 1054.0000 - val_fn: 440.0000 - val_accuracy: 0.6754 - val_precision: 0.6530 - val_recall: 0.7486 - val_auc: 0.7249 - val_prc: 0.6841 - 5s/epoch - 60ms/step\u001b[32m [repeated 2x across cluster]\u001b[0m\n",
      "\u001b[2m\u001b[36m(launch_and_fit pid=42751)\u001b[0m \n",
      "\u001b[2m\u001b[36m(launch_and_fit pid=42751)\u001b[0m This is client:  12\n",
      "\u001b[2m\u001b[36m(launch_and_fit pid=42751)\u001b[0m Loaded data for client:  12 \n",
      "\u001b[2m\u001b[36m(launch_and_fit pid=42751)\u001b[0m \n",
      "\u001b[2m\u001b[36m(launch_and_fit pid=42751)\u001b[0m Making model:  12\n",
      "\u001b[2m\u001b[36m(launch_and_fit pid=42754)\u001b[0m Client CID: 1 is done.\n",
      "\u001b[2m\u001b[36m(launch_and_fit pid=42754)\u001b[0m in fit\n",
      "\u001b[2m\u001b[36m(launch_and_fit pid=42754)\u001b[0m in server round:  1\n",
      "\u001b[2m\u001b[36m(launch_and_fit pid=42754)\u001b[0m Epoch 1/3\n",
      "\u001b[2m\u001b[36m(launch_and_fit pid=42754)\u001b[0m 36/36 - 5s - loss: 0.6592 - tp: 507.0000 - fp: 398.0000 - tn: 167.0000 - fn: 58.0000 - accuracy: 0.5965 - precision: 0.5602 - recall: 0.8973 - auc: 0.7099 - prc: 0.7230 - val_loss: 0.6546 - val_tp: 424.0000 - val_fp: 272.0000 - val_tn: 261.0000 - val_fn: 109.0000 - val_accuracy: 0.6426 - val_precision: 0.6092 - val_recall: 0.7955 - val_auc: 0.7005 - val_prc: 0.6580 - 5s/epoch - 136ms/step\n",
      "\u001b[2m\u001b[36m(launch_and_fit pid=42751)\u001b[0m \u001b[32m [repeated 6x across cluster]\u001b[0m\n",
      "\u001b[2m\u001b[36m(launch_and_fit pid=42754)\u001b[0m Epoch 2/3\n",
      "\u001b[2m\u001b[36m(launch_and_fit pid=42754)\u001b[0m Epoch 2/3\n",
      "\u001b[2m\u001b[36m(launch_and_fit pid=42754)\u001b[0m Epoch 2/3\n",
      "\u001b[2m\u001b[36m(launch_and_fit pid=42751)\u001b[0m Epoch 2/3\n",
      "\u001b[2m\u001b[36m(launch_and_fit pid=42751)\u001b[0m Epoch 2/3\n",
      "\u001b[2m\u001b[36m(launch_and_fit pid=42751)\u001b[0m Epoch 2/3\n",
      "\u001b[2m\u001b[36m(launch_and_fit pid=42751)\u001b[0m Epoch 2/3\u001b[32m [repeated 3x across cluster]\u001b[0m\n",
      "\u001b[2m\u001b[36m(launch_and_fit pid=42754)\u001b[0m This is client:  6\n",
      "\u001b[2m\u001b[36m(launch_and_fit pid=42754)\u001b[0m Loaded data for client:  6 \n",
      "\u001b[2m\u001b[36m(launch_and_fit pid=42754)\u001b[0m Making model:  6\n",
      "\u001b[2m\u001b[36m(launch_and_fit pid=42754)\u001b[0m Client CID: 6 is done.\n",
      "\u001b[2m\u001b[36m(launch_and_fit pid=42754)\u001b[0m in fit\n",
      "\u001b[2m\u001b[36m(launch_and_fit pid=42754)\u001b[0m in server round:  1\n",
      "\u001b[2m\u001b[36m(launch_and_fit pid=42751)\u001b[0m 53/53 - 2s - loss: 0.6734 - tp: 528.0000 - fp: 382.0000 - tn: 457.0000 - fn: 311.0000 - accuracy: 0.5870 - precision: 0.5802 - recall: 0.6293 - auc: 0.6147 - prc: 0.6005 - val_loss: 0.6550 - val_tp: 446.0000 - val_fp: 263.0000 - val_tn: 422.0000 - val_fn: 239.0000 - val_accuracy: 0.6336 - val_precision: 0.6291 - val_recall: 0.6511 - val_auc: 0.6681 - val_prc: 0.6529 - 2s/epoch - 45ms/step\u001b[32m [repeated 5x across cluster]\u001b[0m\n",
      "\u001b[2m\u001b[36m(launch_and_fit pid=42754)\u001b[0m \u001b[32m [repeated 4x across cluster]\u001b[0m\n",
      "\u001b[2m\u001b[36m(launch_and_fit pid=42754)\u001b[0m Epoch 1/3\u001b[32m [repeated 3x across cluster]\u001b[0m\n",
      "\u001b[2m\u001b[36m(launch_and_fit pid=42751)\u001b[0m Epoch 2/3\n",
      "\u001b[2m\u001b[36m(launch_and_fit pid=42751)\u001b[0m Epoch 2/3\n",
      "\u001b[2m\u001b[36m(launch_and_fit pid=42751)\u001b[0m Epoch 2/3\n",
      "\u001b[2m\u001b[36m(launch_and_fit pid=42751)\u001b[0m Epoch 2/3\n",
      "\u001b[2m\u001b[36m(launch_and_fit pid=42751)\u001b[0m Epoch 2/3\n",
      "\u001b[2m\u001b[36m(launch_and_fit pid=42751)\u001b[0m Epoch 2/3\n",
      "\u001b[2m\u001b[36m(launch_and_fit pid=42751)\u001b[0m 51/51 - 6s - loss: 0.6525 - tp: 709.0000 - fp: 538.0000 - tn: 263.0000 - fn: 92.0000 - accuracy: 0.6067 - precision: 0.5686 - recall: 0.8851 - auc: 0.7292 - prc: 0.7053 - val_loss: 0.6252 - val_tp: 567.0000 - val_fp: 301.0000 - val_tn: 321.0000 - val_fn: 55.0000 - val_accuracy: 0.7138 - val_precision: 0.6532 - val_recall: 0.9116 - val_auc: 0.7706 - val_prc: 0.6945 - 6s/epoch - 113ms/step\u001b[32m [repeated 2x across cluster]\u001b[0m\n",
      "\u001b[2m\u001b[36m(launch_and_fit pid=42751)\u001b[0m \u001b[32m [repeated 4x across cluster]\u001b[0m\n",
      "\u001b[2m\u001b[36m(launch_and_fit pid=42751)\u001b[0m Epoch 2/3\u001b[32m [repeated 3x across cluster]\u001b[0m\n",
      "\u001b[2m\u001b[36m(launch_and_fit pid=42754)\u001b[0m This is client:  9\n",
      "\u001b[2m\u001b[36m(launch_and_fit pid=42754)\u001b[0m Loaded data for client:  9 \n",
      "\u001b[2m\u001b[36m(launch_and_fit pid=42754)\u001b[0m Making model:  9\n",
      "\u001b[2m\u001b[36m(launch_and_fit pid=42754)\u001b[0m Client CID: 9 is done.\n",
      "\u001b[2m\u001b[36m(launch_and_fit pid=42754)\u001b[0m in fit\n",
      "\u001b[2m\u001b[36m(launch_and_fit pid=42754)\u001b[0m in server round:  1\n",
      "\u001b[2m\u001b[36m(launch_and_fit pid=42751)\u001b[0m 51/51 - 3s - loss: 0.6102 - tp: 610.0000 - fp: 325.0000 - tn: 476.0000 - fn: 191.0000 - accuracy: 0.6779 - precision: 0.6524 - recall: 0.7615 - auc: 0.7467 - prc: 0.7387 - val_loss: 0.5862 - val_tp: 516.0000 - val_fp: 228.0000 - val_tn: 394.0000 - val_fn: 106.0000 - val_accuracy: 0.7315 - val_precision: 0.6935 - val_recall: 0.8296 - val_auc: 0.7713 - val_prc: 0.6956 - 3s/epoch - 53ms/step\u001b[32m [repeated 4x across cluster]\u001b[0m\n",
      "\u001b[2m\u001b[36m(launch_and_fit pid=42754)\u001b[0m \u001b[32m [repeated 4x across cluster]\u001b[0m\n",
      "\u001b[2m\u001b[36m(launch_and_fit pid=42754)\u001b[0m Epoch 1/3\u001b[32m [repeated 3x across cluster]\u001b[0m\n",
      "\u001b[2m\u001b[36m(launch_and_fit pid=42751)\u001b[0m Epoch 2/3\n",
      "\u001b[2m\u001b[36m(launch_and_fit pid=42751)\u001b[0m Epoch 2/3\n",
      "\u001b[2m\u001b[36m(launch_and_fit pid=42751)\u001b[0m Epoch 2/3\n",
      "\u001b[2m\u001b[36m(launch_and_fit pid=42751)\u001b[0m Epoch 2/3\n",
      "\u001b[2m\u001b[36m(launch_and_fit pid=42751)\u001b[0m Epoch 2/3\n",
      "\u001b[2m\u001b[36m(launch_and_fit pid=42751)\u001b[0m Epoch 2/3\n",
      "\u001b[2m\u001b[36m(launch_and_fit pid=42754)\u001b[0m 67/67 - 7s - loss: 0.6327 - tp: 951.0000 - fp: 625.0000 - tn: 433.0000 - fn: 107.0000 - accuracy: 0.6541 - precision: 0.6034 - recall: 0.8989 - auc: 0.7684 - prc: 0.7580 - val_loss: 0.5985 - val_tp: 612.0000 - val_fp: 283.0000 - val_tn: 411.0000 - val_fn: 82.0000 - val_accuracy: 0.7370 - val_precision: 0.6838 - val_recall: 0.8818 - val_auc: 0.8003 - val_prc: 0.7654 - 7s/epoch - 99ms/step\u001b[32m [repeated 2x across cluster]\u001b[0m\n",
      "\u001b[2m\u001b[36m(launch_and_fit pid=42751)\u001b[0m \u001b[32m [repeated 4x across cluster]\u001b[0m\n",
      "\u001b[2m\u001b[36m(launch_and_fit pid=42754)\u001b[0m Epoch 2/3\u001b[32m [repeated 3x across cluster]\u001b[0m\n",
      "\u001b[2m\u001b[36m(launch_and_fit pid=42751)\u001b[0m This is client:  3\n",
      "\u001b[2m\u001b[36m(launch_and_fit pid=42751)\u001b[0m Loaded data for client:  3 \n",
      "\u001b[2m\u001b[36m(launch_and_fit pid=42751)\u001b[0m Making model:  3\n",
      "\u001b[2m\u001b[36m(launch_and_fit pid=42751)\u001b[0m Client CID: 3 is done.\n",
      "\u001b[2m\u001b[36m(launch_and_fit pid=42751)\u001b[0m in fit\n",
      "\u001b[2m\u001b[36m(launch_and_fit pid=42751)\u001b[0m in server round:  1\n",
      "\u001b[2m\u001b[36m(launch_and_fit pid=42754)\u001b[0m 67/67 - 3s - loss: 0.5709 - tp: 818.0000 - fp: 381.0000 - tn: 677.0000 - fn: 240.0000 - accuracy: 0.7065 - precision: 0.6822 - recall: 0.7732 - auc: 0.7885 - prc: 0.7754 - val_loss: 0.5532 - val_tp: 557.0000 - val_fp: 212.0000 - val_tn: 482.0000 - val_fn: 137.0000 - val_accuracy: 0.7486 - val_precision: 0.7243 - val_recall: 0.8026 - val_auc: 0.8008 - val_prc: 0.7669 - 3s/epoch - 43ms/step\u001b[32m [repeated 4x across cluster]\u001b[0m\n",
      "\u001b[2m\u001b[36m(launch_and_fit pid=42751)\u001b[0m \u001b[32m [repeated 4x across cluster]\u001b[0m\n",
      "\u001b[2m\u001b[36m(launch_and_fit pid=42751)\u001b[0m Epoch 1/3\u001b[32m [repeated 3x across cluster]\u001b[0m\n",
      "\u001b[2m\u001b[36m(launch_and_fit pid=42754)\u001b[0m Epoch 2/3\n",
      "\u001b[2m\u001b[36m(launch_and_fit pid=42754)\u001b[0m Epoch 2/3\n",
      "\u001b[2m\u001b[36m(launch_and_fit pid=42754)\u001b[0m Epoch 2/3\n",
      "\u001b[2m\u001b[36m(launch_and_fit pid=42754)\u001b[0m Epoch 2/3\n",
      "\u001b[2m\u001b[36m(launch_and_fit pid=42754)\u001b[0m Epoch 2/3\n",
      "\u001b[2m\u001b[36m(launch_and_fit pid=42754)\u001b[0m Epoch 2/3\n",
      "\u001b[2m\u001b[36m(launch_and_fit pid=42751)\u001b[0m 47/47 - 3s - loss: 0.5910 - tp: 647.0000 - fp: 297.0000 - tn: 445.0000 - fn: 95.0000 - accuracy: 0.7358 - precision: 0.6854 - recall: 0.8720 - auc: 0.8062 - prc: 0.7795 - val_loss: 0.5475 - val_tp: 217.0000 - val_fp: 90.0000 - val_tn: 156.0000 - val_fn: 29.0000 - val_accuracy: 0.7581 - val_precision: 0.7068 - val_recall: 0.8821 - val_auc: 0.8517 - val_prc: 0.8240 - 3s/epoch - 56ms/step\u001b[32m [repeated 2x across cluster]\u001b[0m\n",
      "\u001b[2m\u001b[36m(launch_and_fit pid=42754)\u001b[0m \u001b[32m [repeated 4x across cluster]\u001b[0m\n",
      "\u001b[2m\u001b[36m(launch_and_fit pid=42751)\u001b[0m Epoch 3/3\u001b[32m [repeated 3x across cluster]\u001b[0m\n",
      "\u001b[2m\u001b[36m(launch_and_fit pid=42751)\u001b[0m This is client:  4\n",
      "\u001b[2m\u001b[36m(launch_and_fit pid=42751)\u001b[0m Loaded data for client:  4 \n",
      "\u001b[2m\u001b[36m(launch_and_fit pid=42751)\u001b[0m Making model:  4\n",
      "\u001b[2m\u001b[36m(launch_and_fit pid=42751)\u001b[0m Client CID: 4 is done.\n",
      "\u001b[2m\u001b[36m(launch_and_fit pid=42751)\u001b[0m in fit\n",
      "\u001b[2m\u001b[36m(launch_and_fit pid=42751)\u001b[0m in server round:  1\n",
      "\u001b[2m\u001b[36m(launch_and_fit pid=42751)\u001b[0m 23/23 - 4s - loss: 0.6668 - tp: 331.0000 - fp: 278.0000 - tn: 81.0000 - fn: 28.0000 - accuracy: 0.5738 - precision: 0.5435 - recall: 0.9220 - auc: 0.6917 - prc: 0.6974 - val_loss: 0.6277 - val_tp: 143.0000 - val_fp: 86.0000 - val_tn: 68.0000 - val_fn: 11.0000 - val_accuracy: 0.6851 - val_precision: 0.6245 - val_recall: 0.9286 - val_auc: 0.8063 - val_prc: 0.8049 - 4s/epoch - 170ms/step\u001b[32m [repeated 5x across cluster]\u001b[0m\n",
      "\u001b[2m\u001b[36m(launch_and_fit pid=42754)\u001b[0m \u001b[32m [repeated 8x across cluster]\u001b[0m\n",
      "\u001b[2m\u001b[36m(launch_and_fit pid=42751)\u001b[0m Epoch 2/3\u001b[32m [repeated 5x across cluster]\u001b[0m\n",
      "\u001b[2m\u001b[36m(launch_and_fit pid=42754)\u001b[0m Epoch 3/3\n",
      "\u001b[2m\u001b[36m(launch_and_fit pid=42754)\u001b[0m Epoch 3/3\n",
      "\u001b[2m\u001b[36m(launch_and_fit pid=42754)\u001b[0m Epoch 3/3\n",
      "\u001b[2m\u001b[36m(launch_and_fit pid=42754)\u001b[0m Epoch 3/3\n",
      "\u001b[2m\u001b[36m(launch_and_fit pid=42754)\u001b[0m Epoch 3/3\n",
      "\u001b[2m\u001b[36m(launch_and_fit pid=42754)\u001b[0m Epoch 3/3\n",
      "\u001b[2m\u001b[36m(launch_and_fit pid=42751)\u001b[0m This is client:  11\n",
      "\u001b[2m\u001b[36m(launch_and_fit pid=42751)\u001b[0m Loaded data for client:  11 \n",
      "\u001b[2m\u001b[36m(launch_and_fit pid=42751)\u001b[0m Making model:  11\n",
      "\u001b[2m\u001b[36m(launch_and_fit pid=42751)\u001b[0m Client CID: 11 is done.\n",
      "\u001b[2m\u001b[36m(launch_and_fit pid=42751)\u001b[0m in fit\n",
      "\u001b[2m\u001b[36m(launch_and_fit pid=42751)\u001b[0m in server round:  1\n",
      "\u001b[2m\u001b[36m(launch_and_fit pid=42754)\u001b[0m 50/50 - 2s - loss: 0.6835 - tp: 454.0000 - fp: 382.0000 - tn: 416.0000 - fn: 344.0000 - accuracy: 0.5451 - precision: 0.5431 - recall: 0.5689 - auc: 0.5732 - prc: 0.5950 - val_loss: 0.6625 - val_tp: 336.0000 - val_fp: 192.0000 - val_tn: 282.0000 - val_fn: 138.0000 - val_accuracy: 0.6519 - val_precision: 0.6364 - val_recall: 0.7089 - val_auc: 0.6894 - val_prc: 0.6772 - 2s/epoch - 45ms/step\u001b[32m [repeated 4x across cluster]\u001b[0m\n",
      "\u001b[2m\u001b[36m(launch_and_fit pid=42751)\u001b[0m \u001b[32m [repeated 4x across cluster]\u001b[0m\n",
      "\u001b[2m\u001b[36m(launch_and_fit pid=42754)\u001b[0m Epoch 2/3\u001b[32m [repeated 3x across cluster]\u001b[0m\n"
     ]
    },
    {
     "name": "stderr",
     "output_type": "stream",
     "text": [
      "DEBUG flwr 2023-06-09 17:42:28,666 | server.py:232 | fit_round 1 received 18 results and 0 failures\n",
      "DEBUG:flwr:fit_round 1 received 18 results and 0 failures\n",
      "WARNING flwr 2023-06-09 17:42:28,689 | fedavg.py:243 | No fit_metrics_aggregation_fn provided\n",
      "WARNING:flwr:No fit_metrics_aggregation_fn provided\n",
      "DEBUG flwr 2023-06-09 17:42:28,696 | server.py:168 | evaluate_round 1: strategy sampled 6 clients (out of 24)\n",
      "DEBUG:flwr:evaluate_round 1: strategy sampled 6 clients (out of 24)\n"
     ]
    },
    {
     "name": "stdout",
     "output_type": "stream",
     "text": [
      "\u001b[2m\u001b[36m(launch_and_fit pid=42751)\u001b[0m 31/31 - 1s - loss: 0.6217 - tp: 362.0000 - fp: 189.0000 - tn: 305.0000 - fn: 132.0000 - accuracy: 0.6751 - precision: 0.6570 - recall: 0.7328 - auc: 0.7385 - prc: 0.7232 - val_loss: 0.6018 - val_tp: 323.0000 - val_fp: 129.0000 - val_tn: 272.0000 - val_fn: 78.0000 - val_accuracy: 0.7419 - val_precision: 0.7146 - val_recall: 0.8055 - val_auc: 0.7665 - val_prc: 0.7317 - 1s/epoch - 44ms/step\u001b[32m [repeated 4x across cluster]\u001b[0m\n",
      "\u001b[2m\u001b[36m(launch_and_fit pid=42751)\u001b[0m Epoch 3/3\u001b[32m [repeated 3x across cluster]\u001b[0m\n",
      "\u001b[2m\u001b[36m(launch_and_evaluate pid=42754)\u001b[0m \n",
      "\u001b[2m\u001b[36m(launch_and_evaluate pid=42754)\u001b[0m This is client:  14\n",
      "\u001b[2m\u001b[36m(launch_and_evaluate pid=42754)\u001b[0m Loaded data for client:  14 \n",
      "\u001b[2m\u001b[36m(launch_and_evaluate pid=42754)\u001b[0m \n",
      "\u001b[2m\u001b[36m(launch_and_evaluate pid=42754)\u001b[0m Making model:  14\n",
      "\u001b[2m\u001b[36m(launch_and_evaluate pid=42754)\u001b[0m Client CID: 14 is done.\n",
      "\u001b[2m\u001b[36m(launch_and_evaluate pid=42754)\u001b[0m 1440/1440 - 17s - loss: 0.6462 - tp: 559.0000 - fp: 17315.0000 - tn: 27979.0000 - fn: 227.0000 - accuracy: 0.6193 - precision: 0.0313 - recall: 0.7112 - auc: 0.7090 - prc: 0.0308 - 17s/epoch - 12ms/step\n",
      "\u001b[2m\u001b[36m(launch_and_evaluate pid=42754)\u001b[0m Hi, the loss is  0.6461710333824158\n",
      "\u001b[2m\u001b[36m(launch_and_evaluate pid=42751)\u001b[0m \u001b[32m [repeated 6x across cluster]\u001b[0m\n",
      "\u001b[2m\u001b[36m(launch_and_evaluate pid=42751)\u001b[0m Hi, the loss is  0.6461710333824158\n",
      "\u001b[2m\u001b[36m(launch_and_evaluate pid=42751)\u001b[0m Hi, the loss is  0.6461710333824158\n",
      "\u001b[2m\u001b[36m(launch_and_evaluate pid=42751)\u001b[0m Hi, the loss is  0.6461710333824158\n",
      "\u001b[2m\u001b[36m(launch_and_evaluate pid=42751)\u001b[0m Hi, the loss is  0.6461710333824158\n",
      "\u001b[2m\u001b[36m(launch_and_evaluate pid=42754)\u001b[0m This is client:  15\n",
      "\u001b[2m\u001b[36m(launch_and_evaluate pid=42754)\u001b[0m Loaded data for client:  15 \n",
      "\u001b[2m\u001b[36m(launch_and_evaluate pid=42754)\u001b[0m Making model:  15\n",
      "\u001b[2m\u001b[36m(launch_and_evaluate pid=42754)\u001b[0m Client CID: 15 is done.\n"
     ]
    },
    {
     "name": "stderr",
     "output_type": "stream",
     "text": [
      "\u001b[2m\u001b[36m(raylet)\u001b[0m Spilled 21612 MiB, 5 objects, write throughput 184 MiB/s.\n"
     ]
    },
    {
     "name": "stdout",
     "output_type": "stream",
     "text": [
      "\u001b[2m\u001b[36m(launch_and_evaluate pid=42754)\u001b[0m 1440/1440 - 18s - loss: 0.6449 - tp: 189.0000 - fp: 16566.0000 - tn: 29277.0000 - fn: 48.0000 - accuracy: 0.6395 - precision: 0.0113 - recall: 0.7975 - auc: 0.7794 - prc: 0.0131 - 18s/epoch - 12ms/step\u001b[32m [repeated 2x across cluster]\u001b[0m\n",
      "\u001b[2m\u001b[36m(launch_and_evaluate pid=42754)\u001b[0m Hi, the loss is  0.6448873281478882\u001b[32m [repeated 2x across cluster]\u001b[0m\n",
      "\u001b[2m\u001b[36m(launch_and_evaluate pid=42751)\u001b[0m \u001b[32m [repeated 8x across cluster]\u001b[0m\n",
      "\u001b[2m\u001b[36m(launch_and_evaluate pid=42751)\u001b[0m Hi, the loss is  0.6448873281478882\n",
      "\u001b[2m\u001b[36m(launch_and_evaluate pid=42751)\u001b[0m Hi, the loss is  0.6448873281478882\n",
      "\u001b[2m\u001b[36m(launch_and_evaluate pid=42751)\u001b[0m Hi, the loss is  0.6448873281478882\n",
      "\u001b[2m\u001b[36m(launch_and_evaluate pid=42751)\u001b[0m Hi, the loss is  0.6448873281478882\n",
      "\u001b[2m\u001b[36m(launch_and_evaluate pid=42754)\u001b[0m This is client:  7\n",
      "\u001b[2m\u001b[36m(launch_and_evaluate pid=42754)\u001b[0m Loaded data for client:  7 \n",
      "\u001b[2m\u001b[36m(launch_and_evaluate pid=42754)\u001b[0m Making model:  7\n",
      "\u001b[2m\u001b[36m(launch_and_evaluate pid=42754)\u001b[0m Client CID: 7 is done.\n",
      "\u001b[2m\u001b[36m(launch_and_evaluate pid=42754)\u001b[0m 1440/1440 - 16s - loss: 0.6458 - tp: 346.0000 - fp: 17802.0000 - tn: 27774.0000 - fn: 158.0000 - accuracy: 0.6102 - precision: 0.0191 - recall: 0.6865 - auc: 0.6825 - prc: 0.0204 - 16s/epoch - 11ms/step\u001b[32m [repeated 2x across cluster]\u001b[0m\n",
      "\u001b[2m\u001b[36m(launch_and_evaluate pid=42754)\u001b[0m Hi, the loss is  0.6457639932632446\u001b[32m [repeated 2x across cluster]\u001b[0m\n",
      "\u001b[2m\u001b[36m(launch_and_evaluate pid=42751)\u001b[0m \u001b[32m [repeated 8x across cluster]\u001b[0m\n",
      "\u001b[2m\u001b[36m(launch_and_evaluate pid=42751)\u001b[0m Hi, the loss is  0.6457639932632446\n",
      "\u001b[2m\u001b[36m(launch_and_evaluate pid=42751)\u001b[0m Hi, the loss is  0.6457639932632446\n",
      "\u001b[2m\u001b[36m(launch_and_evaluate pid=42751)\u001b[0m Hi, the loss is  0.6457639932632446\n",
      "\u001b[2m\u001b[36m(launch_and_evaluate pid=42751)\u001b[0m Hi, the loss is  0.6457639932632446\n"
     ]
    },
    {
     "name": "stderr",
     "output_type": "stream",
     "text": [
      "DEBUG flwr 2023-06-09 17:43:25,324 | server.py:182 | evaluate_round 1 received 6 results and 0 failures\n",
      "DEBUG:flwr:evaluate_round 1 received 6 results and 0 failures\n",
      "DEBUG flwr 2023-06-09 17:43:25,328 | server.py:218 | fit_round 2: strategy sampled 18 clients (out of 24)\n",
      "DEBUG:flwr:fit_round 2: strategy sampled 18 clients (out of 24)\n"
     ]
    },
    {
     "name": "stdout",
     "output_type": "stream",
     "text": [
      "\u001b[2m\u001b[36m(launch_and_fit pid=42751)\u001b[0m This is client:  23\n",
      "\u001b[2m\u001b[36m(launch_and_fit pid=42751)\u001b[0m Loaded data for client:  23 \n",
      "\u001b[2m\u001b[36m(launch_and_fit pid=42751)\u001b[0m Making model:  23\n",
      "\u001b[2m\u001b[36m(launch_and_fit pid=42751)\u001b[0m Client CID: 23 is done.\n",
      "\u001b[2m\u001b[36m(launch_and_fit pid=42751)\u001b[0m in fit\n",
      "\u001b[2m\u001b[36m(launch_and_fit pid=42751)\u001b[0m in server round:  2\n",
      "\u001b[2m\u001b[36m(launch_and_fit pid=42751)\u001b[0m Epoch 1/3\n",
      "\u001b[2m\u001b[36m(launch_and_fit pid=42751)\u001b[0m 40/40 - 6s - loss: 0.6136 - tp: 472.0000 - fp: 239.0000 - tn: 394.0000 - fn: 161.0000 - accuracy: 0.6840 - precision: 0.6639 - recall: 0.7457 - auc: 0.7348 - prc: 0.7212 - val_loss: 0.5715 - val_tp: 421.0000 - val_fp: 168.0000 - val_tn: 341.0000 - val_fn: 88.0000 - val_accuracy: 0.7485 - val_precision: 0.7148 - val_recall: 0.8271 - val_auc: 0.7882 - val_prc: 0.7332 - 6s/epoch - 145ms/step\n",
      "\u001b[2m\u001b[36m(launch_and_fit pid=42751)\u001b[0m Epoch 2/3\n",
      "\u001b[2m\u001b[36m(launch_and_evaluate pid=42751)\u001b[0m Epoch 2/3\n",
      "\u001b[2m\u001b[36m(launch_and_evaluate pid=42751)\u001b[0m Epoch 2/3\n",
      "\u001b[2m\u001b[36m(launch_and_fit pid=42751)\u001b[0m \u001b[32m [repeated 4x across cluster]\u001b[0m\n",
      "\u001b[2m\u001b[36m(launch_and_fit pid=42751)\u001b[0m 40/40 - 3s - loss: 0.6090 - tp: 460.0000 - fp: 226.0000 - tn: 407.0000 - fn: 173.0000 - accuracy: 0.6848 - precision: 0.6706 - recall: 0.7267 - auc: 0.7377 - prc: 0.7289 - val_loss: 0.5656 - val_tp: 418.0000 - val_fp: 161.0000 - val_tn: 348.0000 - val_fn: 91.0000 - val_accuracy: 0.7525 - val_precision: 0.7219 - val_recall: 0.8212 - val_auc: 0.7904 - val_prc: 0.7417 - 3s/epoch - 65ms/step\n",
      "\u001b[2m\u001b[36m(launch_and_fit pid=42751)\u001b[0m Epoch 3/3\n",
      "\u001b[2m\u001b[36m(launch_and_fit pid=42751)\u001b[0m 40/40 - 2s - loss: 0.6058 - tp: 455.0000 - fp: 220.0000 - tn: 413.0000 - fn: 178.0000 - accuracy: 0.6856 - precision: 0.6741 - recall: 0.7188 - auc: 0.7396 - prc: 0.7338 - val_loss: 0.5613 - val_tp: 412.0000 - val_fp: 157.0000 - val_tn: 352.0000 - val_fn: 97.0000 - val_accuracy: 0.7505 - val_precision: 0.7241 - val_recall: 0.8094 - val_auc: 0.7920 - val_prc: 0.7487 - 2s/epoch - 52ms/step\n",
      "\u001b[2m\u001b[36m(launch_and_fit pid=42751)\u001b[0m This is client:  17\n",
      "\u001b[2m\u001b[36m(launch_and_fit pid=42751)\u001b[0m Loaded data for client:  17 \n",
      "\u001b[2m\u001b[36m(launch_and_fit pid=42751)\u001b[0m Making model:  17\n",
      "\u001b[2m\u001b[36m(launch_and_fit pid=42751)\u001b[0m \u001b[32m [repeated 2x across cluster]\u001b[0m\n",
      "\u001b[2m\u001b[36m(launch_and_fit pid=42751)\u001b[0m Client CID: 17 is done.\n",
      "\u001b[2m\u001b[36m(launch_and_fit pid=42751)\u001b[0m in fit\n",
      "\u001b[2m\u001b[36m(launch_and_fit pid=42751)\u001b[0m in server round:  2\n",
      "\u001b[2m\u001b[36m(launch_and_fit pid=42751)\u001b[0m Epoch 1/3\n",
      "\u001b[2m\u001b[36m(launch_and_fit pid=42751)\u001b[0m 24/24 - 4s - loss: 0.5903 - tp: 301.0000 - fp: 122.0000 - tn: 259.0000 - fn: 80.0000 - accuracy: 0.7349 - precision: 0.7116 - recall: 0.7900 - auc: 0.7784 - prc: 0.7672 - val_loss: 0.5852 - val_tp: 262.0000 - val_fp: 113.0000 - val_tn: 205.0000 - val_fn: 56.0000 - val_accuracy: 0.7343 - val_precision: 0.6987 - val_recall: 0.8239 - val_auc: 0.7677 - val_prc: 0.7179 - 4s/epoch - 166ms/step\n",
      "\u001b[2m\u001b[36m(launch_and_fit pid=42751)\u001b[0m Epoch 2/3\n",
      "\u001b[2m\u001b[36m(launch_and_fit pid=42751)\u001b[0m 24/24 - 1s - loss: 0.5803 - tp: 300.0000 - fp: 122.0000 - tn: 259.0000 - fn: 81.0000 - accuracy: 0.7336 - precision: 0.7109 - recall: 0.7874 - auc: 0.7801 - prc: 0.7693 - val_loss: 0.5786 - val_tp: 260.0000 - val_fp: 111.0000 - val_tn: 207.0000 - val_fn: 58.0000 - val_accuracy: 0.7343 - val_precision: 0.7008 - val_recall: 0.8176 - val_auc: 0.7668 - val_prc: 0.7188 - 1s/epoch - 60ms/step\n",
      "\u001b[2m\u001b[36m(launch_and_fit pid=42751)\u001b[0m Epoch 3/3\n",
      "\u001b[2m\u001b[36m(launch_and_fit pid=42751)\u001b[0m \u001b[32m [repeated 2x across cluster]\u001b[0m\n",
      "\u001b[2m\u001b[36m(launch_and_fit pid=42751)\u001b[0m 24/24 - 1s - loss: 0.5735 - tp: 300.0000 - fp: 124.0000 - tn: 257.0000 - fn: 81.0000 - accuracy: 0.7310 - precision: 0.7075 - recall: 0.7874 - auc: 0.7798 - prc: 0.7693 - val_loss: 0.5734 - val_tp: 259.0000 - val_fp: 109.0000 - val_tn: 209.0000 - val_fn: 59.0000 - val_accuracy: 0.7358 - val_precision: 0.7038 - val_recall: 0.8145 - val_auc: 0.7678 - val_prc: 0.7225 - 1s/epoch - 59ms/step\n",
      "\u001b[2m\u001b[36m(launch_and_fit pid=42751)\u001b[0m This is client:  6\n",
      "\u001b[2m\u001b[36m(launch_and_fit pid=42751)\u001b[0m Loaded data for client:  6 \n",
      "\u001b[2m\u001b[36m(launch_and_fit pid=42751)\u001b[0m Making model:  6\n",
      "\u001b[2m\u001b[36m(launch_and_fit pid=42751)\u001b[0m Client CID: 6 is done.\n",
      "\u001b[2m\u001b[36m(launch_and_fit pid=42751)\u001b[0m in fit\n",
      "\u001b[2m\u001b[36m(launch_and_fit pid=42751)\u001b[0m in server round:  2\n",
      "\u001b[2m\u001b[36m(launch_and_fit pid=42751)\u001b[0m Epoch 1/3\n",
      "\u001b[2m\u001b[36m(launch_and_fit pid=42751)\u001b[0m 60/60 - 6s - loss: 0.6862 - tp: 521.0000 - fp: 373.0000 - tn: 577.0000 - fn: 429.0000 - accuracy: 0.5779 - precision: 0.5828 - recall: 0.5484 - auc: 0.5877 - prc: 0.5886 - val_loss: 0.6409 - val_tp: 435.0000 - val_fp: 231.0000 - val_tn: 434.0000 - val_fn: 230.0000 - val_accuracy: 0.6534 - val_precision: 0.6532 - val_recall: 0.6541 - val_auc: 0.7057 - val_prc: 0.6959 - 6s/epoch - 97ms/step\n",
      "\u001b[2m\u001b[36m(launch_and_fit pid=42751)\u001b[0m Epoch 2/3\n",
      "\u001b[2m\u001b[36m(launch_and_fit pid=42751)\u001b[0m \u001b[32m [repeated 4x across cluster]\u001b[0m\n",
      "\u001b[2m\u001b[36m(launch_and_fit pid=42751)\u001b[0m 60/60 - 3s - loss: 0.6796 - tp: 525.0000 - fp: 375.0000 - tn: 575.0000 - fn: 425.0000 - accuracy: 0.5789 - precision: 0.5833 - recall: 0.5526 - auc: 0.5927 - prc: 0.5956 - val_loss: 0.6452 - val_tp: 444.0000 - val_fp: 242.0000 - val_tn: 423.0000 - val_fn: 221.0000 - val_accuracy: 0.6519 - val_precision: 0.6472 - val_recall: 0.6677 - val_auc: 0.7137 - val_prc: 0.7073 - 3s/epoch - 50ms/step\n",
      "\u001b[2m\u001b[36m(launch_and_fit pid=42751)\u001b[0m Epoch 3/3\n",
      "\u001b[2m\u001b[36m(launch_and_fit pid=42751)\u001b[0m 60/60 - 3s - loss: 0.6771 - tp: 521.0000 - fp: 375.0000 - tn: 575.0000 - fn: 429.0000 - accuracy: 0.5768 - precision: 0.5815 - recall: 0.5484 - auc: 0.5987 - prc: 0.5981 - val_loss: 0.6455 - val_tp: 439.0000 - val_fp: 231.0000 - val_tn: 434.0000 - val_fn: 226.0000 - val_accuracy: 0.6564 - val_precision: 0.6552 - val_recall: 0.6602 - val_auc: 0.7184 - val_prc: 0.7135 - 3s/epoch - 55ms/step\n",
      "\u001b[2m\u001b[36m(launch_and_fit pid=42751)\u001b[0m \n",
      "\u001b[2m\u001b[36m(launch_and_fit pid=42751)\u001b[0m This is client:  13\n",
      "\u001b[2m\u001b[36m(launch_and_fit pid=42751)\u001b[0m Loaded data for client:  13 \n",
      "\u001b[2m\u001b[36m(launch_and_fit pid=42751)\u001b[0m \n",
      "\u001b[2m\u001b[36m(launch_and_fit pid=42751)\u001b[0m Making model:  13\n",
      "\u001b[2m\u001b[36m(launch_and_fit pid=42751)\u001b[0m \n",
      "\u001b[2m\u001b[36m(launch_and_fit pid=42751)\u001b[0m Client CID: 13 is done.\n",
      "\u001b[2m\u001b[36m(launch_and_fit pid=42751)\u001b[0m \n",
      "\u001b[2m\u001b[36m(launch_and_fit pid=42751)\u001b[0m in fit\n",
      "\u001b[2m\u001b[36m(launch_and_fit pid=42751)\u001b[0m in server round:  2\n",
      "\u001b[2m\u001b[36m(launch_and_fit pid=42751)\u001b[0m Epoch 1/3\n",
      "\u001b[2m\u001b[36m(launch_and_fit pid=42751)\u001b[0m 58/58 - 8s - loss: 0.6498 - tp: 584.0000 - fp: 344.0000 - tn: 579.0000 - fn: 339.0000 - accuracy: 0.6300 - precision: 0.6293 - recall: 0.6327 - auc: 0.6698 - prc: 0.6620 - val_loss: 0.6540 - val_tp: 735.0000 - val_fp: 443.0000 - val_tn: 659.0000 - val_fn: 367.0000 - val_accuracy: 0.6325 - val_precision: 0.6239 - val_recall: 0.6670 - val_auc: 0.6584 - val_prc: 0.6297 - 8s/epoch - 130ms/step\n",
      "\u001b[2m\u001b[36m(launch_and_fit pid=42751)\u001b[0m Epoch 2/3\n",
      "\u001b[2m\u001b[36m(launch_and_fit pid=42751)\u001b[0m 58/58 - 4s - loss: 0.6486 - tp: 596.0000 - fp: 355.0000 - tn: 568.0000 - fn: 327.0000 - accuracy: 0.6306 - precision: 0.6267 - recall: 0.6457 - auc: 0.6707 - prc: 0.6589 - val_loss: 0.6517 - val_tp: 725.0000 - val_fp: 425.0000 - val_tn: 677.0000 - val_fn: 377.0000 - val_accuracy: 0.6361 - val_precision: 0.6304 - val_recall: 0.6579 - val_auc: 0.6634 - val_prc: 0.6370 - 4s/epoch - 74ms/step\n",
      "\u001b[2m\u001b[36m(launch_and_fit pid=42751)\u001b[0m Epoch 3/3\n",
      "\u001b[2m\u001b[36m(launch_and_fit pid=42751)\u001b[0m 58/58 - 4s - loss: 0.6468 - tp: 587.0000 - fp: 336.0000 - tn: 587.0000 - fn: 336.0000 - accuracy: 0.6360 - precision: 0.6360 - recall: 0.6360 - auc: 0.6732 - prc: 0.6653 - val_loss: 0.6498 - val_tp: 726.0000 - val_fp: 429.0000 - val_tn: 673.0000 - val_fn: 376.0000 - val_accuracy: 0.6348 - val_precision: 0.6286 - val_recall: 0.6588 - val_auc: 0.6672 - val_prc: 0.6426 - 4s/epoch - 61ms/step\n",
      "\u001b[2m\u001b[36m(launch_and_fit pid=42751)\u001b[0m \n",
      "\u001b[2m\u001b[36m(launch_and_fit pid=42751)\u001b[0m This is client:  12\n",
      "\u001b[2m\u001b[36m(launch_and_fit pid=42751)\u001b[0m Loaded data for client:  12 \n",
      "\u001b[2m\u001b[36m(launch_and_fit pid=42751)\u001b[0m \n",
      "\u001b[2m\u001b[36m(launch_and_fit pid=42751)\u001b[0m Making model:  12\n",
      "\u001b[2m\u001b[36m(launch_and_fit pid=42751)\u001b[0m \n",
      "\u001b[2m\u001b[36m(launch_and_fit pid=42751)\u001b[0m Client CID: 12 is done.\n",
      "\u001b[2m\u001b[36m(launch_and_fit pid=42751)\u001b[0m \n",
      "\u001b[2m\u001b[36m(launch_and_fit pid=42751)\u001b[0m in fit\n",
      "\u001b[2m\u001b[36m(launch_and_fit pid=42751)\u001b[0m in server round:  2\n",
      "\u001b[2m\u001b[36m(launch_and_fit pid=42751)\u001b[0m Epoch 1/3\n",
      "\u001b[2m\u001b[36m(launch_and_fit pid=42751)\u001b[0m 53/53 - 6s - loss: 0.6751 - tp: 491.0000 - fp: 342.0000 - tn: 497.0000 - fn: 348.0000 - accuracy: 0.5888 - precision: 0.5894 - recall: 0.5852 - auc: 0.6158 - prc: 0.6042 - val_loss: 0.6470 - val_tp: 423.0000 - val_fp: 228.0000 - val_tn: 457.0000 - val_fn: 262.0000 - val_accuracy: 0.6423 - val_precision: 0.6498 - val_recall: 0.6175 - val_auc: 0.6727 - val_prc: 0.6615 - 6s/epoch - 115ms/step\n",
      "\u001b[2m\u001b[36m(launch_and_fit pid=42751)\u001b[0m Epoch 2/3\n",
      "\u001b[2m\u001b[36m(launch_and_fit pid=42751)\u001b[0m 53/53 - 3s - loss: 0.6726 - tp: 477.0000 - fp: 324.0000 - tn: 515.0000 - fn: 362.0000 - accuracy: 0.5912 - precision: 0.5955 - recall: 0.5685 - auc: 0.6180 - prc: 0.6067 - val_loss: 0.6480 - val_tp: 426.0000 - val_fp: 237.0000 - val_tn: 448.0000 - val_fn: 259.0000 - val_accuracy: 0.6380 - val_precision: 0.6425 - val_recall: 0.6219 - val_auc: 0.6732 - val_prc: 0.6629 - 3s/epoch - 50ms/step\n",
      "\u001b[2m\u001b[36m(launch_and_fit pid=42751)\u001b[0m Epoch 3/3\n",
      "\u001b[2m\u001b[36m(launch_and_fit pid=42751)\u001b[0m 53/53 - 3s - loss: 0.6708 - tp: 496.0000 - fp: 339.0000 - tn: 500.0000 - fn: 343.0000 - accuracy: 0.5936 - precision: 0.5940 - recall: 0.5912 - auc: 0.6210 - prc: 0.6112 - val_loss: 0.6486 - val_tp: 429.0000 - val_fp: 239.0000 - val_tn: 446.0000 - val_fn: 256.0000 - val_accuracy: 0.6387 - val_precision: 0.6422 - val_recall: 0.6263 - val_auc: 0.6730 - val_prc: 0.6636 - 3s/epoch - 48ms/step\n",
      "\u001b[2m\u001b[36m(launch_and_fit pid=42751)\u001b[0m \n",
      "\u001b[2m\u001b[36m(launch_and_fit pid=42751)\u001b[0m This is client:  8\n",
      "\u001b[2m\u001b[36m(launch_and_fit pid=42751)\u001b[0m Loaded data for client:  8 \n",
      "\u001b[2m\u001b[36m(launch_and_fit pid=42751)\u001b[0m \n",
      "\u001b[2m\u001b[36m(launch_and_fit pid=42751)\u001b[0m Making model:  8\n",
      "\u001b[2m\u001b[36m(launch_and_fit pid=42751)\u001b[0m \n",
      "\u001b[2m\u001b[36m(launch_and_fit pid=42751)\u001b[0m Client CID: 8 is done.\n",
      "\u001b[2m\u001b[36m(launch_and_fit pid=42751)\u001b[0m \n",
      "\u001b[2m\u001b[36m(launch_and_fit pid=42751)\u001b[0m in fit\n",
      "\u001b[2m\u001b[36m(launch_and_fit pid=42751)\u001b[0m in server round:  2\n",
      "\u001b[2m\u001b[36m(launch_and_fit pid=42751)\u001b[0m Epoch 1/3\n",
      "\u001b[2m\u001b[36m(launch_and_fit pid=42751)\u001b[0m 66/66 - 7s - loss: 0.6271 - tp: 714.0000 - fp: 377.0000 - tn: 676.0000 - fn: 339.0000 - accuracy: 0.6600 - precision: 0.6544 - recall: 0.6781 - auc: 0.7080 - prc: 0.7095 - val_loss: 0.6135 - val_tp: 1005.0000 - val_fp: 464.0000 - val_tn: 914.0000 - val_fn: 373.0000 - val_accuracy: 0.6963 - val_precision: 0.6841 - val_recall: 0.7293 - val_auc: 0.7300 - val_prc: 0.6855 - 7s/epoch - 106ms/step\n",
      "\u001b[2m\u001b[36m(launch_and_fit pid=42751)\u001b[0m Epoch 2/3\n",
      "\u001b[2m\u001b[36m(launch_and_fit pid=42751)\u001b[0m 66/66 - 4s - loss: 0.6231 - tp: 709.0000 - fp: 363.0000 - tn: 690.0000 - fn: 344.0000 - accuracy: 0.6643 - precision: 0.6614 - recall: 0.6733 - auc: 0.7116 - prc: 0.7192 - val_loss: 0.6100 - val_tp: 975.0000 - val_fp: 431.0000 - val_tn: 947.0000 - val_fn: 403.0000 - val_accuracy: 0.6974 - val_precision: 0.6935 - val_recall: 0.7075 - val_auc: 0.7334 - val_prc: 0.6900 - 4s/epoch - 59ms/step\n",
      "\u001b[2m\u001b[36m(launch_and_fit pid=42751)\u001b[0m Epoch 3/3\n",
      "\u001b[2m\u001b[36m(launch_and_fit pid=42751)\u001b[0m 66/66 - 3s - loss: 0.6204 - tp: 686.0000 - fp: 333.0000 - tn: 720.0000 - fn: 367.0000 - accuracy: 0.6676 - precision: 0.6732 - recall: 0.6515 - auc: 0.7140 - prc: 0.7203 - val_loss: 0.6062 - val_tp: 988.0000 - val_fp: 438.0000 - val_tn: 940.0000 - val_fn: 390.0000 - val_accuracy: 0.6996 - val_precision: 0.6928 - val_recall: 0.7170 - val_auc: 0.7363 - val_prc: 0.6960 - 3s/epoch - 50ms/step\n",
      "\u001b[2m\u001b[36m(launch_and_fit pid=42751)\u001b[0m \n",
      "\u001b[2m\u001b[36m(launch_and_fit pid=42751)\u001b[0m This is client:  1\n",
      "\u001b[2m\u001b[36m(launch_and_fit pid=42751)\u001b[0m Loaded data for client:  1 \n",
      "\u001b[2m\u001b[36m(launch_and_fit pid=42751)\u001b[0m \n",
      "\u001b[2m\u001b[36m(launch_and_fit pid=42751)\u001b[0m Making model:  1\n",
      "\u001b[2m\u001b[36m(launch_and_fit pid=42751)\u001b[0m \n",
      "\u001b[2m\u001b[36m(launch_and_fit pid=42751)\u001b[0m Client CID: 1 is done.\n",
      "\u001b[2m\u001b[36m(launch_and_fit pid=42751)\u001b[0m \n",
      "\u001b[2m\u001b[36m(launch_and_fit pid=42751)\u001b[0m in fit\n",
      "\u001b[2m\u001b[36m(launch_and_fit pid=42751)\u001b[0m in server round:  2\n",
      "\u001b[2m\u001b[36m(launch_and_fit pid=42751)\u001b[0m Epoch 1/3\n",
      "\u001b[2m\u001b[36m(launch_and_fit pid=42751)\u001b[0m 36/36 - 5s - loss: 0.6223 - tp: 389.0000 - fp: 209.0000 - tn: 356.0000 - fn: 176.0000 - accuracy: 0.6593 - precision: 0.6505 - recall: 0.6885 - auc: 0.7168 - prc: 0.7351 - val_loss: 0.6326 - val_tp: 369.0000 - val_fp: 185.0000 - val_tn: 348.0000 - val_fn: 164.0000 - val_accuracy: 0.6726 - val_precision: 0.6661 - val_recall: 0.6923 - val_auc: 0.6962 - val_prc: 0.6574 - 5s/epoch - 148ms/step\n",
      "\u001b[2m\u001b[36m(launch_and_fit pid=42751)\u001b[0m Epoch 2/3\n",
      "\u001b[2m\u001b[36m(launch_and_fit pid=42751)\u001b[0m 36/36 - 2s - loss: 0.6181 - tp: 375.0000 - fp: 189.0000 - tn: 376.0000 - fn: 190.0000 - accuracy: 0.6646 - precision: 0.6649 - recall: 0.6637 - auc: 0.7196 - prc: 0.7394 - val_loss: 0.6298 - val_tp: 359.0000 - val_fp: 174.0000 - val_tn: 359.0000 - val_fn: 174.0000 - val_accuracy: 0.6735 - val_precision: 0.6735 - val_recall: 0.6735 - val_auc: 0.6992 - val_prc: 0.6626 - 2s/epoch - 59ms/step\n",
      "\u001b[2m\u001b[36m(launch_and_fit pid=42751)\u001b[0m Epoch 3/3\n",
      "\u001b[2m\u001b[36m(launch_and_fit pid=42751)\u001b[0m 36/36 - 2s - loss: 0.6153 - tp: 370.0000 - fp: 185.0000 - tn: 380.0000 - fn: 195.0000 - accuracy: 0.6637 - precision: 0.6667 - recall: 0.6549 - auc: 0.7215 - prc: 0.7408 - val_loss: 0.6276 - val_tp: 363.0000 - val_fp: 172.0000 - val_tn: 361.0000 - val_fn: 170.0000 - val_accuracy: 0.6792 - val_precision: 0.6785 - val_recall: 0.6811 - val_auc: 0.7020 - val_prc: 0.6686 - 2s/epoch - 59ms/step\n",
      "\u001b[2m\u001b[36m(launch_and_fit pid=42751)\u001b[0m \n",
      "\u001b[2m\u001b[36m(launch_and_fit pid=42751)\u001b[0m This is client:  21\n",
      "\u001b[2m\u001b[36m(launch_and_fit pid=42751)\u001b[0m Loaded data for client:  21 \n",
      "\u001b[2m\u001b[36m(launch_and_fit pid=42751)\u001b[0m \n",
      "\u001b[2m\u001b[36m(launch_and_fit pid=42751)\u001b[0m Making model:  21\n",
      "\u001b[2m\u001b[36m(launch_and_fit pid=42751)\u001b[0m \n",
      "\u001b[2m\u001b[36m(launch_and_fit pid=42751)\u001b[0m Client CID: 21 is done.\n",
      "\u001b[2m\u001b[36m(launch_and_fit pid=42751)\u001b[0m \n",
      "\u001b[2m\u001b[36m(launch_and_fit pid=42751)\u001b[0m in fit\n",
      "\u001b[2m\u001b[36m(launch_and_fit pid=42751)\u001b[0m in server round:  2\n",
      "\u001b[2m\u001b[36m(launch_and_fit pid=42751)\u001b[0m Epoch 1/3\n",
      "\u001b[2m\u001b[36m(launch_and_fit pid=42751)\u001b[0m 51/51 - 5s - loss: 0.6058 - tp: 608.0000 - fp: 321.0000 - tn: 480.0000 - fn: 193.0000 - accuracy: 0.6792 - precision: 0.6545 - recall: 0.7591 - auc: 0.7496 - prc: 0.7440 - val_loss: 0.5809 - val_tp: 512.0000 - val_fp: 219.0000 - val_tn: 403.0000 - val_fn: 110.0000 - val_accuracy: 0.7355 - val_precision: 0.7004 - val_recall: 0.8232 - val_auc: 0.7745 - val_prc: 0.7010 - 5s/epoch - 107ms/step\n",
      "\u001b[2m\u001b[36m(launch_and_fit pid=42754)\u001b[0m \u001b[32m [repeated 4x across cluster]\u001b[0m\n",
      "\u001b[2m\u001b[36m(launch_and_fit pid=42754)\u001b[0m Epoch 2/3\n",
      "\u001b[2m\u001b[36m(launch_and_fit pid=42754)\u001b[0m Epoch 2/3\n",
      "\u001b[2m\u001b[36m(launch_and_fit pid=42754)\u001b[0m Epoch 2/3\n",
      "\u001b[2m\u001b[36m(launch_and_fit pid=42754)\u001b[0m Epoch 2/3\n",
      "\u001b[2m\u001b[36m(launch_and_fit pid=42754)\u001b[0m Epoch 2/3\n",
      "\u001b[2m\u001b[36m(launch_and_fit pid=42754)\u001b[0m Epoch 2/3\n",
      "\u001b[2m\u001b[36m(launch_and_fit pid=42751)\u001b[0m Epoch 2/3\u001b[32m [repeated 2x across cluster]\u001b[0m\n",
      "\u001b[2m\u001b[36m(launch_and_fit pid=42751)\u001b[0m 51/51 - 2s - loss: 0.5994 - tp: 590.0000 - fp: 286.0000 - tn: 515.0000 - fn: 211.0000 - accuracy: 0.6898 - precision: 0.6735 - recall: 0.7366 - auc: 0.7524 - prc: 0.7484 - val_loss: 0.5732 - val_tp: 503.0000 - val_fp: 213.0000 - val_tn: 409.0000 - val_fn: 119.0000 - val_accuracy: 0.7331 - val_precision: 0.7025 - val_recall: 0.8087 - val_auc: 0.7776 - val_prc: 0.7046 - 2s/epoch - 46ms/step\n",
      "\u001b[2m\u001b[36m(launch_and_fit pid=42751)\u001b[0m 51/51 - 3s - loss: 0.5950 - tp: 600.0000 - fp: 294.0000 - tn: 507.0000 - fn: 201.0000 - accuracy: 0.6910 - precision: 0.6711 - recall: 0.7491 - auc: 0.7545 - prc: 0.7475 - val_loss: 0.5665 - val_tp: 504.0000 - val_fp: 211.0000 - val_tn: 411.0000 - val_fn: 118.0000 - val_accuracy: 0.7355 - val_precision: 0.7049 - val_recall: 0.8103 - val_auc: 0.7811 - val_prc: 0.7097 - 3s/epoch - 56ms/step\u001b[32m [repeated 2x across cluster]\u001b[0m\n",
      "\u001b[2m\u001b[36m(launch_and_fit pid=42754)\u001b[0m Epoch 2/3\u001b[32m [repeated 2x across cluster]\u001b[0m\n",
      "\u001b[2m\u001b[36m(launch_and_fit pid=42751)\u001b[0m \n",
      "\u001b[2m\u001b[36m(launch_and_fit pid=42751)\u001b[0m This is client:  11\n",
      "\u001b[2m\u001b[36m(launch_and_fit pid=42751)\u001b[0m Loaded data for client:  11 \n",
      "\u001b[2m\u001b[36m(launch_and_fit pid=42751)\u001b[0m \n",
      "\u001b[2m\u001b[36m(launch_and_fit pid=42751)\u001b[0m Making model:  11\n",
      "\u001b[2m\u001b[36m(launch_and_fit pid=42751)\u001b[0m \n",
      "\u001b[2m\u001b[36m(launch_and_fit pid=42751)\u001b[0m Client CID: 11 is done.\n",
      "\u001b[2m\u001b[36m(launch_and_fit pid=42751)\u001b[0m \n",
      "\u001b[2m\u001b[36m(launch_and_fit pid=42751)\u001b[0m in fit\n",
      "\u001b[2m\u001b[36m(launch_and_fit pid=42751)\u001b[0m in server round:  2\n",
      "\u001b[2m\u001b[36m(launch_and_fit pid=42751)\u001b[0m 31/31 - 5s - loss: 0.6084 - tp: 343.0000 - fp: 157.0000 - tn: 337.0000 - fn: 151.0000 - accuracy: 0.6883 - precision: 0.6860 - recall: 0.6943 - auc: 0.7407 - prc: 0.7277 - val_loss: 0.5861 - val_tp: 307.0000 - val_fp: 120.0000 - val_tn: 281.0000 - val_fn: 94.0000 - val_accuracy: 0.7332 - val_precision: 0.7190 - val_recall: 0.7656 - val_auc: 0.7701 - val_prc: 0.7381 - 5s/epoch - 155ms/step\u001b[32m [repeated 3x across cluster]\u001b[0m\n",
      "\u001b[2m\u001b[36m(launch_and_fit pid=42751)\u001b[0m Epoch 2/3\u001b[32m [repeated 4x across cluster]\u001b[0m\n",
      "\u001b[2m\u001b[36m(launch_and_fit pid=42754)\u001b[0m \u001b[32m [repeated 4x across cluster]\u001b[0m\n",
      "\u001b[2m\u001b[36m(launch_and_fit pid=42754)\u001b[0m Epoch 2/3\n",
      "\u001b[2m\u001b[36m(launch_and_fit pid=42754)\u001b[0m Epoch 2/3\n",
      "\u001b[2m\u001b[36m(launch_and_fit pid=42754)\u001b[0m 31/31 - 2s - loss: 0.6019 - tp: 344.0000 - fp: 156.0000 - tn: 338.0000 - fn: 150.0000 - accuracy: 0.6903 - precision: 0.6880 - recall: 0.6964 - auc: 0.7427 - prc: 0.7260 - val_loss: 0.5803 - val_tp: 305.0000 - val_fp: 119.0000 - val_tn: 282.0000 - val_fn: 96.0000 - val_accuracy: 0.7319 - val_precision: 0.7193 - val_recall: 0.7606 - val_auc: 0.7693 - val_prc: 0.7390 - 2s/epoch - 50ms/step\n",
      "\u001b[2m\u001b[36m(launch_and_fit pid=42754)\u001b[0m 31/31 - 2s - loss: 0.6019 - tp: 344.0000 - fp: 156.0000 - tn: 338.0000 - fn: 150.0000 - accuracy: 0.6903 - precision: 0.6880 - recall: 0.6964 - auc: 0.7427 - prc: 0.7260 - val_loss: 0.5803 - val_tp: 305.0000 - val_fp: 119.0000 - val_tn: 282.0000 - val_fn: 96.0000 - val_accuracy: 0.7319 - val_precision: 0.7193 - val_recall: 0.7606 - val_auc: 0.7693 - val_prc: 0.7390 - 2s/epoch - 50ms/step\n",
      "\u001b[2m\u001b[36m(launch_and_fit pid=42754)\u001b[0m 31/31 - 2s - loss: 0.6019 - tp: 344.0000 - fp: 156.0000 - tn: 338.0000 - fn: 150.0000 - accuracy: 0.6903 - precision: 0.6880 - recall: 0.6964 - auc: 0.7427 - prc: 0.7260 - val_loss: 0.5803 - val_tp: 305.0000 - val_fp: 119.0000 - val_tn: 282.0000 - val_fn: 96.0000 - val_accuracy: 0.7319 - val_precision: 0.7193 - val_recall: 0.7606 - val_auc: 0.7693 - val_prc: 0.7390 - 2s/epoch - 50ms/step\n",
      "\u001b[2m\u001b[36m(launch_and_fit pid=42754)\u001b[0m 31/31 - 2s - loss: 0.6019 - tp: 344.0000 - fp: 156.0000 - tn: 338.0000 - fn: 150.0000 - accuracy: 0.6903 - precision: 0.6880 - recall: 0.6964 - auc: 0.7427 - prc: 0.7260 - val_loss: 0.5803 - val_tp: 305.0000 - val_fp: 119.0000 - val_tn: 282.0000 - val_fn: 96.0000 - val_accuracy: 0.7319 - val_precision: 0.7193 - val_recall: 0.7606 - val_auc: 0.7693 - val_prc: 0.7390 - 2s/epoch - 50ms/step\n",
      "\u001b[2m\u001b[36m(launch_and_fit pid=42751)\u001b[0m This is client:  0\n",
      "\u001b[2m\u001b[36m(launch_and_fit pid=42751)\u001b[0m Loaded data for client:  0 \n",
      "\u001b[2m\u001b[36m(launch_and_fit pid=42751)\u001b[0m Making model:  0\n",
      "\u001b[2m\u001b[36m(launch_and_fit pid=42751)\u001b[0m Client CID: 0 is done.\n",
      "\u001b[2m\u001b[36m(launch_and_fit pid=42751)\u001b[0m in fit\n",
      "\u001b[2m\u001b[36m(launch_and_fit pid=42751)\u001b[0m in server round:  2\n",
      "\u001b[2m\u001b[36m(launch_and_fit pid=42754)\u001b[0m 103/103 - 8s - loss: 0.6553 - tp: 1043.0000 - fp: 638.0000 - tn: 1001.0000 - fn: 596.0000 - accuracy: 0.6236 - precision: 0.6205 - recall: 0.6364 - auc: 0.6576 - prc: 0.6300 - val_loss: 0.6374 - val_tp: 965.0000 - val_fp: 525.0000 - val_tn: 803.0000 - val_fn: 363.0000 - val_accuracy: 0.6657 - val_precision: 0.6477 - val_recall: 0.7267 - val_auc: 0.6908 - val_prc: 0.6424 - 8s/epoch - 75ms/step\u001b[32m [repeated 3x across cluster]\u001b[0m\n",
      "\u001b[2m\u001b[36m(launch_and_fit pid=42754)\u001b[0m Epoch 2/3\u001b[32m [repeated 3x across cluster]\u001b[0m\n",
      "\u001b[2m\u001b[36m(launch_and_fit pid=42751)\u001b[0m \u001b[32m [repeated 4x across cluster]\u001b[0m\n",
      "\u001b[2m\u001b[36m(launch_and_fit pid=42754)\u001b[0m 103/103 - 5s - loss: 0.6513 - tp: 1031.0000 - fp: 606.0000 - tn: 1033.0000 - fn: 608.0000 - accuracy: 0.6297 - precision: 0.6298 - recall: 0.6290 - auc: 0.6656 - prc: 0.6451 - val_loss: 0.6342 - val_tp: 981.0000 - val_fp: 546.0000 - val_tn: 782.0000 - val_fn: 347.0000 - val_accuracy: 0.6638 - val_precision: 0.6424 - val_recall: 0.7387 - val_auc: 0.6984 - val_prc: 0.6587 - 5s/epoch - 49ms/step\u001b[32m [repeated 2x across cluster]\u001b[0m\n",
      "\u001b[2m\u001b[36m(launch_and_fit pid=42754)\u001b[0m Epoch 3/3\u001b[32m [repeated 2x across cluster]\u001b[0m\n",
      "\u001b[2m\u001b[36m(launch_and_fit pid=42751)\u001b[0m \n",
      "\u001b[2m\u001b[36m(launch_and_fit pid=42751)\u001b[0m This is client:  5\n",
      "\u001b[2m\u001b[36m(launch_and_fit pid=42751)\u001b[0m Loaded data for client:  5 \n",
      "\u001b[2m\u001b[36m(launch_and_fit pid=42751)\u001b[0m \n",
      "\u001b[2m\u001b[36m(launch_and_fit pid=42751)\u001b[0m Making model:  5\n",
      "\u001b[2m\u001b[36m(launch_and_fit pid=42751)\u001b[0m \n",
      "\u001b[2m\u001b[36m(launch_and_fit pid=42751)\u001b[0m Client CID: 5 is done.\n",
      "\u001b[2m\u001b[36m(launch_and_fit pid=42751)\u001b[0m \n",
      "\u001b[2m\u001b[36m(launch_and_fit pid=42751)\u001b[0m in fit\n",
      "\u001b[2m\u001b[36m(launch_and_fit pid=42751)\u001b[0m in server round:  2\n",
      "\u001b[2m\u001b[36m(launch_and_fit pid=42754)\u001b[0m 103/103 - 5s - loss: 0.6479 - tp: 1076.0000 - fp: 641.0000 - tn: 998.0000 - fn: 563.0000 - accuracy: 0.6327 - precision: 0.6267 - recall: 0.6565 - auc: 0.6716 - prc: 0.6542 - val_loss: 0.6305 - val_tp: 952.0000 - val_fp: 502.0000 - val_tn: 826.0000 - val_fn: 376.0000 - val_accuracy: 0.6694 - val_precision: 0.6547 - val_recall: 0.7169 - val_auc: 0.7058 - val_prc: 0.6783 - 5s/epoch - 51ms/step\u001b[32m [repeated 3x across cluster]\u001b[0m\n",
      "\u001b[2m\u001b[36m(launch_and_fit pid=42751)\u001b[0m Epoch 1/3\u001b[32m [repeated 2x across cluster]\u001b[0m\n",
      "\u001b[2m\u001b[36m(launch_and_fit pid=42751)\u001b[0m \u001b[32m [repeated 8x across cluster]\u001b[0m\n",
      "\u001b[2m\u001b[36m(launch_and_fit pid=42751)\u001b[0m This is client:  19\u001b[32m [repeated 2x across cluster]\u001b[0m\n",
      "\u001b[2m\u001b[36m(launch_and_fit pid=42751)\u001b[0m Loaded data for client:  19 \u001b[32m [repeated 2x across cluster]\u001b[0m\n",
      "\u001b[2m\u001b[36m(launch_and_fit pid=42751)\u001b[0m Making model:  19\u001b[32m [repeated 2x across cluster]\u001b[0m\n",
      "\u001b[2m\u001b[36m(launch_and_fit pid=42751)\u001b[0m Client CID: 19 is done.\u001b[32m [repeated 2x across cluster]\u001b[0m\n",
      "\u001b[2m\u001b[36m(launch_and_fit pid=42751)\u001b[0m in fit\u001b[32m [repeated 2x across cluster]\u001b[0m\n",
      "\u001b[2m\u001b[36m(launch_and_fit pid=42751)\u001b[0m in server round:  2\u001b[32m [repeated 2x across cluster]\u001b[0m\n",
      "\u001b[2m\u001b[36m(launch_and_fit pid=42754)\u001b[0m 56/56 - 5s - loss: 0.6064 - tp: 653.0000 - fp: 315.0000 - tn: 575.0000 - fn: 237.0000 - accuracy: 0.6899 - precision: 0.6746 - recall: 0.7337 - auc: 0.7436 - prc: 0.7257 - val_loss: 0.5858 - val_tp: 611.0000 - val_fp: 277.0000 - val_tn: 495.0000 - val_fn: 161.0000 - val_accuracy: 0.7163 - val_precision: 0.6881 - val_recall: 0.7915 - val_auc: 0.7663 - val_prc: 0.7161 - 5s/epoch - 98ms/step\u001b[32m [repeated 4x across cluster]\u001b[0m\n",
      "\u001b[2m\u001b[36m(launch_and_fit pid=42754)\u001b[0m Epoch 2/3\u001b[32m [repeated 5x across cluster]\u001b[0m\n",
      "\u001b[2m\u001b[36m(launch_and_fit pid=42751)\u001b[0m 52/52 - 7s - loss: 0.6321 - tp: 567.0000 - fp: 331.0000 - tn: 496.0000 - fn: 260.0000 - accuracy: 0.6427 - precision: 0.6314 - recall: 0.6856 - auc: 0.7012 - prc: 0.6918 - val_loss: 0.6083 - val_tp: 492.0000 - val_fp: 231.0000 - val_tn: 431.0000 - val_fn: 170.0000 - val_accuracy: 0.6971 - val_precision: 0.6805 - val_recall: 0.7432 - val_auc: 0.7397 - val_prc: 0.6906 - 7s/epoch - 126ms/step\u001b[32m [repeated 2x across cluster]\u001b[0m\n",
      "\u001b[2m\u001b[36m(launch_and_fit pid=42754)\u001b[0m 52/52 - 7s - loss: 0.6321 - tp: 567.0000 - fp: 331.0000 - tn: 496.0000 - fn: 260.0000 - accuracy: 0.6427 - precision: 0.6314 - recall: 0.6856 - auc: 0.7012 - prc: 0.6918 - val_loss: 0.6083 - val_tp: 492.0000 - val_fp: 231.0000 - val_tn: 431.0000 - val_fn: 170.0000 - val_accuracy: 0.6971 - val_precision: 0.6805 - val_recall: 0.7432 - val_auc: 0.7397 - val_prc: 0.6906 - 7s/epoch - 126ms/step\n",
      "\u001b[2m\u001b[36m(launch_and_fit pid=42751)\u001b[0m Epoch 2/3\n",
      "\u001b[2m\u001b[36m(launch_and_fit pid=42754)\u001b[0m \n",
      "\u001b[2m\u001b[36m(launch_and_fit pid=42754)\u001b[0m This is client:  3\n",
      "\u001b[2m\u001b[36m(launch_and_fit pid=42754)\u001b[0m Loaded data for client:  3 \n",
      "\u001b[2m\u001b[36m(launch_and_fit pid=42754)\u001b[0m \n",
      "\u001b[2m\u001b[36m(launch_and_fit pid=42754)\u001b[0m Making model:  3\n",
      "\u001b[2m\u001b[36m(launch_and_fit pid=42754)\u001b[0m \n",
      "\u001b[2m\u001b[36m(launch_and_fit pid=42754)\u001b[0m Client CID: 3 is done.\n",
      "\u001b[2m\u001b[36m(launch_and_fit pid=42754)\u001b[0m \n",
      "\u001b[2m\u001b[36m(launch_and_fit pid=42754)\u001b[0m in fit\n",
      "\u001b[2m\u001b[36m(launch_and_fit pid=42754)\u001b[0m in server round:  2\n",
      "\u001b[2m\u001b[36m(launch_and_fit pid=42751)\u001b[0m 52/52 - 2s - loss: 0.6272 - tp: 554.0000 - fp: 310.0000 - tn: 517.0000 - fn: 273.0000 - accuracy: 0.6475 - precision: 0.6412 - recall: 0.6699 - auc: 0.7060 - prc: 0.7004 - val_loss: 0.6047 - val_tp: 486.0000 - val_fp: 220.0000 - val_tn: 442.0000 - val_fn: 176.0000 - val_accuracy: 0.7009 - val_precision: 0.6884 - val_recall: 0.7341 - val_auc: 0.7421 - val_prc: 0.7009 - 2s/epoch - 48ms/step\u001b[32m [repeated 3x across cluster]\u001b[0m\n",
      "\u001b[2m\u001b[36m(launch_and_fit pid=42751)\u001b[0m Epoch 3/3\u001b[32m [repeated 2x across cluster]\u001b[0m\n",
      "\u001b[2m\u001b[36m(launch_and_fit pid=42751)\u001b[0m \u001b[32m [repeated 4x across cluster]\u001b[0m\n",
      "\u001b[2m\u001b[36m(launch_and_fit pid=42751)\u001b[0m Epoch 2/3\n",
      "\u001b[2m\u001b[36m(launch_and_fit pid=42751)\u001b[0m Epoch 2/3\n",
      "\u001b[2m\u001b[36m(launch_and_fit pid=42751)\u001b[0m Epoch 2/3\n",
      "\u001b[2m\u001b[36m(launch_and_fit pid=42751)\u001b[0m Epoch 2/3\n",
      "\u001b[2m\u001b[36m(launch_and_fit pid=42751)\u001b[0m Epoch 2/3\n",
      "\u001b[2m\u001b[36m(launch_and_fit pid=42751)\u001b[0m Epoch 2/3\n",
      "\u001b[2m\u001b[36m(launch_and_fit pid=42754)\u001b[0m 47/47 - 2s - loss: 0.5304 - tp: 616.0000 - fp: 229.0000 - tn: 513.0000 - fn: 126.0000 - accuracy: 0.7608 - precision: 0.7290 - recall: 0.8302 - auc: 0.8186 - prc: 0.7970 - val_loss: 0.4895 - val_tp: 213.0000 - val_fp: 71.0000 - val_tn: 175.0000 - val_fn: 33.0000 - val_accuracy: 0.7886 - val_precision: 0.7500 - val_recall: 0.8659 - val_auc: 0.8588 - val_prc: 0.8373 - 2s/epoch - 45ms/step\u001b[32m [repeated 3x across cluster]\u001b[0m\n",
      "\u001b[2m\u001b[36m(launch_and_fit pid=42754)\u001b[0m Epoch 3/3\u001b[32m [repeated 3x across cluster]\u001b[0m\n",
      "\u001b[2m\u001b[36m(launch_and_fit pid=42754)\u001b[0m This is client:  7\n",
      "\u001b[2m\u001b[36m(launch_and_fit pid=42754)\u001b[0m Loaded data for client:  7 \n",
      "\u001b[2m\u001b[36m(launch_and_fit pid=42754)\u001b[0m Making model:  7\n",
      "\u001b[2m\u001b[36m(launch_and_fit pid=42754)\u001b[0m Client CID: 7 is done.\n",
      "\u001b[2m\u001b[36m(launch_and_fit pid=42754)\u001b[0m in fit\n",
      "\u001b[2m\u001b[36m(launch_and_fit pid=42754)\u001b[0m in server round:  2\n",
      "\u001b[2m\u001b[36m(launch_and_fit pid=42754)\u001b[0m \u001b[32m [repeated 4x across cluster]\u001b[0m\n",
      "\u001b[2m\u001b[36m(launch_and_fit pid=42751)\u001b[0m 83/83 - 5s - loss: 0.6436 - tp: 835.0000 - fp: 482.0000 - tn: 842.0000 - fn: 489.0000 - accuracy: 0.6333 - precision: 0.6340 - recall: 0.6307 - auc: 0.6800 - prc: 0.6717 - val_loss: 0.6192 - val_tp: 1320.0000 - val_fp: 701.0000 - val_tn: 1049.0000 - val_fn: 430.0000 - val_accuracy: 0.6769 - val_precision: 0.6531 - val_recall: 0.7543 - val_auc: 0.7287 - val_prc: 0.6934 - 5s/epoch - 60ms/step\u001b[32m [repeated 2x across cluster]\u001b[0m\n",
      "\u001b[2m\u001b[36m(launch_and_fit pid=42751)\u001b[0m Epoch 3/3\u001b[32m [repeated 3x across cluster]\u001b[0m\n",
      "\u001b[2m\u001b[36m(launch_and_fit pid=42754)\u001b[0m 83/83 - 4s - loss: 0.6477 - tp: 841.0000 - fp: 500.0000 - tn: 816.0000 - fn: 475.0000 - accuracy: 0.6296 - precision: 0.6271 - recall: 0.6391 - auc: 0.6694 - prc: 0.6699 - val_loss: 0.6403 - val_tp: 1043.0000 - val_fp: 587.0000 - val_tn: 1009.0000 - val_fn: 553.0000 - val_accuracy: 0.6429 - val_precision: 0.6399 - val_recall: 0.6535 - val_auc: 0.6874 - val_prc: 0.6711 - 4s/epoch - 50ms/step\u001b[32m [repeated 3x across cluster]\u001b[0m\n",
      "\u001b[2m\u001b[36m(launch_and_fit pid=42754)\u001b[0m Epoch 3/3\u001b[32m [repeated 2x across cluster]\u001b[0m\n"
     ]
    },
    {
     "name": "stderr",
     "output_type": "stream",
     "text": [
      "DEBUG flwr 2023-06-09 17:47:17,443 | server.py:232 | fit_round 2 received 18 results and 0 failures\n",
      "DEBUG:flwr:fit_round 2 received 18 results and 0 failures\n",
      "DEBUG flwr 2023-06-09 17:47:17,476 | server.py:168 | evaluate_round 2: strategy sampled 6 clients (out of 24)\n",
      "DEBUG:flwr:evaluate_round 2: strategy sampled 6 clients (out of 24)\n"
     ]
    },
    {
     "name": "stdout",
     "output_type": "stream",
     "text": [
      "\u001b[2m\u001b[36m(launch_and_evaluate pid=42754)\u001b[0m \n",
      "\u001b[2m\u001b[36m(launch_and_evaluate pid=42754)\u001b[0m This is client:  9\n",
      "\u001b[2m\u001b[36m(launch_and_evaluate pid=42754)\u001b[0m Loaded data for client:  9 \n",
      "\u001b[2m\u001b[36m(launch_and_evaluate pid=42754)\u001b[0m \n",
      "\u001b[2m\u001b[36m(launch_and_evaluate pid=42754)\u001b[0m Making model:  9\n",
      "\u001b[2m\u001b[36m(launch_and_fit pid=42754)\u001b[0m Making model:  9\n",
      "\u001b[2m\u001b[36m(launch_and_evaluate pid=42754)\u001b[0m Client CID: 9 is done.\n",
      "\u001b[2m\u001b[36m(launch_and_evaluate pid=42754)\u001b[0m 1440/1440 - 19s - loss: 0.6193 - tp: 266.0000 - fp: 14735.0000 - tn: 31025.0000 - fn: 54.0000 - accuracy: 0.6791 - precision: 0.0177 - recall: 0.8313 - auc: 0.8298 - prc: 0.0255 - 19s/epoch - 13ms/step\n",
      "\u001b[2m\u001b[36m(launch_and_evaluate pid=42754)\u001b[0m Hi, the loss is  0.6193336248397827\n",
      "\u001b[2m\u001b[36m(launch_and_evaluate pid=42751)\u001b[0m \u001b[32m [repeated 6x across cluster]\u001b[0m\n",
      "\u001b[2m\u001b[36m(launch_and_evaluate pid=42751)\u001b[0m Hi, the loss is  0.6193336248397827\n",
      "\u001b[2m\u001b[36m(launch_and_evaluate pid=42751)\u001b[0m Hi, the loss is  0.6193336248397827\n",
      "\u001b[2m\u001b[36m(launch_and_evaluate pid=42751)\u001b[0m Hi, the loss is  0.6193336248397827\n",
      "\u001b[2m\u001b[36m(launch_and_evaluate pid=42751)\u001b[0m Hi, the loss is  0.6193336248397827\n",
      "\u001b[2m\u001b[36m(launch_and_evaluate pid=42754)\u001b[0m This is client:  4\n",
      "\u001b[2m\u001b[36m(launch_and_evaluate pid=42754)\u001b[0m Loaded data for client:  4 \n",
      "\u001b[2m\u001b[36m(launch_and_evaluate pid=42754)\u001b[0m Making model:  4\n",
      "\u001b[2m\u001b[36m(launch_and_evaluate pid=42754)\u001b[0m Client CID: 4 is done.\n",
      "\u001b[2m\u001b[36m(launch_and_evaluate pid=42751)\u001b[0m Making model:  13\n",
      "\u001b[2m\u001b[36m(launch_and_evaluate pid=42751)\u001b[0m Making model:  13\n",
      "\u001b[2m\u001b[36m(launch_and_evaluate pid=42751)\u001b[0m \u001b[32m [repeated 6x across cluster]\u001b[0m\n",
      "\u001b[2m\u001b[36m(launch_and_evaluate pid=42751)\u001b[0m Making model:  13\n",
      "\u001b[2m\u001b[36m(launch_and_evaluate pid=42751)\u001b[0m Making model:  13\n",
      "\u001b[2m\u001b[36m(launch_and_evaluate pid=42751)\u001b[0m Making model:  13\n",
      "\u001b[2m\u001b[36m(launch_and_evaluate pid=42751)\u001b[0m Client CID: 13 is done.\n",
      "\u001b[2m\u001b[36m(launch_and_evaluate pid=42754)\u001b[0m 1440/1440 - 17s - loss: 0.6128 - tp: 82.0000 - fp: 13401.0000 - tn: 32567.0000 - fn: 30.0000 - accuracy: 0.7085 - precision: 0.0061 - recall: 0.7321 - auc: 0.7739 - prc: 0.0078 - 17s/epoch - 12ms/step\n",
      "\u001b[2m\u001b[36m(launch_and_evaluate pid=42754)\u001b[0m Hi, the loss is  0.6127672791481018\n",
      "\u001b[2m\u001b[36m(launch_and_evaluate pid=42751)\u001b[0m \u001b[32m [repeated 2x across cluster]\u001b[0m\n",
      "\u001b[2m\u001b[36m(launch_and_evaluate pid=42751)\u001b[0m Hi, the loss is  0.6259307265281677\n",
      "\u001b[2m\u001b[36m(launch_and_evaluate pid=42751)\u001b[0m Hi, the loss is  0.6259307265281677\n"
     ]
    },
    {
     "name": "stderr",
     "output_type": "stream",
     "text": [
      "\u001b[2m\u001b[36m(raylet)\u001b[0m Spilled 34579 MiB, 8 objects, write throughput 178 MiB/s.\n"
     ]
    },
    {
     "name": "stdout",
     "output_type": "stream",
     "text": [
      "\u001b[2m\u001b[36m(launch_and_evaluate pid=42754)\u001b[0m \n",
      "\u001b[2m\u001b[36m(launch_and_evaluate pid=42754)\u001b[0m This is client:  8\n",
      "\u001b[2m\u001b[36m(launch_and_evaluate pid=42754)\u001b[0m Loaded data for client:  8 \n",
      "\u001b[2m\u001b[36m(launch_and_evaluate pid=42754)\u001b[0m \n",
      "\u001b[2m\u001b[36m(launch_and_evaluate pid=42754)\u001b[0m Making model:  8\n",
      "\u001b[2m\u001b[36m(launch_and_evaluate pid=42751)\u001b[0m Client CID: 16 is done.\n"
     ]
    },
    {
     "name": "stderr",
     "output_type": "stream",
     "text": [
      "DEBUG flwr 2023-06-09 17:48:33,984 | server.py:182 | evaluate_round 2 received 6 results and 0 failures\n",
      "DEBUG:flwr:evaluate_round 2 received 6 results and 0 failures\n",
      "DEBUG flwr 2023-06-09 17:48:33,988 | server.py:218 | fit_round 3: strategy sampled 18 clients (out of 24)\n",
      "DEBUG:flwr:fit_round 3: strategy sampled 18 clients (out of 24)\n"
     ]
    },
    {
     "name": "stdout",
     "output_type": "stream",
     "text": [
      "\u001b[2m\u001b[36m(launch_and_evaluate pid=42754)\u001b[0m 1440/1440 - 16s - loss: 0.6225 - tp: 369.0000 - fp: 15593.0000 - tn: 30006.0000 - fn: 112.0000 - accuracy: 0.6592 - precision: 0.0231 - recall: 0.7672 - auc: 0.7623 - prc: 0.0258 - 16s/epoch - 11ms/step\n",
      "\u001b[2m\u001b[36m(launch_and_evaluate pid=42754)\u001b[0m Hi, the loss is  0.6225013136863708\n",
      "\u001b[2m\u001b[36m(launch_and_evaluate pid=42754)\u001b[0m \u001b[32m [repeated 6x across cluster]\u001b[0m\n",
      "\u001b[2m\u001b[36m(launch_and_evaluate pid=42751)\u001b[0m Hi, the loss is  0.6225013136863708\n",
      "\u001b[2m\u001b[36m(launch_and_evaluate pid=42751)\u001b[0m Hi, the loss is  0.6225013136863708\n",
      "\u001b[2m\u001b[36m(launch_and_evaluate pid=42751)\u001b[0m Hi, the loss is  0.6225013136863708\n",
      "\u001b[2m\u001b[36m(launch_and_evaluate pid=42754)\u001b[0m Hi, the loss is  0.6225013136863708\n",
      "\u001b[2m\u001b[36m(launch_and_fit pid=42751)\u001b[0m This is client:  19\n",
      "\u001b[2m\u001b[36m(launch_and_fit pid=42751)\u001b[0m Loaded data for client:  19 \n",
      "\u001b[2m\u001b[36m(launch_and_fit pid=42751)\u001b[0m Making model:  19\n",
      "\u001b[2m\u001b[36m(launch_and_fit pid=42754)\u001b[0m Client CID: 14 is done.\n",
      "\u001b[2m\u001b[36m(launch_and_fit pid=42754)\u001b[0m in fit\n",
      "\u001b[2m\u001b[36m(launch_and_fit pid=42754)\u001b[0m in server round:  3\n",
      "\u001b[2m\u001b[36m(launch_and_fit pid=42754)\u001b[0m Epoch 1/3\n",
      "\u001b[2m\u001b[36m(launch_and_fit pid=42751)\u001b[0m 52/52 - 6s - loss: 0.6262 - tp: 544.0000 - fp: 294.0000 - tn: 533.0000 - fn: 283.0000 - accuracy: 0.6511 - precision: 0.6492 - recall: 0.6578 - auc: 0.7072 - prc: 0.7078 - val_loss: 0.5993 - val_tp: 488.0000 - val_fp: 217.0000 - val_tn: 445.0000 - val_fn: 174.0000 - val_accuracy: 0.7047 - val_precision: 0.6922 - val_recall: 0.7372 - val_auc: 0.7503 - val_prc: 0.7130 - 6s/epoch - 119ms/step\n",
      "\u001b[2m\u001b[36m(launch_and_evaluate pid=42751)\u001b[0m Epoch 2/3\n",
      "\u001b[2m\u001b[36m(launch_and_evaluate pid=42751)\u001b[0m Epoch 2/3\n",
      "\u001b[2m\u001b[36m(launch_and_fit pid=42751)\u001b[0m \u001b[32m [repeated 8x across cluster]\u001b[0m\n",
      "\u001b[2m\u001b[36m(launch_and_fit pid=42754)\u001b[0m Epoch 2/3\n",
      "\u001b[2m\u001b[36m(launch_and_fit pid=42754)\u001b[0m Epoch 2/3\n",
      "\u001b[2m\u001b[36m(launch_and_fit pid=42754)\u001b[0m Epoch 2/3\n",
      "\u001b[2m\u001b[36m(launch_and_fit pid=42751)\u001b[0m Epoch 2/3\n",
      "\u001b[2m\u001b[36m(launch_and_fit pid=42751)\u001b[0m Epoch 2/3\n",
      "\u001b[2m\u001b[36m(launch_and_fit pid=42751)\u001b[0m Epoch 2/3\n",
      "\u001b[2m\u001b[36m(launch_and_fit pid=42751)\u001b[0m Epoch 2/3\u001b[32m [repeated 2x across cluster]\u001b[0m\n",
      "\u001b[2m\u001b[36m(launch_and_fit pid=42751)\u001b[0m 52/52 - 3s - loss: 0.6217 - tp: 541.0000 - fp: 287.0000 - tn: 540.0000 - fn: 286.0000 - accuracy: 0.6536 - precision: 0.6534 - recall: 0.6542 - auc: 0.7119 - prc: 0.7129 - val_loss: 0.5977 - val_tp: 472.0000 - val_fp: 199.0000 - val_tn: 463.0000 - val_fn: 190.0000 - val_accuracy: 0.7062 - val_precision: 0.7034 - val_recall: 0.7130 - val_auc: 0.7531 - val_prc: 0.7218 - 3s/epoch - 55ms/step\u001b[32m [repeated 3x across cluster]\u001b[0m\n",
      "\u001b[2m\u001b[36m(launch_and_fit pid=42751)\u001b[0m Epoch 3/3\u001b[32m [repeated 2x across cluster]\u001b[0m\n",
      "\u001b[2m\u001b[36m(launch_and_fit pid=42751)\u001b[0m \n",
      "\u001b[2m\u001b[36m(launch_and_fit pid=42751)\u001b[0m This is client:  22\n",
      "\u001b[2m\u001b[36m(launch_and_fit pid=42751)\u001b[0m Loaded data for client:  22 \n",
      "\u001b[2m\u001b[36m(launch_and_fit pid=42751)\u001b[0m \n",
      "\u001b[2m\u001b[36m(launch_and_fit pid=42751)\u001b[0m Making model:  22\n",
      "\u001b[2m\u001b[36m(launch_and_fit pid=42751)\u001b[0m \n",
      "\u001b[2m\u001b[36m(launch_and_fit pid=42751)\u001b[0m Client CID: 22 is done.\n",
      "\u001b[2m\u001b[36m(launch_and_fit pid=42751)\u001b[0m \n",
      "\u001b[2m\u001b[36m(launch_and_fit pid=42751)\u001b[0m in fit\n",
      "\u001b[2m\u001b[36m(launch_and_fit pid=42751)\u001b[0m in server round:  3\n",
      "\u001b[2m\u001b[36m(launch_and_fit pid=42754)\u001b[0m 83/83 - 5s - loss: 0.6359 - tp: 837.0000 - fp: 443.0000 - tn: 881.0000 - fn: 487.0000 - accuracy: 0.6488 - precision: 0.6539 - recall: 0.6322 - auc: 0.6919 - prc: 0.6869 - val_loss: 0.6106 - val_tp: 1274.0000 - val_fp: 606.0000 - val_tn: 1144.0000 - val_fn: 476.0000 - val_accuracy: 0.6909 - val_precision: 0.6777 - val_recall: 0.7280 - val_auc: 0.7401 - val_prc: 0.7119 - 5s/epoch - 59ms/step\u001b[32m [repeated 2x across cluster]\u001b[0m\n",
      "\u001b[2m\u001b[36m(launch_and_fit pid=42751)\u001b[0m Epoch 1/3\u001b[32m [repeated 2x across cluster]\u001b[0m\n",
      "\u001b[2m\u001b[36m(launch_and_fit pid=42751)\u001b[0m 56/56 - 3s - loss: 0.5879 - tp: 623.0000 - fp: 282.0000 - tn: 608.0000 - fn: 267.0000 - accuracy: 0.6916 - precision: 0.6884 - recall: 0.7000 - auc: 0.7574 - prc: 0.7572 - val_loss: 0.5679 - val_tp: 601.0000 - val_fp: 253.0000 - val_tn: 519.0000 - val_fn: 171.0000 - val_accuracy: 0.7254 - val_precision: 0.7037 - val_recall: 0.7785 - val_auc: 0.7817 - val_prc: 0.7506 - 3s/epoch - 53ms/step\u001b[32m [repeated 3x across cluster]\u001b[0m\n",
      "\u001b[2m\u001b[36m(launch_and_fit pid=42751)\u001b[0m Epoch 3/3\u001b[32m [repeated 2x across cluster]\u001b[0m\n",
      "\u001b[2m\u001b[36m(launch_and_fit pid=42751)\u001b[0m \n",
      "\u001b[2m\u001b[36m(launch_and_fit pid=42751)\u001b[0m This is client:  17\n",
      "\u001b[2m\u001b[36m(launch_and_fit pid=42751)\u001b[0m Loaded data for client:  17 \n",
      "\u001b[2m\u001b[36m(launch_and_fit pid=42751)\u001b[0m \n",
      "\u001b[2m\u001b[36m(launch_and_fit pid=42751)\u001b[0m Making model:  17\n",
      "\u001b[2m\u001b[36m(launch_and_fit pid=42751)\u001b[0m \n",
      "\u001b[2m\u001b[36m(launch_and_fit pid=42751)\u001b[0m Client CID: 17 is done.\n",
      "\u001b[2m\u001b[36m(launch_and_fit pid=42751)\u001b[0m \n",
      "\u001b[2m\u001b[36m(launch_and_fit pid=42751)\u001b[0m in fit\n",
      "\u001b[2m\u001b[36m(launch_and_fit pid=42751)\u001b[0m in server round:  3\n",
      "\u001b[2m\u001b[36m(launch_and_fit pid=42751)\u001b[0m Epoch 1/3\n",
      "\u001b[2m\u001b[36m(launch_and_fit pid=42754)\u001b[0m \u001b[32m [repeated 2x across cluster]\u001b[0m\n",
      "\u001b[2m\u001b[36m(launch_and_fit pid=42754)\u001b[0m \n",
      "\u001b[2m\u001b[36m(launch_and_fit pid=42754)\u001b[0m \n",
      "\u001b[2m\u001b[36m(launch_and_fit pid=42754)\u001b[0m Making model:  5\n",
      "\u001b[2m\u001b[36m(launch_and_fit pid=42754)\u001b[0m Client CID: 5 is done.\n",
      "\u001b[2m\u001b[36m(launch_and_fit pid=42754)\u001b[0m in fit\n",
      "\u001b[2m\u001b[36m(launch_and_fit pid=42754)\u001b[0m in server round:  3\n",
      "\u001b[2m\u001b[36m(launch_and_fit pid=42751)\u001b[0m 24/24 - 9s - loss: 0.5761 - tp: 300.0000 - fp: 119.0000 - tn: 262.0000 - fn: 81.0000 - accuracy: 0.7375 - precision: 0.7160 - recall: 0.7874 - auc: 0.7841 - prc: 0.7756 - val_loss: 0.5756 - val_tp: 257.0000 - val_fp: 108.0000 - val_tn: 210.0000 - val_fn: 61.0000 - val_accuracy: 0.7343 - val_precision: 0.7041 - val_recall: 0.8082 - val_auc: 0.7733 - val_prc: 0.7240 - 9s/epoch - 367ms/step\n",
      "\u001b[2m\u001b[36m(launch_and_fit pid=42751)\u001b[0m Epoch 2/3\n",
      "\u001b[2m\u001b[36m(launch_and_fit pid=42751)\u001b[0m 24/24 - 2s - loss: 0.5682 - tp: 296.0000 - fp: 114.0000 - tn: 267.0000 - fn: 85.0000 - accuracy: 0.7388 - precision: 0.7220 - recall: 0.7769 - auc: 0.7862 - prc: 0.7829 - val_loss: 0.5713 - val_tp: 252.0000 - val_fp: 107.0000 - val_tn: 211.0000 - val_fn: 66.0000 - val_accuracy: 0.7280 - val_precision: 0.7019 - val_recall: 0.7925 - val_auc: 0.7735 - val_prc: 0.7280 - 2s/epoch - 100ms/step\n",
      "\u001b[2m\u001b[36m(launch_and_fit pid=42751)\u001b[0m 24/24 - 2s - loss: 0.5623 - tp: 297.0000 - fp: 113.0000 - tn: 268.0000 - fn: 84.0000 - accuracy: 0.7415 - precision: 0.7244 - recall: 0.7795 - auc: 0.7874 - prc: 0.7818 - val_loss: 0.5686 - val_tp: 251.0000 - val_fp: 104.0000 - val_tn: 214.0000 - val_fn: 67.0000 - val_accuracy: 0.7311 - val_precision: 0.7070 - val_recall: 0.7893 - val_auc: 0.7735 - val_prc: 0.7279 - 2s/epoch - 70ms/step\n",
      "\u001b[2m\u001b[36m(launch_and_fit pid=42751)\u001b[0m This is client:  15\n",
      "\u001b[2m\u001b[36m(launch_and_fit pid=42751)\u001b[0m Loaded data for client:  15 \n",
      "\u001b[2m\u001b[36m(launch_and_fit pid=42751)\u001b[0m \u001b[32m [repeated 4x across cluster]\u001b[0m\n",
      "\u001b[2m\u001b[36m(launch_and_fit pid=42751)\u001b[0m Making model:  15\n",
      "\u001b[2m\u001b[36m(launch_and_fit pid=42751)\u001b[0m Epoch 1/3\n",
      "\u001b[2m\u001b[36m(launch_and_fit pid=42751)\u001b[0m Epoch 1/3\n",
      "\u001b[2m\u001b[36m(launch_and_fit pid=42751)\u001b[0m Epoch 1/3\n",
      "\u001b[2m\u001b[36m(launch_and_fit pid=42751)\u001b[0m Epoch 1/3\u001b[32m [repeated 3x across cluster]\u001b[0m\n",
      "\u001b[2m\u001b[36m(launch_and_fit pid=42754)\u001b[0m 7/7 - 9s - loss: 0.6663 - tp: 49.0000 - fp: 27.0000 - tn: 70.0000 - fn: 48.0000 - accuracy: 0.6134 - precision: 0.6447 - recall: 0.5052 - auc: 0.6308 - prc: 0.6461 - val_loss: 0.6168 - val_tp: 35.0000 - val_fp: 14.0000 - val_tn: 39.0000 - val_fn: 18.0000 - val_accuracy: 0.6981 - val_precision: 0.7143 - val_recall: 0.6604 - val_auc: 0.7115 - val_prc: 0.7168 - 9s/epoch - 1s/step\n",
      "\u001b[2m\u001b[36m(launch_and_fit pid=42754)\u001b[0m 7/7 - 0s - loss: 0.6650 - tp: 49.0000 - fp: 27.0000 - tn: 70.0000 - fn: 48.0000 - accuracy: 0.6134 - precision: 0.6447 - recall: 0.5052 - auc: 0.6315 - prc: 0.6476 - val_loss: 0.6167 - val_tp: 35.0000 - val_fp: 14.0000 - val_tn: 39.0000 - val_fn: 18.0000 - val_accuracy: 0.6981 - val_precision: 0.7143 - val_recall: 0.6604 - val_auc: 0.7132 - val_prc: 0.7171 - 402ms/epoch - 57ms/step\n",
      "\u001b[2m\u001b[36m(launch_and_fit pid=42751)\u001b[0m \u001b[32m [repeated 2x across cluster]\u001b[0m\n",
      "\u001b[2m\u001b[36m(launch_and_fit pid=42754)\u001b[0m 7/7 - 0s - loss: 0.6641 - tp: 48.0000 - fp: 27.0000 - tn: 70.0000 - fn: 49.0000 - accuracy: 0.6082 - precision: 0.6400 - recall: 0.4948 - auc: 0.6317 - prc: 0.6469 - val_loss: 0.6162 - val_tp: 34.0000 - val_fp: 14.0000 - val_tn: 39.0000 - val_fn: 19.0000 - val_accuracy: 0.6887 - val_precision: 0.7083 - val_recall: 0.6415 - val_auc: 0.7136 - val_prc: 0.7144 - 421ms/epoch - 60ms/step\n",
      "\u001b[2m\u001b[36m(launch_and_fit pid=42751)\u001b[0m Epoch 2/3\u001b[32m [repeated 3x across cluster]\u001b[0m\n",
      "\u001b[2m\u001b[36m(launch_and_fit pid=42751)\u001b[0m 44/44 - 2s - loss: 0.5238 - tp: 568.0000 - fp: 197.0000 - tn: 506.0000 - fn: 135.0000 - accuracy: 0.7639 - precision: 0.7425 - recall: 0.8080 - auc: 0.8346 - prc: 0.8242 - val_loss: 0.5465 - val_tp: 425.0000 - val_fp: 162.0000 - val_tn: 368.0000 - val_fn: 105.0000 - val_accuracy: 0.7481 - val_precision: 0.7240 - val_recall: 0.8019 - val_auc: 0.8010 - val_prc: 0.7555 - 2s/epoch - 55ms/step\u001b[32m [repeated 2x across cluster]\u001b[0m\n",
      "\u001b[2m\u001b[36m(launch_and_fit pid=42751)\u001b[0m 44/44 - 3s - loss: 0.5132 - tp: 568.0000 - fp: 192.0000 - tn: 511.0000 - fn: 135.0000 - accuracy: 0.7674 - precision: 0.7474 - recall: 0.8080 - auc: 0.8366 - prc: 0.8266 - val_loss: 0.5418 - val_tp: 421.0000 - val_fp: 158.0000 - val_tn: 372.0000 - val_fn: 109.0000 - val_accuracy: 0.7481 - val_precision: 0.7271 - val_recall: 0.7943 - val_auc: 0.8020 - val_prc: 0.7574 - 3s/epoch - 64ms/step\n",
      "\u001b[2m\u001b[36m(launch_and_fit pid=42751)\u001b[0m \n",
      "\u001b[2m\u001b[36m(launch_and_fit pid=42751)\u001b[0m This is client:  16\n",
      "\u001b[2m\u001b[36m(launch_and_fit pid=42751)\u001b[0m Loaded data for client:  16 \n",
      "\u001b[2m\u001b[36m(launch_and_fit pid=42751)\u001b[0m \n",
      "\u001b[2m\u001b[36m(launch_and_fit pid=42751)\u001b[0m Making model:  16\n",
      "\u001b[2m\u001b[36m(launch_and_fit pid=42751)\u001b[0m Making model:  16\n",
      "\u001b[2m\u001b[36m(launch_and_fit pid=42751)\u001b[0m \n",
      "\u001b[2m\u001b[36m(launch_and_fit pid=42751)\u001b[0m Client CID: 16 is done.\n",
      "\u001b[2m\u001b[36m(launch_and_fit pid=42751)\u001b[0m \n",
      "\u001b[2m\u001b[36m(launch_and_fit pid=42751)\u001b[0m in fit\n",
      "\u001b[2m\u001b[36m(launch_and_fit pid=42751)\u001b[0m in server round:  3\n",
      "\u001b[2m\u001b[36m(launch_and_fit pid=42751)\u001b[0m Epoch 1/3\n",
      "\u001b[2m\u001b[36m(launch_and_fit pid=42751)\u001b[0m 46/46 - 8s - loss: 0.5197 - tp: 624.0000 - fp: 205.0000 - tn: 521.0000 - fn: 102.0000 - accuracy: 0.7886 - precision: 0.7527 - recall: 0.8595 - auc: 0.8542 - prc: 0.8167 - val_loss: 0.5199 - val_tp: 346.0000 - val_fp: 130.0000 - val_tn: 262.0000 - val_fn: 46.0000 - val_accuracy: 0.7755 - val_precision: 0.7269 - val_recall: 0.8827 - val_auc: 0.8402 - val_prc: 0.8049 - 8s/epoch - 163ms/step\n",
      "\u001b[2m\u001b[36m(launch_and_fit pid=42751)\u001b[0m Epoch 2/3\n",
      "\u001b[2m\u001b[36m(launch_and_fit pid=42751)\u001b[0m 46/46 - 4s - loss: 0.4941 - tp: 615.0000 - fp: 192.0000 - tn: 534.0000 - fn: 111.0000 - accuracy: 0.7913 - precision: 0.7621 - recall: 0.8471 - auc: 0.8577 - prc: 0.8185 - val_loss: 0.5044 - val_tp: 340.0000 - val_fp: 120.0000 - val_tn: 272.0000 - val_fn: 52.0000 - val_accuracy: 0.7806 - val_precision: 0.7391 - val_recall: 0.8673 - val_auc: 0.8415 - val_prc: 0.8101 - 4s/epoch - 82ms/step\n",
      "\u001b[2m\u001b[36m(launch_and_fit pid=42751)\u001b[0m Epoch 3/3\n",
      "\u001b[2m\u001b[36m(launch_and_fit pid=42751)\u001b[0m 46/46 - 8s - loss: 0.4808 - tp: 608.0000 - fp: 185.0000 - tn: 541.0000 - fn: 118.0000 - accuracy: 0.7913 - precision: 0.7667 - recall: 0.8375 - auc: 0.8585 - prc: 0.8245 - val_loss: 0.4974 - val_tp: 340.0000 - val_fp: 120.0000 - val_tn: 272.0000 - val_fn: 52.0000 - val_accuracy: 0.7806 - val_precision: 0.7391 - val_recall: 0.8673 - val_auc: 0.8420 - val_prc: 0.8084 - 8s/epoch - 171ms/step\n",
      "\u001b[2m\u001b[36m(launch_and_fit pid=42751)\u001b[0m \n",
      "\u001b[2m\u001b[36m(launch_and_fit pid=42751)\u001b[0m This is client:  23\n",
      "\u001b[2m\u001b[36m(launch_and_fit pid=42751)\u001b[0m Loaded data for client:  23 \n",
      "\u001b[2m\u001b[36m(launch_and_fit pid=42751)\u001b[0m \n",
      "\u001b[2m\u001b[36m(launch_and_fit pid=42751)\u001b[0m Making model:  23\n",
      "\u001b[2m\u001b[36m(launch_and_fit pid=42751)\u001b[0m Client CID: 23 is done.\n",
      "\u001b[2m\u001b[36m(launch_and_fit pid=42751)\u001b[0m in fit\n",
      "\u001b[2m\u001b[36m(launch_and_fit pid=42751)\u001b[0m in server round:  3\n",
      "\u001b[2m\u001b[36m(launch_and_fit pid=42751)\u001b[0m Epoch 1/3\n",
      "\u001b[2m\u001b[36m(launch_and_fit pid=42751)\u001b[0m 40/40 - 13s - loss: 0.6048 - tp: 455.0000 - fp: 216.0000 - tn: 417.0000 - fn: 178.0000 - accuracy: 0.6888 - precision: 0.6781 - recall: 0.7188 - auc: 0.7426 - prc: 0.7435 - val_loss: 0.5623 - val_tp: 413.0000 - val_fp: 156.0000 - val_tn: 353.0000 - val_fn: 96.0000 - val_accuracy: 0.7525 - val_precision: 0.7258 - val_recall: 0.8114 - val_auc: 0.7960 - val_prc: 0.7584 - 13s/epoch - 314ms/step\n",
      "\u001b[2m\u001b[36m(launch_and_fit pid=42754)\u001b[0m \u001b[32m [repeated 6x across cluster]\u001b[0m\n",
      "\u001b[2m\u001b[36m(launch_and_fit pid=42754)\u001b[0m Epoch 2/3\n",
      "\u001b[2m\u001b[36m(launch_and_fit pid=42754)\u001b[0m Epoch 2/3\n",
      "\u001b[2m\u001b[36m(launch_and_fit pid=42754)\u001b[0m Epoch 2/3\n",
      "\u001b[2m\u001b[36m(launch_and_fit pid=42754)\u001b[0m Epoch 2/3\n",
      "\u001b[2m\u001b[36m(launch_and_fit pid=42754)\u001b[0m Epoch 2/3\n",
      "\u001b[2m\u001b[36m(launch_and_fit pid=42754)\u001b[0m Epoch 2/3\n",
      "\u001b[2m\u001b[36m(launch_and_fit pid=42751)\u001b[0m Epoch 2/3\u001b[32m [repeated 2x across cluster]\u001b[0m\n",
      "\u001b[2m\u001b[36m(launch_and_fit pid=42751)\u001b[0m This is client:  21\n",
      "\u001b[2m\u001b[36m(launch_and_fit pid=42751)\u001b[0m Loaded data for client:  21 \n",
      "\u001b[2m\u001b[36m(launch_and_fit pid=42751)\u001b[0m 40/40 - 2s - loss: 0.5989 - tp: 455.0000 - fp: 214.0000 - tn: 419.0000 - fn: 178.0000 - accuracy: 0.6904 - precision: 0.6801 - recall: 0.7188 - auc: 0.7476 - prc: 0.7538 - val_loss: 0.5538 - val_tp: 412.0000 - val_fp: 152.0000 - val_tn: 357.0000 - val_fn: 97.0000 - val_accuracy: 0.7554 - val_precision: 0.7305 - val_recall: 0.8094 - val_auc: 0.8004 - val_prc: 0.7664 - 2s/epoch - 57ms/step\u001b[32m [repeated 4x across cluster]\u001b[0m\n",
      "\u001b[2m\u001b[36m(launch_and_fit pid=42751)\u001b[0m \u001b[32m [repeated 2x across cluster]\u001b[0m\n",
      "\u001b[2m\u001b[36m(launch_and_fit pid=42754)\u001b[0m Epoch 3/3\u001b[32m [repeated 3x across cluster]\u001b[0m\n",
      "\u001b[2m\u001b[36m(launch_and_fit pid=42751)\u001b[0m Making model:  21\n",
      "\u001b[2m\u001b[36m(launch_and_fit pid=42751)\u001b[0m Client CID: 21 is done.\n",
      "\u001b[2m\u001b[36m(launch_and_fit pid=42751)\u001b[0m in fit\n",
      "\u001b[2m\u001b[36m(launch_and_fit pid=42751)\u001b[0m in server round:  3\n",
      "\u001b[2m\u001b[36m(launch_and_fit pid=42751)\u001b[0m 51/51 - 6s - loss: 0.5968 - tp: 601.0000 - fp: 296.0000 - tn: 505.0000 - fn: 200.0000 - accuracy: 0.6904 - precision: 0.6700 - recall: 0.7503 - auc: 0.7569 - prc: 0.7513 - val_loss: 0.5702 - val_tp: 505.0000 - val_fp: 209.0000 - val_tn: 413.0000 - val_fn: 117.0000 - val_accuracy: 0.7379 - val_precision: 0.7073 - val_recall: 0.8119 - val_auc: 0.7859 - val_prc: 0.7184 - 6s/epoch - 114ms/step\u001b[32m [repeated 2x across cluster]\u001b[0m\n",
      "\u001b[2m\u001b[36m(launch_and_fit pid=42751)\u001b[0m \u001b[32m [repeated 2x across cluster]\u001b[0m\n",
      "\u001b[2m\u001b[36m(launch_and_fit pid=42751)\u001b[0m 51/51 - 6s - loss: 0.5968 - tp: 601.0000 - fp: 296.0000 - tn: 505.0000 - fn: 200.0000 - accuracy: 0.6904 - precision: 0.6700 - recall: 0.7503 - auc: 0.7569 - prc: 0.7513 - val_loss: 0.5702 - val_tp: 505.0000 - val_fp: 209.0000 - val_tn: 413.0000 - val_fn: 117.0000 - val_accuracy: 0.7379 - val_precision: 0.7073 - val_recall: 0.8119 - val_auc: 0.7859 - val_prc: 0.7184 - 6s/epoch - 114ms/step\n",
      "\u001b[2m\u001b[36m(launch_and_fit pid=42751)\u001b[0m Epoch 2/3\n",
      "\u001b[2m\u001b[36m(launch_and_fit pid=42751)\u001b[0m Epoch 3/3\n"
     ]
    },
    {
     "name": "stderr",
     "output_type": "stream",
     "text": [
      "\u001b[2m\u001b[36m(raylet)\u001b[0m Spilled 69159 MiB, 16 objects, write throughput 148 MiB/s.\n"
     ]
    },
    {
     "name": "stdout",
     "output_type": "stream",
     "text": [
      "\u001b[2m\u001b[36m(launch_and_fit pid=42751)\u001b[0m This is client:  7\n",
      "\u001b[2m\u001b[36m(launch_and_fit pid=42751)\u001b[0m Loaded data for client:  7 \n",
      "\u001b[2m\u001b[36m(launch_and_fit pid=42751)\u001b[0m Making model:  7\n",
      "\u001b[2m\u001b[36m(launch_and_fit pid=42751)\u001b[0m 51/51 - 2s - loss: 0.5879 - tp: 587.0000 - fp: 258.0000 - tn: 543.0000 - fn: 214.0000 - accuracy: 0.7054 - precision: 0.6947 - recall: 0.7328 - auc: 0.7606 - prc: 0.7593 - val_loss: 0.5602 - val_tp: 495.0000 - val_fp: 202.0000 - val_tn: 420.0000 - val_fn: 127.0000 - val_accuracy: 0.7355 - val_precision: 0.7102 - val_recall: 0.7958 - val_auc: 0.7906 - val_prc: 0.7271 - 2s/epoch - 48ms/step\u001b[32m [repeated 2x across cluster]\u001b[0m\n",
      "\u001b[2m\u001b[36m(launch_and_fit pid=42751)\u001b[0m \u001b[32m [repeated 2x across cluster]\u001b[0m\n",
      "\u001b[2m\u001b[36m(launch_and_fit pid=42751)\u001b[0m Client CID: 7 is done.\n",
      "\u001b[2m\u001b[36m(launch_and_fit pid=42751)\u001b[0m in fit\n",
      "\u001b[2m\u001b[36m(launch_and_fit pid=42751)\u001b[0m in server round:  3\n",
      "\u001b[2m\u001b[36m(launch_and_fit pid=42751)\u001b[0m Epoch 1/3\n",
      "\u001b[2m\u001b[36m(launch_and_fit pid=42754)\u001b[0m 36/36 - 7s - loss: 0.6149 - tp: 372.0000 - fp: 183.0000 - tn: 382.0000 - fn: 193.0000 - accuracy: 0.6673 - precision: 0.6703 - recall: 0.6584 - auc: 0.7224 - prc: 0.7430 - val_loss: 0.6275 - val_tp: 354.0000 - val_fp: 167.0000 - val_tn: 366.0000 - val_fn: 179.0000 - val_accuracy: 0.6754 - val_precision: 0.6795 - val_recall: 0.6642 - val_auc: 0.7031 - val_prc: 0.6719 - 7s/epoch - 200ms/step\n",
      "\u001b[2m\u001b[36m(launch_and_fit pid=42754)\u001b[0m 36/36 - 7s - loss: 0.6149 - tp: 372.0000 - fp: 183.0000 - tn: 382.0000 - fn: 193.0000 - accuracy: 0.6673 - precision: 0.6703 - recall: 0.6584 - auc: 0.7224 - prc: 0.7430 - val_loss: 0.6275 - val_tp: 354.0000 - val_fp: 167.0000 - val_tn: 366.0000 - val_fn: 179.0000 - val_accuracy: 0.6754 - val_precision: 0.6795 - val_recall: 0.6642 - val_auc: 0.7031 - val_prc: 0.6719 - 7s/epoch - 200ms/step\n",
      "\u001b[2m\u001b[36m(launch_and_fit pid=42754)\u001b[0m 36/36 - 7s - loss: 0.6149 - tp: 372.0000 - fp: 183.0000 - tn: 382.0000 - fn: 193.0000 - accuracy: 0.6673 - precision: 0.6703 - recall: 0.6584 - auc: 0.7224 - prc: 0.7430 - val_loss: 0.6275 - val_tp: 354.0000 - val_fp: 167.0000 - val_tn: 366.0000 - val_fn: 179.0000 - val_accuracy: 0.6754 - val_precision: 0.6795 - val_recall: 0.6642 - val_auc: 0.7031 - val_prc: 0.6719 - 7s/epoch - 200ms/step\n",
      "\u001b[2m\u001b[36m(launch_and_fit pid=42754)\u001b[0m 36/36 - 7s - loss: 0.6149 - tp: 372.0000 - fp: 183.0000 - tn: 382.0000 - fn: 193.0000 - accuracy: 0.6673 - precision: 0.6703 - recall: 0.6584 - auc: 0.7224 - prc: 0.7430 - val_loss: 0.6275 - val_tp: 354.0000 - val_fp: 167.0000 - val_tn: 366.0000 - val_fn: 179.0000 - val_accuracy: 0.6754 - val_precision: 0.6795 - val_recall: 0.6642 - val_auc: 0.7031 - val_prc: 0.6719 - 7s/epoch - 200ms/step\n",
      "\u001b[2m\u001b[36m(launch_and_fit pid=42754)\u001b[0m \u001b[32m [repeated 6x across cluster]\u001b[0m\n",
      "\u001b[2m\u001b[36m(launch_and_fit pid=42754)\u001b[0m 36/36 - 7s - loss: 0.6149 - tp: 372.0000 - fp: 183.0000 - tn: 382.0000 - fn: 193.0000 - accuracy: 0.6673 - precision: 0.6703 - recall: 0.6584 - auc: 0.7224 - prc: 0.7430 - val_loss: 0.6275 - val_tp: 354.0000 - val_fp: 167.0000 - val_tn: 366.0000 - val_fn: 179.0000 - val_accuracy: 0.6754 - val_precision: 0.6795 - val_recall: 0.6642 - val_auc: 0.7031 - val_prc: 0.6719 - 7s/epoch - 200ms/step\n",
      "\u001b[2m\u001b[36m(launch_and_fit pid=42754)\u001b[0m 36/36 - 7s - loss: 0.6149 - tp: 372.0000 - fp: 183.0000 - tn: 382.0000 - fn: 193.0000 - accuracy: 0.6673 - precision: 0.6703 - recall: 0.6584 - auc: 0.7224 - prc: 0.7430 - val_loss: 0.6275 - val_tp: 354.0000 - val_fp: 167.0000 - val_tn: 366.0000 - val_fn: 179.0000 - val_accuracy: 0.6754 - val_precision: 0.6795 - val_recall: 0.6642 - val_auc: 0.7031 - val_prc: 0.6719 - 7s/epoch - 200ms/step\n",
      "\u001b[2m\u001b[36m(launch_and_fit pid=42754)\u001b[0m 36/36 - 7s - loss: 0.6149 - tp: 372.0000 - fp: 183.0000 - tn: 382.0000 - fn: 193.0000 - accuracy: 0.6673 - precision: 0.6703 - recall: 0.6584 - auc: 0.7224 - prc: 0.7430 - val_loss: 0.6275 - val_tp: 354.0000 - val_fp: 167.0000 - val_tn: 366.0000 - val_fn: 179.0000 - val_accuracy: 0.6754 - val_precision: 0.6795 - val_recall: 0.6642 - val_auc: 0.7031 - val_prc: 0.6719 - 7s/epoch - 200ms/step\n",
      "\u001b[2m\u001b[36m(launch_and_fit pid=42754)\u001b[0m 36/36 - 7s - loss: 0.6149 - tp: 372.0000 - fp: 183.0000 - tn: 382.0000 - fn: 193.0000 - accuracy: 0.6673 - precision: 0.6703 - recall: 0.6584 - auc: 0.7224 - prc: 0.7430 - val_loss: 0.6275 - val_tp: 354.0000 - val_fp: 167.0000 - val_tn: 366.0000 - val_fn: 179.0000 - val_accuracy: 0.6754 - val_precision: 0.6795 - val_recall: 0.6642 - val_auc: 0.7031 - val_prc: 0.6719 - 7s/epoch - 200ms/step\n",
      "\u001b[2m\u001b[36m(launch_and_fit pid=42754)\u001b[0m Epoch 2/3\n",
      "\u001b[2m\u001b[36m(launch_and_fit pid=42751)\u001b[0m 83/83 - 9s - loss: 0.6447 - tp: 794.0000 - fp: 430.0000 - tn: 886.0000 - fn: 522.0000 - accuracy: 0.6383 - precision: 0.6487 - recall: 0.6033 - auc: 0.6739 - prc: 0.6790 - val_loss: 0.6373 - val_tp: 1030.0000 - val_fp: 569.0000 - val_tn: 1027.0000 - val_fn: 566.0000 - val_accuracy: 0.6444 - val_precision: 0.6442 - val_recall: 0.6454 - val_auc: 0.6915 - val_prc: 0.6800 - 9s/epoch - 114ms/step\n",
      "\u001b[2m\u001b[36m(launch_and_fit pid=42754)\u001b[0m This is client:  9\n",
      "\u001b[2m\u001b[36m(launch_and_fit pid=42754)\u001b[0m Loaded data for client:  9 \n",
      "\u001b[2m\u001b[36m(launch_and_fit pid=42754)\u001b[0m Making model:  9\n",
      "\u001b[2m\u001b[36m(launch_and_fit pid=42754)\u001b[0m \u001b[32m [repeated 2x across cluster]\u001b[0m\n",
      "\u001b[2m\u001b[36m(launch_and_fit pid=42754)\u001b[0m Client CID: 9 is done.\n",
      "\u001b[2m\u001b[36m(launch_and_fit pid=42754)\u001b[0m in fit\n",
      "\u001b[2m\u001b[36m(launch_and_fit pid=42754)\u001b[0m in server round:  3\n",
      "\u001b[2m\u001b[36m(launch_and_fit pid=42754)\u001b[0m Epoch 3/3\u001b[32m [repeated 2x across cluster]\u001b[0m\n",
      "\u001b[2m\u001b[36m(launch_and_fit pid=42751)\u001b[0m 83/83 - 5s - loss: 0.6414 - tp: 822.0000 - fp: 455.0000 - tn: 861.0000 - fn: 494.0000 - accuracy: 0.6394 - precision: 0.6437 - recall: 0.6246 - auc: 0.6792 - prc: 0.6876 - val_loss: 0.6349 - val_tp: 997.0000 - val_fp: 530.0000 - val_tn: 1066.0000 - val_fn: 599.0000 - val_accuracy: 0.6463 - val_precision: 0.6529 - val_recall: 0.6247 - val_auc: 0.6972 - val_prc: 0.6865 - 5s/epoch - 63ms/step\u001b[32m [repeated 3x across cluster]\u001b[0m\n",
      "\u001b[2m\u001b[36m(launch_and_fit pid=42754)\u001b[0m \u001b[32m [repeated 2x across cluster]\u001b[0m\n",
      "\u001b[2m\u001b[36m(launch_and_fit pid=42751)\u001b[0m Epoch 3/3\u001b[32m [repeated 2x across cluster]\u001b[0m\n",
      "\u001b[2m\u001b[36m(launch_and_fit pid=42751)\u001b[0m 83/83 - 5s - loss: 0.6383 - tp: 812.0000 - fp: 435.0000 - tn: 881.0000 - fn: 504.0000 - accuracy: 0.6432 - precision: 0.6512 - recall: 0.6170 - auc: 0.6833 - prc: 0.6927 - val_loss: 0.6326 - val_tp: 990.0000 - val_fp: 512.0000 - val_tn: 1084.0000 - val_fn: 606.0000 - val_accuracy: 0.6497 - val_precision: 0.6591 - val_recall: 0.6203 - val_auc: 0.7021 - val_prc: 0.6905 - 5s/epoch - 65ms/step\n",
      "\u001b[2m\u001b[36m(launch_and_fit pid=42751)\u001b[0m This is client:  10\n",
      "\u001b[2m\u001b[36m(launch_and_fit pid=42751)\u001b[0m Loaded data for client:  10 \n",
      "\u001b[2m\u001b[36m(launch_and_fit pid=42751)\u001b[0m Making model:  10\n",
      "\u001b[2m\u001b[36m(launch_and_fit pid=42751)\u001b[0m Client CID: 10 is done.\n",
      "\u001b[2m\u001b[36m(launch_and_fit pid=42751)\u001b[0m in fit\n",
      "\u001b[2m\u001b[36m(launch_and_fit pid=42751)\u001b[0m in server round:  3\n",
      "\u001b[2m\u001b[36m(launch_and_fit pid=42754)\u001b[0m 67/67 - 8s - loss: 0.5662 - tp: 806.0000 - fp: 346.0000 - tn: 712.0000 - fn: 252.0000 - accuracy: 0.7174 - precision: 0.6997 - recall: 0.7618 - auc: 0.7938 - prc: 0.7869 - val_loss: 0.5463 - val_tp: 558.0000 - val_fp: 198.0000 - val_tn: 496.0000 - val_fn: 136.0000 - val_accuracy: 0.7594 - val_precision: 0.7381 - val_recall: 0.8040 - val_auc: 0.8075 - val_prc: 0.7731 - 8s/epoch - 114ms/step\n",
      "\u001b[2m\u001b[36m(launch_and_fit pid=42754)\u001b[0m 67/67 - 4s - loss: 0.5554 - tp: 776.0000 - fp: 320.0000 - tn: 738.0000 - fn: 282.0000 - accuracy: 0.7155 - precision: 0.7080 - recall: 0.7335 - auc: 0.7960 - prc: 0.7906 - val_loss: 0.5386 - val_tp: 543.0000 - val_fp: 187.0000 - val_tn: 507.0000 - val_fn: 151.0000 - val_accuracy: 0.7565 - val_precision: 0.7438 - val_recall: 0.7824 - val_auc: 0.8085 - val_prc: 0.7767 - 4s/epoch - 59ms/step\n",
      "\u001b[2m\u001b[36m(launch_and_fit pid=42751)\u001b[0m \u001b[32m [repeated 4x across cluster]\u001b[0m\n",
      "\u001b[2m\u001b[36m(launch_and_fit pid=42754)\u001b[0m Epoch 3/3\u001b[32m [repeated 3x across cluster]\u001b[0m\n",
      "\u001b[2m\u001b[36m(launch_and_fit pid=42751)\u001b[0m Epoch 2/3\n",
      "\u001b[2m\u001b[36m(launch_and_fit pid=42754)\u001b[0m 67/67 - 3s - loss: 0.5506 - tp: 781.0000 - fp: 319.0000 - tn: 739.0000 - fn: 277.0000 - accuracy: 0.7183 - precision: 0.7100 - recall: 0.7382 - auc: 0.7991 - prc: 0.7947 - val_loss: 0.5356 - val_tp: 538.0000 - val_fp: 183.0000 - val_tn: 511.0000 - val_fn: 156.0000 - val_accuracy: 0.7558 - val_precision: 0.7462 - val_recall: 0.7752 - val_auc: 0.8099 - val_prc: 0.7798 - 3s/epoch - 48ms/step\n",
      "\u001b[2m\u001b[36m(launch_and_fit pid=42751)\u001b[0m ep\n",
      "\u001b[2m\u001b[36m(launch_and_fit pid=42751)\u001b[0m Epoch 3/3\u001b[32m [repeated 2x across cluster]\u001b[0m\n",
      "\u001b[2m\u001b[36m(launch_and_fit pid=42751)\u001b[0m \n",
      "\u001b[2m\u001b[36m(launch_and_fit pid=42751)\u001b[0m This is client:  20\n",
      "\u001b[2m\u001b[36m(launch_and_fit pid=42751)\u001b[0m Loaded data for client:  20 \n",
      "\u001b[2m\u001b[36m(launch_and_fit pid=42751)\u001b[0m \n",
      "\u001b[2m\u001b[36m(launch_and_fit pid=42751)\u001b[0m Making model:  20\n",
      "\u001b[2m\u001b[36m(launch_and_fit pid=42751)\u001b[0m 41/41 - 2s - loss: 0.4849 - tp: 541.0000 - fp: 175.0000 - tn: 475.0000 - fn: 109.0000 - accuracy: 0.7815 - precision: 0.7556 - recall: 0.8323 - auc: 0.8595 - prc: 0.8446 - val_loss: 0.4575 - val_tp: 225.0000 - val_fp: 59.0000 - val_tn: 193.0000 - val_fn: 27.0000 - val_accuracy: 0.8294 - val_precision: 0.7923 - val_recall: 0.8929 - val_auc: 0.8735 - val_prc: 0.8220 - 2s/epoch - 49ms/step\u001b[32m [repeated 2x across cluster]\u001b[0m\n",
      "\u001b[2m\u001b[36m(launch_and_fit pid=42751)\u001b[0m \n",
      "\u001b[2m\u001b[36m(launch_and_fit pid=42751)\u001b[0m Client CID: 20 is done.\n",
      "\u001b[2m\u001b[36m(launch_and_fit pid=42751)\u001b[0m \n",
      "\u001b[2m\u001b[36m(launch_and_fit pid=42751)\u001b[0m in fit\n",
      "\u001b[2m\u001b[36m(launch_and_fit pid=42751)\u001b[0m in server round:  3\n",
      "\u001b[2m\u001b[36m(launch_and_fit pid=42751)\u001b[0m Epoch 1/3\n",
      "\u001b[2m\u001b[36m(launch_and_fit pid=42754)\u001b[0m \u001b[32m [repeated 4x across cluster]\u001b[0m\n",
      "\u001b[2m\u001b[36m(launch_and_fit pid=42754)\u001b[0m Epoch 1/3\n",
      "\u001b[2m\u001b[36m(launch_and_fit pid=42754)\u001b[0m Epoch 1/3\n",
      "\u001b[2m\u001b[36m(launch_and_fit pid=42754)\u001b[0m Epoch 1/3\n",
      "\u001b[2m\u001b[36m(launch_and_fit pid=42754)\u001b[0m Epoch 1/3\n",
      "\u001b[2m\u001b[36m(launch_and_fit pid=42754)\u001b[0m Epoch 1/3\n",
      "\u001b[2m\u001b[36m(launch_and_fit pid=42754)\u001b[0m Epoch 1/3\n",
      "\u001b[2m\u001b[36m(launch_and_fit pid=42754)\u001b[0m Epoch 1/3\n",
      "\u001b[2m\u001b[36m(launch_and_fit pid=42751)\u001b[0m 103/103 - 13s - loss: 0.6499 - tp: 1020.0000 - fp: 580.0000 - tn: 1059.0000 - fn: 619.0000 - accuracy: 0.6342 - precision: 0.6375 - recall: 0.6223 - auc: 0.6679 - prc: 0.6530 - val_loss: 0.6305 - val_tp: 968.0000 - val_fp: 527.0000 - val_tn: 801.0000 - val_fn: 360.0000 - val_accuracy: 0.6660 - val_precision: 0.6475 - val_recall: 0.7289 - val_auc: 0.7027 - val_prc: 0.6687 - 13s/epoch - 125ms/step\n",
      "\u001b[2m\u001b[36m(launch_and_fit pid=42751)\u001b[0m Epoch 2/3\n",
      "\u001b[2m\u001b[36m(launch_and_fit pid=42754)\u001b[0m 47/47 - 3s - loss: 0.5227 - tp: 601.0000 - fp: 220.0000 - tn: 522.0000 - fn: 141.0000 - accuracy: 0.7567 - precision: 0.7320 - recall: 0.8100 - auc: 0.8229 - prc: 0.8026 - val_loss: 0.4813 - val_tp: 210.0000 - val_fp: 70.0000 - val_tn: 176.0000 - val_fn: 36.0000 - val_accuracy: 0.7846 - val_precision: 0.7500 - val_recall: 0.8537 - val_auc: 0.8620 - val_prc: 0.8389 - 3s/epoch - 60ms/step\u001b[32m [repeated 3x across cluster]\u001b[0m\n",
      "\u001b[2m\u001b[36m(launch_and_fit pid=42754)\u001b[0m Epoch 3/3\u001b[32m [repeated 2x across cluster]\u001b[0m\n",
      "\u001b[2m\u001b[36m(launch_and_fit pid=42751)\u001b[0m 103/103 - 5s - loss: 0.6424 - tp: 1037.0000 - fp: 562.0000 - tn: 1077.0000 - fn: 602.0000 - accuracy: 0.6449 - precision: 0.6485 - recall: 0.6327 - auc: 0.6793 - prc: 0.6688 - val_loss: 0.6244 - val_tp: 958.0000 - val_fp: 511.0000 - val_tn: 817.0000 - val_fn: 370.0000 - val_accuracy: 0.6683 - val_precision: 0.6521 - val_recall: 0.7214 - val_auc: 0.7159 - val_prc: 0.6982 - 5s/epoch - 49ms/step\u001b[32m [repeated 2x across cluster]\u001b[0m\n",
      "\u001b[2m\u001b[36m(launch_and_fit pid=42751)\u001b[0m 103/103 - 5s - loss: 0.6424 - tp: 1037.0000 - fp: 562.0000 - tn: 1077.0000 - fn: 602.0000 - accuracy: 0.6449 - precision: 0.6485 - recall: 0.6327 - auc: 0.6793 - prc: 0.6688 - val_loss: 0.6244 - val_tp: 958.0000 - val_fp: 511.0000 - val_tn: 817.0000 - val_fn: 370.0000 - val_accuracy: 0.6683 - val_precision: 0.6521 - val_recall: 0.7214 - val_auc: 0.7159 - val_prc: 0.6982 - 5s/epoch - 49ms/step\n",
      "\u001b[2m\u001b[36m(launch_and_fit pid=42751)\u001b[0m \n",
      "\u001b[2m\u001b[36m(launch_and_fit pid=42751)\u001b[0m This is client:  11\n",
      "\u001b[2m\u001b[36m(launch_and_fit pid=42751)\u001b[0m Loaded data for client:  11 \n",
      "\u001b[2m\u001b[36m(launch_and_fit pid=42751)\u001b[0m \n",
      "\u001b[2m\u001b[36m(launch_and_fit pid=42751)\u001b[0m Making model:  11\n",
      "\u001b[2m\u001b[36m(launch_and_fit pid=42751)\u001b[0m \n",
      "\u001b[2m\u001b[36m(launch_and_fit pid=42751)\u001b[0m Client CID: 11 is done.\n",
      "\u001b[2m\u001b[36m(launch_and_fit pid=42751)\u001b[0m \n",
      "\u001b[2m\u001b[36m(launch_and_fit pid=42751)\u001b[0m in fit\n",
      "\u001b[2m\u001b[36m(launch_and_fit pid=42751)\u001b[0m in server round:  3\n",
      "\u001b[2m\u001b[36m(launch_and_fit pid=42751)\u001b[0m Epoch 1/3\n",
      "\u001b[2m\u001b[36m(launch_and_fit pid=42751)\u001b[0m 31/31 - 6s - loss: 0.5993 - tp: 338.0000 - fp: 145.0000 - tn: 349.0000 - fn: 156.0000 - accuracy: 0.6953 - precision: 0.6998 - recall: 0.6842 - auc: 0.7452 - prc: 0.7339 - val_loss: 0.5746 - val_tp: 303.0000 - val_fp: 115.0000 - val_tn: 286.0000 - val_fn: 98.0000 - val_accuracy: 0.7344 - val_precision: 0.7249 - val_recall: 0.7556 - val_auc: 0.7799 - val_prc: 0.7633 - 6s/epoch - 178ms/step\n",
      "\u001b[2m\u001b[36m(launch_and_fit pid=42751)\u001b[0m Epoch 2/3\n",
      "\u001b[2m\u001b[36m(launch_and_fit pid=42751)\u001b[0m 31/31 - 1s - loss: 0.5957 - tp: 347.0000 - fp: 150.0000 - tn: 344.0000 - fn: 147.0000 - accuracy: 0.6994 - precision: 0.6982 - recall: 0.7024 - auc: 0.7453 - prc: 0.7276 - val_loss: 0.5708 - val_tp: 308.0000 - val_fp: 117.0000 - val_tn: 284.0000 - val_fn: 93.0000 - val_accuracy: 0.7382 - val_precision: 0.7247 - val_recall: 0.7681 - val_auc: 0.7776 - val_prc: 0.7605 - 1s/epoch - 43ms/step\n",
      "\u001b[2m\u001b[36m(launch_and_fit pid=42751)\u001b[0m Epoch 3/3\n",
      "\u001b[2m\u001b[36m(launch_and_fit pid=42751)\u001b[0m 31/31 - 3s - loss: 0.5930 - tp: 340.0000 - fp: 146.0000 - tn: 348.0000 - fn: 154.0000 - accuracy: 0.6964 - precision: 0.6996 - recall: 0.6883 - auc: 0.7470 - prc: 0.7323 - val_loss: 0.5697 - val_tp: 292.0000 - val_fp: 110.0000 - val_tn: 291.0000 - val_fn: 109.0000 - val_accuracy: 0.7269 - val_precision: 0.7264 - val_recall: 0.7282 - val_auc: 0.7780 - val_prc: 0.7619 - 3s/epoch - 83ms/step\n",
      "\u001b[2m\u001b[36m(launch_and_fit pid=42751)\u001b[0m \n",
      "\u001b[2m\u001b[36m(launch_and_fit pid=42751)\u001b[0m This is client:  2\n",
      "\u001b[2m\u001b[36m(launch_and_fit pid=42751)\u001b[0m Loaded data for client:  2 \n",
      "\u001b[2m\u001b[36m(launch_and_fit pid=42751)\u001b[0m \n",
      "\u001b[2m\u001b[36m(launch_and_fit pid=42751)\u001b[0m Making model:  2\n",
      "\u001b[2m\u001b[36m(launch_and_fit pid=42751)\u001b[0m \n",
      "\u001b[2m\u001b[36m(launch_and_fit pid=42751)\u001b[0m Client CID: 2 is done.\n",
      "\u001b[2m\u001b[36m(launch_and_fit pid=42751)\u001b[0m \n",
      "\u001b[2m\u001b[36m(launch_and_fit pid=42751)\u001b[0m in fit\n",
      "\u001b[2m\u001b[36m(launch_and_fit pid=42751)\u001b[0m in server round:  3\n",
      "\u001b[2m\u001b[36m(launch_and_fit pid=42751)\u001b[0m Epoch 1/3\n",
      "\u001b[2m\u001b[36m(launch_and_fit pid=42751)\u001b[0m 43/43 - 5s - loss: 0.5666 - tp: 520.0000 - fp: 218.0000 - tn: 465.0000 - fn: 163.0000 - accuracy: 0.7211 - precision: 0.7046 - recall: 0.7613 - auc: 0.7974 - prc: 0.8036 - val_loss: 0.5928 - val_tp: 263.0000 - val_fp: 120.0000 - val_tn: 237.0000 - val_fn: 94.0000 - val_accuracy: 0.7003 - val_precision: 0.6867 - val_recall: 0.7367 - val_auc: 0.7524 - val_prc: 0.7221 - 5s/epoch - 127ms/step\n",
      "\u001b[2m\u001b[36m(launch_and_fit pid=42751)\u001b[0m Epoch 2/3\n",
      "\u001b[2m\u001b[36m(launch_and_fit pid=42751)\u001b[0m 43/43 - 2s - loss: 0.5565 - tp: 512.0000 - fp: 214.0000 - tn: 469.0000 - fn: 171.0000 - accuracy: 0.7182 - precision: 0.7052 - recall: 0.7496 - auc: 0.7978 - prc: 0.8025 - val_loss: 0.5906 - val_tp: 259.0000 - val_fp: 112.0000 - val_tn: 245.0000 - val_fn: 98.0000 - val_accuracy: 0.7059 - val_precision: 0.6981 - val_recall: 0.7255 - val_auc: 0.7529 - val_prc: 0.7209 - 2s/epoch - 40ms/step\n",
      "\u001b[2m\u001b[36m(launch_and_fit pid=42751)\u001b[0m Epoch 3/3\n"
     ]
    },
    {
     "name": "stderr",
     "output_type": "stream",
     "text": [
      "DEBUG flwr 2023-06-09 17:55:33,265 | server.py:232 | fit_round 3 received 18 results and 0 failures\n",
      "DEBUG:flwr:fit_round 3 received 18 results and 0 failures\n",
      "DEBUG flwr 2023-06-09 17:55:33,290 | server.py:168 | evaluate_round 3: strategy sampled 6 clients (out of 24)\n",
      "DEBUG:flwr:evaluate_round 3: strategy sampled 6 clients (out of 24)\n"
     ]
    },
    {
     "name": "stdout",
     "output_type": "stream",
     "text": [
      "\u001b[2m\u001b[36m(launch_and_fit pid=42751)\u001b[0m 43/43 - 2s - loss: 0.5517 - tp: 509.0000 - fp: 203.0000 - tn: 480.0000 - fn: 174.0000 - accuracy: 0.7240 - precision: 0.7149 - recall: 0.7452 - auc: 0.7978 - prc: 0.8000 - val_loss: 0.5895 - val_tp: 254.0000 - val_fp: 104.0000 - val_tn: 253.0000 - val_fn: 103.0000 - val_accuracy: 0.7101 - val_precision: 0.7095 - val_recall: 0.7115 - val_auc: 0.7543 - val_prc: 0.7224 - 2s/epoch - 40ms/step\n",
      "\u001b[2m\u001b[36m(launch_and_evaluate pid=42754)\u001b[0m \n",
      "\u001b[2m\u001b[36m(launch_and_evaluate pid=42754)\u001b[0m This is client:  19\n",
      "\u001b[2m\u001b[36m(launch_and_evaluate pid=42754)\u001b[0m Loaded data for client:  19 \n",
      "\u001b[2m\u001b[36m(launch_and_evaluate pid=42754)\u001b[0m \n",
      "\u001b[2m\u001b[36m(launch_and_evaluate pid=42754)\u001b[0m Making model:  19\n",
      "\u001b[2m\u001b[36m(launch_and_evaluate pid=42754)\u001b[0m Client CID: 19 is done.\n",
      "\u001b[2m\u001b[36m(launch_and_evaluate pid=42754)\u001b[0m 1440/1440 - 18s - loss: 0.6027 - tp: 238.0000 - fp: 14905.0000 - tn: 30864.0000 - fn: 73.0000 - accuracy: 0.6750 - precision: 0.0157 - recall: 0.7653 - auc: 0.7587 - prc: 0.0162 - 18s/epoch - 13ms/step\n",
      "\u001b[2m\u001b[36m(launch_and_evaluate pid=42754)\u001b[0m Hi, the loss is  0.6027320027351379\n",
      "\u001b[2m\u001b[36m(launch_and_evaluate pid=42751)\u001b[0m \u001b[32m [repeated 6x across cluster]\u001b[0m\n",
      "\u001b[2m\u001b[36m(launch_and_evaluate pid=42751)\u001b[0m Hi, the loss is  0.6027320027351379\n",
      "\u001b[2m\u001b[36m(launch_and_evaluate pid=42751)\u001b[0m Hi, the loss is  0.6027320027351379\n",
      "\u001b[2m\u001b[36m(launch_and_evaluate pid=42751)\u001b[0m Hi, the loss is  0.6027320027351379\n",
      "\u001b[2m\u001b[36m(launch_and_evaluate pid=42751)\u001b[0m Hi, the loss is  0.6027320027351379\n",
      "\u001b[2m\u001b[36m(launch_and_evaluate pid=42751)\u001b[0m This is client:  23\n",
      "\u001b[2m\u001b[36m(launch_and_evaluate pid=42751)\u001b[0m Loaded data for client:  23 \n",
      "\u001b[2m\u001b[36m(launch_and_evaluate pid=42751)\u001b[0m \n",
      "\u001b[2m\u001b[36m(launch_and_evaluate pid=42751)\u001b[0m \n",
      "\u001b[2m\u001b[36m(launch_and_evaluate pid=42751)\u001b[0m \u001b[32m [repeated 2x across cluster]\u001b[0m\n",
      "\u001b[2m\u001b[36m(launch_and_evaluate pid=42751)\u001b[0m Making model:  23\n",
      "\u001b[2m\u001b[36m(launch_and_evaluate pid=42751)\u001b[0m Client CID: 23 is done.\n",
      "\u001b[2m\u001b[36m(launch_and_evaluate pid=42754)\u001b[0m 1440/1440 - 16s - loss: 0.6017 - tp: 574.0000 - fp: 14352.0000 - tn: 30854.0000 - fn: 300.0000 - accuracy: 0.6820 - precision: 0.0385 - recall: 0.6568 - auc: 0.7120 - prc: 0.0347 - 16s/epoch - 11ms/step\n",
      "\u001b[2m\u001b[36m(launch_and_evaluate pid=42754)\u001b[0m Hi, the loss is  0.6017048954963684\n",
      "\u001b[2m\u001b[36m(launch_and_evaluate pid=42754)\u001b[0m Hi, the loss is  0.6017048954963684\n",
      "\u001b[2m\u001b[36m(launch_and_evaluate pid=42754)\u001b[0m Hi, the loss is  0.6017048954963684\n",
      "\u001b[2m\u001b[36m(launch_and_evaluate pid=42754)\u001b[0m \u001b[32m [repeated 6x across cluster]\u001b[0m\n",
      "\u001b[2m\u001b[36m(launch_and_evaluate pid=42754)\u001b[0m Hi, the loss is  0.6017048954963684\n",
      "\u001b[2m\u001b[36m(launch_and_evaluate pid=42754)\u001b[0m Hi, the loss is  0.6017048954963684\n",
      "\u001b[2m\u001b[36m(launch_and_evaluate pid=42751)\u001b[0m This is client:  9\n",
      "\u001b[2m\u001b[36m(launch_and_evaluate pid=42751)\u001b[0m Loaded data for client:  9 \n",
      "\u001b[2m\u001b[36m(launch_and_evaluate pid=42751)\u001b[0m Making model:  9\n",
      "\u001b[2m\u001b[36m(launch_and_evaluate pid=42751)\u001b[0m Client CID: 9 is done.\n"
     ]
    },
    {
     "name": "stderr",
     "output_type": "stream",
     "text": [
      "DEBUG flwr 2023-06-09 17:57:44,579 | server.py:182 | evaluate_round 3 received 6 results and 0 failures\n",
      "DEBUG:flwr:evaluate_round 3 received 6 results and 0 failures\n",
      "INFO flwr 2023-06-09 17:57:44,582 | server.py:147 | FL finished in 1347.763735433\n",
      "INFO:flwr:FL finished in 1347.763735433\n",
      "INFO flwr 2023-06-09 17:57:44,585 | app.py:218 | app_fit: losses_distributed [(1, 0.6456963047236771), (2, 0.6226884936722455), (3, 0.6001743322193792)]\n",
      "INFO:flwr:app_fit: losses_distributed [(1, 0.6456963047236771), (2, 0.6226884936722455), (3, 0.6001743322193792)]\n",
      "INFO flwr 2023-06-09 17:57:44,589 | app.py:219 | app_fit: metrics_distributed_fit {}\n",
      "INFO:flwr:app_fit: metrics_distributed_fit {}\n",
      "INFO flwr 2023-06-09 17:57:44,592 | app.py:220 | app_fit: metrics_distributed {'tp': [(1, 357.52979532693354), (2, 364.44397053121367), (3, 336.49396797543324)], 'fp': [(1, 17301.651512407174), (2, 15380.034897246995), (3, 14506.793375740293)], 'tn': [(1, 28276.340518022098), (2, 30184.709965102753), (3, 31077.09453827594)], 'fn': [(1, 144.47817424379642), (2, 150.81116711903837), (3, 159.61811800833516)], 'accuracy': [(1, 0.6213947700927318), (2, 0.6629590720065391), (3, 0.6817185088688147)], 'precision': [(1, 0.02010654716056972), (2, 0.02309072491365834), (3, 0.0226216552408102)], 'recall': [(1, 0.722891224529665), (2, 0.7197841174984311), (3, 0.6962470502073134)], 'auc': [(1, 0.7095839762208341), (2, 0.7373568128365424), (3, 0.7329818432622375)], 'prc': [(1, 0.020448983148120922), (2, 0.023822625014553955), (3, 0.023046447775553626)]}\n",
      "INFO:flwr:app_fit: metrics_distributed {'tp': [(1, 357.52979532693354), (2, 364.44397053121367), (3, 336.49396797543324)], 'fp': [(1, 17301.651512407174), (2, 15380.034897246995), (3, 14506.793375740293)], 'tn': [(1, 28276.340518022098), (2, 30184.709965102753), (3, 31077.09453827594)], 'fn': [(1, 144.47817424379642), (2, 150.81116711903837), (3, 159.61811800833516)], 'accuracy': [(1, 0.6213947700927318), (2, 0.6629590720065391), (3, 0.6817185088688147)], 'precision': [(1, 0.02010654716056972), (2, 0.02309072491365834), (3, 0.0226216552408102)], 'recall': [(1, 0.722891224529665), (2, 0.7197841174984311), (3, 0.6962470502073134)], 'auc': [(1, 0.7095839762208341), (2, 0.7373568128365424), (3, 0.7329818432622375)], 'prc': [(1, 0.020448983148120922), (2, 0.023822625014553955), (3, 0.023046447775553626)]}\n",
      "INFO flwr 2023-06-09 17:57:44,595 | app.py:221 | app_fit: losses_centralized []\n",
      "INFO:flwr:app_fit: losses_centralized []\n",
      "INFO flwr 2023-06-09 17:57:44,597 | app.py:222 | app_fit: metrics_centralized {}\n",
      "INFO:flwr:app_fit: metrics_centralized {}\n"
     ]
    },
    {
     "name": "stdout",
     "output_type": "stream",
     "text": [
      "\u001b[2m\u001b[36m(launch_and_evaluate pid=42754)\u001b[0m 1440/1440 - 15s - loss: 0.5859 - tp: 80.0000 - fp: 12758.0000 - tn: 33210.0000 - fn: 32.0000 - accuracy: 0.7224 - precision: 0.0062 - recall: 0.7143 - auc: 0.7745 - prc: 0.0079 - 15s/epoch - 10ms/step\u001b[32m [repeated 2x across cluster]\u001b[0m\n",
      "\u001b[2m\u001b[36m(launch_and_evaluate pid=42754)\u001b[0m Hi, the loss is  0.5859057307243347\u001b[32m [repeated 2x across cluster]\u001b[0m\n",
      "\u001b[2m\u001b[36m(launch_and_evaluate pid=42754)\u001b[0m \u001b[32m [repeated 8x across cluster]\u001b[0m\n",
      "\u001b[2m\u001b[36m(launch_and_evaluate pid=42754)\u001b[0m Hi, the loss is  0.5859057307243347\n",
      "\u001b[2m\u001b[36m(launch_and_evaluate pid=42754)\u001b[0m Hi, the loss is  0.5859057307243347\n",
      "\u001b[2m\u001b[36m(launch_and_evaluate pid=42754)\u001b[0m Hi, the loss is  0.5859057307243347\n",
      "\u001b[2m\u001b[36m(launch_and_evaluate pid=42754)\u001b[0m Hi, the loss is  0.5859057307243347\n"
     ]
    }
   ],
   "source": [
    "#change the number of epochs from single server to federated\n",
    "epochs = fl_epochs\n",
    "\n",
    "# Create FedAvg strategy\n",
    "strategy = fl.server.strategy.FedAvg(\n",
    "    fraction_fit=0.75,  # Sample 10% of available clients for training\n",
    "    fraction_evaluate=0.25,  # Sample 5% of available clients for evaluation\n",
    "    min_fit_clients=12,  # Never sample less than 10 clients for training\n",
    "    min_evaluate_clients=6,  # Never sample less than 5 clients for evaluation\n",
    "    min_available_clients=12,  # Wait until at least 75 clients are available\n",
    "    evaluate_metrics_aggregation_fn=weighted_average,  # <-- pass the metric aggregation function\n",
    "    on_fit_config_fn=fit_config, # Pass the fit_config function\n",
    ")\n",
    "\n",
    "# Start simulation\n",
    "fl_history = fl.simulation.start_simulation(\n",
    "    client_fn=client_fn,\n",
    "    num_clients=NUM_CLIENTS,\n",
    "    config=fl.server.ServerConfig(num_rounds=num_rounds),\n",
    "    strategy=strategy,\n",
    ")\n"
   ]
  },
  {
   "cell_type": "code",
   "execution_count": 77,
   "id": "3k_RRbmubwO5",
   "metadata": {
    "colab": {
     "base_uri": "https://localhost:8080/"
    },
    "executionInfo": {
     "elapsed": 150,
     "status": "ok",
     "timestamp": 1686334115036,
     "user": {
      "displayName": "Richard Purcell",
      "userId": "01205565732471442549"
     },
     "user_tz": 180
    },
    "id": "3k_RRbmubwO5",
    "outputId": "16616cbf-c630-4a19-e336-20980e5fb0dd"
   },
   "outputs": [
    {
     "name": "stdout",
     "output_type": "stream",
     "text": [
      "                  single_server   distributed\n",
      "tp                   930.000000    336.493968\n",
      "fp                 12505.000000  14506.793376\n",
      "tn                 32214.000000  31077.094538\n",
      "fn                   431.000000    159.618118\n",
      "accuracy               0.719271      0.681719\n",
      "precision              0.069222      0.022622\n",
      "recall                 0.683321      0.696247\n",
      "auc                    0.757354      0.732982\n",
      "prc                    0.084407      0.023046\n",
      "epochs                10.000000      3.000000\n",
      "rounds                 1.000000      3.000000\n",
      "train_clients          1.000000     18.000000\n",
      "evaluate_clients       1.000000      6.000000\n",
      "\n",
      "Writing out results.\n"
     ]
    }
   ],
   "source": [
    "#TODO: This whole cell needs to be cleaned up\n",
    "# Write out the results of evaluation.\n",
    "\n",
    "count = 0\n",
    "for key in (fl_history.metrics_distributed):\n",
    "    results[count][1] = fl_history.metrics_distributed[key][(num_rounds-1):][0][1]\n",
    "    count += 1\n",
    "count = 0\n",
    "results[9][1] = fl_epochs\n",
    "results[10][1] = num_rounds\n",
    "results[11][1] = NUM_CLIENTS * 0.75\n",
    "results[12][1] = NUM_CLIENTS * 0.25\n",
    "\n",
    "file = results_path + \"history\" + \"_\" + datetime.datetime.now().strftime(\"%Y%m%d-%H%M%S\") + \".csv\"\n",
    "results_out = pd.DataFrame(results)\n",
    "results_out.columns = ['single_server', 'distributed']\n",
    "results_out.index = ['tp', 'fp', 'tn', 'fn', 'accuracy', 'precision', 'recall', 'auc', 'prc', 'epochs', 'rounds', 'train_clients', 'evaluate_clients']\n",
    "print(results_out)\n",
    "pd.DataFrame(results_out).to_csv(file)\n",
    "print(\"\\nWriting out results.\")"
   ]
  }
 ],
 "metadata": {
  "colab": {
   "machine_shape": "hm",
   "provenance": [
    {
     "file_id": "1CI1lVRbp876pTrMuIKUNjjm4XCty69Qt",
     "timestamp": 1685991490411
    }
   ]
  },
  "kernelspec": {
   "display_name": "Python 3 (ipykernel)",
   "language": "python",
   "name": "python3"
  },
  "language_info": {
   "codemirror_mode": {
    "name": "ipython",
    "version": 3
   },
   "file_extension": ".py",
   "mimetype": "text/x-python",
   "name": "python",
   "nbconvert_exporter": "python",
   "pygments_lexer": "ipython3",
   "version": "3.8.16"
  }
 },
 "nbformat": 4,
 "nbformat_minor": 5
}
